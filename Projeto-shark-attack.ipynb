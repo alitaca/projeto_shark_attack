{
 "cells": [
  {
   "cell_type": "markdown",
   "id": "disturbed-number",
   "metadata": {},
   "source": [
    "# Projeto: Shark Attack\n",
    "\n",
    "Objetivos:\n",
    "- Descobrir se há alguma indícios de perigosidade de algum dos oceanos\n",
    "- Identificar quais informações são relevantes para este estudo\n",
    "- Identificar se há correlação entre os ataques de tubarões e/ou fatalidades e a região do ataque"
   ]
  },
  {
   "cell_type": "markdown",
   "id": "focused-warehouse",
   "metadata": {},
   "source": [
    "## Importação de bibliotecas e dados externos"
   ]
  },
  {
   "cell_type": "code",
   "execution_count": 1,
   "id": "generic-congress",
   "metadata": {
    "ExecuteTime": {
     "end_time": "2021-04-06T18:48:32.811683Z",
     "start_time": "2021-04-06T18:48:32.175383Z"
    }
   },
   "outputs": [],
   "source": [
    "import pandas as pd\n",
    "import re\n",
    "from matplotlib import pyplot as plt"
   ]
  },
  {
   "cell_type": "code",
   "execution_count": 2,
   "id": "frank-sunday",
   "metadata": {
    "ExecuteTime": {
     "end_time": "2021-04-06T18:48:33.001198Z",
     "start_time": "2021-04-06T18:48:32.815689Z"
    }
   },
   "outputs": [
    {
     "data": {
      "text/html": [
       "<div>\n",
       "<style scoped>\n",
       "    .dataframe tbody tr th:only-of-type {\n",
       "        vertical-align: middle;\n",
       "    }\n",
       "\n",
       "    .dataframe tbody tr th {\n",
       "        vertical-align: top;\n",
       "    }\n",
       "\n",
       "    .dataframe thead th {\n",
       "        text-align: right;\n",
       "    }\n",
       "</style>\n",
       "<table border=\"1\" class=\"dataframe\">\n",
       "  <thead>\n",
       "    <tr style=\"text-align: right;\">\n",
       "      <th></th>\n",
       "      <th>Case Number</th>\n",
       "      <th>Date</th>\n",
       "      <th>Year</th>\n",
       "      <th>Type</th>\n",
       "      <th>Country</th>\n",
       "      <th>Area</th>\n",
       "      <th>Location</th>\n",
       "      <th>Activity</th>\n",
       "      <th>Name</th>\n",
       "      <th>Sex</th>\n",
       "      <th>...</th>\n",
       "      <th>Species</th>\n",
       "      <th>Investigator or Source</th>\n",
       "      <th>pdf</th>\n",
       "      <th>href formula</th>\n",
       "      <th>href</th>\n",
       "      <th>Case Number.1</th>\n",
       "      <th>Case Number.2</th>\n",
       "      <th>original order</th>\n",
       "      <th>Unnamed: 22</th>\n",
       "      <th>Unnamed: 23</th>\n",
       "    </tr>\n",
       "  </thead>\n",
       "  <tbody>\n",
       "    <tr>\n",
       "      <th>25718</th>\n",
       "      <td>NaN</td>\n",
       "      <td>NaN</td>\n",
       "      <td>NaN</td>\n",
       "      <td>NaN</td>\n",
       "      <td>NaN</td>\n",
       "      <td>NaN</td>\n",
       "      <td>NaN</td>\n",
       "      <td>NaN</td>\n",
       "      <td>NaN</td>\n",
       "      <td>NaN</td>\n",
       "      <td>...</td>\n",
       "      <td>NaN</td>\n",
       "      <td>NaN</td>\n",
       "      <td>NaN</td>\n",
       "      <td>NaN</td>\n",
       "      <td>NaN</td>\n",
       "      <td>NaN</td>\n",
       "      <td>NaN</td>\n",
       "      <td>NaN</td>\n",
       "      <td>NaN</td>\n",
       "      <td>NaN</td>\n",
       "    </tr>\n",
       "    <tr>\n",
       "      <th>25719</th>\n",
       "      <td>NaN</td>\n",
       "      <td>NaN</td>\n",
       "      <td>NaN</td>\n",
       "      <td>NaN</td>\n",
       "      <td>NaN</td>\n",
       "      <td>NaN</td>\n",
       "      <td>NaN</td>\n",
       "      <td>NaN</td>\n",
       "      <td>NaN</td>\n",
       "      <td>NaN</td>\n",
       "      <td>...</td>\n",
       "      <td>NaN</td>\n",
       "      <td>NaN</td>\n",
       "      <td>NaN</td>\n",
       "      <td>NaN</td>\n",
       "      <td>NaN</td>\n",
       "      <td>NaN</td>\n",
       "      <td>NaN</td>\n",
       "      <td>NaN</td>\n",
       "      <td>NaN</td>\n",
       "      <td>NaN</td>\n",
       "    </tr>\n",
       "    <tr>\n",
       "      <th>25720</th>\n",
       "      <td>NaN</td>\n",
       "      <td>NaN</td>\n",
       "      <td>NaN</td>\n",
       "      <td>NaN</td>\n",
       "      <td>NaN</td>\n",
       "      <td>NaN</td>\n",
       "      <td>NaN</td>\n",
       "      <td>NaN</td>\n",
       "      <td>NaN</td>\n",
       "      <td>NaN</td>\n",
       "      <td>...</td>\n",
       "      <td>NaN</td>\n",
       "      <td>NaN</td>\n",
       "      <td>NaN</td>\n",
       "      <td>NaN</td>\n",
       "      <td>NaN</td>\n",
       "      <td>NaN</td>\n",
       "      <td>NaN</td>\n",
       "      <td>NaN</td>\n",
       "      <td>NaN</td>\n",
       "      <td>NaN</td>\n",
       "    </tr>\n",
       "    <tr>\n",
       "      <th>25721</th>\n",
       "      <td>NaN</td>\n",
       "      <td>NaN</td>\n",
       "      <td>NaN</td>\n",
       "      <td>NaN</td>\n",
       "      <td>NaN</td>\n",
       "      <td>NaN</td>\n",
       "      <td>NaN</td>\n",
       "      <td>NaN</td>\n",
       "      <td>NaN</td>\n",
       "      <td>NaN</td>\n",
       "      <td>...</td>\n",
       "      <td>NaN</td>\n",
       "      <td>NaN</td>\n",
       "      <td>NaN</td>\n",
       "      <td>NaN</td>\n",
       "      <td>NaN</td>\n",
       "      <td>NaN</td>\n",
       "      <td>NaN</td>\n",
       "      <td>NaN</td>\n",
       "      <td>NaN</td>\n",
       "      <td>NaN</td>\n",
       "    </tr>\n",
       "    <tr>\n",
       "      <th>25722</th>\n",
       "      <td>xx</td>\n",
       "      <td>NaN</td>\n",
       "      <td>NaN</td>\n",
       "      <td>NaN</td>\n",
       "      <td>NaN</td>\n",
       "      <td>NaN</td>\n",
       "      <td>NaN</td>\n",
       "      <td>NaN</td>\n",
       "      <td>NaN</td>\n",
       "      <td>NaN</td>\n",
       "      <td>...</td>\n",
       "      <td>NaN</td>\n",
       "      <td>NaN</td>\n",
       "      <td>NaN</td>\n",
       "      <td>NaN</td>\n",
       "      <td>NaN</td>\n",
       "      <td>NaN</td>\n",
       "      <td>NaN</td>\n",
       "      <td>NaN</td>\n",
       "      <td>NaN</td>\n",
       "      <td>NaN</td>\n",
       "    </tr>\n",
       "  </tbody>\n",
       "</table>\n",
       "<p>5 rows × 24 columns</p>\n",
       "</div>"
      ],
      "text/plain": [
       "      Case Number Date  Year Type Country Area Location Activity Name Sex   \\\n",
       "25718         NaN  NaN   NaN  NaN     NaN  NaN      NaN      NaN  NaN  NaN   \n",
       "25719         NaN  NaN   NaN  NaN     NaN  NaN      NaN      NaN  NaN  NaN   \n",
       "25720         NaN  NaN   NaN  NaN     NaN  NaN      NaN      NaN  NaN  NaN   \n",
       "25721         NaN  NaN   NaN  NaN     NaN  NaN      NaN      NaN  NaN  NaN   \n",
       "25722          xx  NaN   NaN  NaN     NaN  NaN      NaN      NaN  NaN  NaN   \n",
       "\n",
       "       ... Species  Investigator or Source  pdf href formula href  \\\n",
       "25718  ...      NaN                    NaN  NaN          NaN  NaN   \n",
       "25719  ...      NaN                    NaN  NaN          NaN  NaN   \n",
       "25720  ...      NaN                    NaN  NaN          NaN  NaN   \n",
       "25721  ...      NaN                    NaN  NaN          NaN  NaN   \n",
       "25722  ...      NaN                    NaN  NaN          NaN  NaN   \n",
       "\n",
       "      Case Number.1 Case Number.2 original order Unnamed: 22 Unnamed: 23  \n",
       "25718           NaN           NaN            NaN         NaN         NaN  \n",
       "25719           NaN           NaN            NaN         NaN         NaN  \n",
       "25720           NaN           NaN            NaN         NaN         NaN  \n",
       "25721           NaN           NaN            NaN         NaN         NaN  \n",
       "25722           NaN           NaN            NaN         NaN         NaN  \n",
       "\n",
       "[5 rows x 24 columns]"
      ]
     },
     "execution_count": 2,
     "metadata": {},
     "output_type": "execute_result"
    }
   ],
   "source": [
    "shark_attack = pd.read_csv('archive.zip', compression='zip', encoding='ansi')\n",
    "shark_attack.tail()"
   ]
  },
  {
   "cell_type": "markdown",
   "id": "private-briefing",
   "metadata": {},
   "source": [
    "### Verificando DataFrame"
   ]
  },
  {
   "cell_type": "code",
   "execution_count": 3,
   "id": "distant-heart",
   "metadata": {
    "ExecuteTime": {
     "end_time": "2021-04-06T18:48:33.049045Z",
     "start_time": "2021-04-06T18:48:33.003168Z"
    }
   },
   "outputs": [
    {
     "name": "stdout",
     "output_type": "stream",
     "text": [
      "<class 'pandas.core.frame.DataFrame'>\n",
      "RangeIndex: 25723 entries, 0 to 25722\n",
      "Data columns (total 24 columns):\n",
      " #   Column                  Non-Null Count  Dtype  \n",
      "---  ------                  --------------  -----  \n",
      " 0   Case Number             8702 non-null   object \n",
      " 1   Date                    6302 non-null   object \n",
      " 2   Year                    6300 non-null   float64\n",
      " 3   Type                    6298 non-null   object \n",
      " 4   Country                 6252 non-null   object \n",
      " 5   Area                    5847 non-null   object \n",
      " 6   Location                5762 non-null   object \n",
      " 7   Activity                5758 non-null   object \n",
      " 8   Name                    6092 non-null   object \n",
      " 9   Sex                     5737 non-null   object \n",
      " 10  Age                     3471 non-null   object \n",
      " 11  Injury                  6274 non-null   object \n",
      " 12  Fatal (Y/N)             5763 non-null   object \n",
      " 13  Time                    2948 non-null   object \n",
      " 14  Species                 3464 non-null   object \n",
      " 15  Investigator or Source  6285 non-null   object \n",
      " 16  pdf                     6302 non-null   object \n",
      " 17  href formula            6301 non-null   object \n",
      " 18  href                    6302 non-null   object \n",
      " 19  Case Number.1           6302 non-null   object \n",
      " 20  Case Number.2           6302 non-null   object \n",
      " 21  original order          6309 non-null   float64\n",
      " 22  Unnamed: 22             1 non-null      object \n",
      " 23  Unnamed: 23             2 non-null      object \n",
      "dtypes: float64(2), object(22)\n",
      "memory usage: 4.7+ MB\n"
     ]
    }
   ],
   "source": [
    "shark_attack.info()"
   ]
  },
  {
   "cell_type": "code",
   "execution_count": 4,
   "id": "nominated-footage",
   "metadata": {
    "ExecuteTime": {
     "end_time": "2021-04-06T18:48:33.111876Z",
     "start_time": "2021-04-06T18:48:33.051038Z"
    }
   },
   "outputs": [],
   "source": [
    "# aumentando a quantidade de colunas do dataframe a serem visualizadas\n",
    "\n",
    "pd.options.display.max_columns = 25"
   ]
  },
  {
   "cell_type": "code",
   "execution_count": 5,
   "id": "unlikely-prophet",
   "metadata": {
    "ExecuteTime": {
     "end_time": "2021-04-06T18:48:33.190246Z",
     "start_time": "2021-04-06T18:48:33.115865Z"
    }
   },
   "outputs": [
    {
     "data": {
      "text/plain": [
       "Index(['Case Number', 'Date', 'Year', 'Type', 'Country', 'Area', 'Location',\n",
       "       'Activity', 'Name', 'Sex ', 'Age', 'Injury', 'Fatal (Y/N)', 'Time',\n",
       "       'Species ', 'Investigator or Source', 'pdf', 'href formula', 'href',\n",
       "       'Case Number.1', 'Case Number.2', 'original order', 'Unnamed: 22',\n",
       "       'Unnamed: 23'],\n",
       "      dtype='object')"
      ]
     },
     "execution_count": 5,
     "metadata": {},
     "output_type": "execute_result"
    }
   ],
   "source": [
    "# descobrindo erros nos nomes das colunas\n",
    "\n",
    "shark_attack.columns"
   ]
  },
  {
   "cell_type": "markdown",
   "id": "affiliated-mortgage",
   "metadata": {},
   "source": [
    "##  Tratamento de linhas nulas"
   ]
  },
  {
   "cell_type": "code",
   "execution_count": 6,
   "id": "musical-listening",
   "metadata": {
    "ExecuteTime": {
     "end_time": "2021-04-06T18:48:34.095149Z",
     "start_time": "2021-04-06T18:48:33.192240Z"
    }
   },
   "outputs": [],
   "source": [
    "# criando uma coluna com a contagem de nulos em cada linha\n",
    "\n",
    "shark_attack['Vazio'] = shark_attack.T.isnull().sum()"
   ]
  },
  {
   "cell_type": "code",
   "execution_count": 7,
   "id": "imperial-microphone",
   "metadata": {
    "ExecuteTime": {
     "end_time": "2021-04-06T18:48:34.127033Z",
     "start_time": "2021-04-06T18:48:34.097112Z"
    }
   },
   "outputs": [
    {
     "data": {
      "text/html": [
       "<div>\n",
       "<style scoped>\n",
       "    .dataframe tbody tr th:only-of-type {\n",
       "        vertical-align: middle;\n",
       "    }\n",
       "\n",
       "    .dataframe tbody tr th {\n",
       "        vertical-align: top;\n",
       "    }\n",
       "\n",
       "    .dataframe thead th {\n",
       "        text-align: right;\n",
       "    }\n",
       "</style>\n",
       "<table border=\"1\" class=\"dataframe\">\n",
       "  <thead>\n",
       "    <tr style=\"text-align: right;\">\n",
       "      <th></th>\n",
       "      <th>Case Number</th>\n",
       "      <th>Date</th>\n",
       "      <th>Year</th>\n",
       "      <th>Type</th>\n",
       "      <th>Country</th>\n",
       "      <th>Area</th>\n",
       "      <th>Location</th>\n",
       "      <th>Activity</th>\n",
       "      <th>Name</th>\n",
       "      <th>Sex</th>\n",
       "      <th>Age</th>\n",
       "      <th>Injury</th>\n",
       "      <th>Fatal (Y/N)</th>\n",
       "      <th>Time</th>\n",
       "      <th>Species</th>\n",
       "      <th>Investigator or Source</th>\n",
       "      <th>pdf</th>\n",
       "      <th>href formula</th>\n",
       "      <th>href</th>\n",
       "      <th>Case Number.1</th>\n",
       "      <th>Case Number.2</th>\n",
       "      <th>original order</th>\n",
       "      <th>Unnamed: 22</th>\n",
       "      <th>Unnamed: 23</th>\n",
       "      <th>Vazio</th>\n",
       "    </tr>\n",
       "  </thead>\n",
       "  <tbody>\n",
       "    <tr>\n",
       "      <th>0</th>\n",
       "      <td>2018.06.25</td>\n",
       "      <td>25-Jun-2018</td>\n",
       "      <td>2018.0</td>\n",
       "      <td>Boating</td>\n",
       "      <td>USA</td>\n",
       "      <td>California</td>\n",
       "      <td>Oceanside, San Diego County</td>\n",
       "      <td>Paddling</td>\n",
       "      <td>Julie Wolfe</td>\n",
       "      <td>F</td>\n",
       "      <td>57</td>\n",
       "      <td>No injury to occupant, outrigger canoe and pad...</td>\n",
       "      <td>N</td>\n",
       "      <td>18h00</td>\n",
       "      <td>White shark</td>\n",
       "      <td>R. Collier, GSAF</td>\n",
       "      <td>2018.06.25-Wolfe.pdf</td>\n",
       "      <td>http://sharkattackfile.net/spreadsheets/pdf_di...</td>\n",
       "      <td>http://sharkattackfile.net/spreadsheets/pdf_di...</td>\n",
       "      <td>2018.06.25</td>\n",
       "      <td>2018.06.25</td>\n",
       "      <td>6303.0</td>\n",
       "      <td>NaN</td>\n",
       "      <td>NaN</td>\n",
       "      <td>2</td>\n",
       "    </tr>\n",
       "    <tr>\n",
       "      <th>1</th>\n",
       "      <td>2018.06.18</td>\n",
       "      <td>18-Jun-2018</td>\n",
       "      <td>2018.0</td>\n",
       "      <td>Unprovoked</td>\n",
       "      <td>USA</td>\n",
       "      <td>Georgia</td>\n",
       "      <td>St. Simon Island, Glynn County</td>\n",
       "      <td>Standing</td>\n",
       "      <td>Adyson McNeely</td>\n",
       "      <td>F</td>\n",
       "      <td>11</td>\n",
       "      <td>Minor injury to left thigh</td>\n",
       "      <td>N</td>\n",
       "      <td>14h00  -15h00</td>\n",
       "      <td>NaN</td>\n",
       "      <td>K.McMurray, TrackingSharks.com</td>\n",
       "      <td>2018.06.18-McNeely.pdf</td>\n",
       "      <td>http://sharkattackfile.net/spreadsheets/pdf_di...</td>\n",
       "      <td>http://sharkattackfile.net/spreadsheets/pdf_di...</td>\n",
       "      <td>2018.06.18</td>\n",
       "      <td>2018.06.18</td>\n",
       "      <td>6302.0</td>\n",
       "      <td>NaN</td>\n",
       "      <td>NaN</td>\n",
       "      <td>3</td>\n",
       "    </tr>\n",
       "    <tr>\n",
       "      <th>2</th>\n",
       "      <td>2018.06.09</td>\n",
       "      <td>09-Jun-2018</td>\n",
       "      <td>2018.0</td>\n",
       "      <td>Invalid</td>\n",
       "      <td>USA</td>\n",
       "      <td>Hawaii</td>\n",
       "      <td>Habush, Oahu</td>\n",
       "      <td>Surfing</td>\n",
       "      <td>John Denges</td>\n",
       "      <td>M</td>\n",
       "      <td>48</td>\n",
       "      <td>Injury to left lower leg from surfboard skeg</td>\n",
       "      <td>N</td>\n",
       "      <td>07h45</td>\n",
       "      <td>NaN</td>\n",
       "      <td>K.McMurray, TrackingSharks.com</td>\n",
       "      <td>2018.06.09-Denges.pdf</td>\n",
       "      <td>http://sharkattackfile.net/spreadsheets/pdf_di...</td>\n",
       "      <td>http://sharkattackfile.net/spreadsheets/pdf_di...</td>\n",
       "      <td>2018.06.09</td>\n",
       "      <td>2018.06.09</td>\n",
       "      <td>6301.0</td>\n",
       "      <td>NaN</td>\n",
       "      <td>NaN</td>\n",
       "      <td>3</td>\n",
       "    </tr>\n",
       "    <tr>\n",
       "      <th>3</th>\n",
       "      <td>2018.06.08</td>\n",
       "      <td>08-Jun-2018</td>\n",
       "      <td>2018.0</td>\n",
       "      <td>Unprovoked</td>\n",
       "      <td>AUSTRALIA</td>\n",
       "      <td>New South Wales</td>\n",
       "      <td>Arrawarra Headland</td>\n",
       "      <td>Surfing</td>\n",
       "      <td>male</td>\n",
       "      <td>M</td>\n",
       "      <td>NaN</td>\n",
       "      <td>Minor injury to lower leg</td>\n",
       "      <td>N</td>\n",
       "      <td>NaN</td>\n",
       "      <td>2 m shark</td>\n",
       "      <td>B. Myatt, GSAF</td>\n",
       "      <td>2018.06.08-Arrawarra.pdf</td>\n",
       "      <td>http://sharkattackfile.net/spreadsheets/pdf_di...</td>\n",
       "      <td>http://sharkattackfile.net/spreadsheets/pdf_di...</td>\n",
       "      <td>2018.06.08</td>\n",
       "      <td>2018.06.08</td>\n",
       "      <td>6300.0</td>\n",
       "      <td>NaN</td>\n",
       "      <td>NaN</td>\n",
       "      <td>4</td>\n",
       "    </tr>\n",
       "    <tr>\n",
       "      <th>4</th>\n",
       "      <td>2018.06.04</td>\n",
       "      <td>04-Jun-2018</td>\n",
       "      <td>2018.0</td>\n",
       "      <td>Provoked</td>\n",
       "      <td>MEXICO</td>\n",
       "      <td>Colima</td>\n",
       "      <td>La Ticla</td>\n",
       "      <td>Free diving</td>\n",
       "      <td>Gustavo Ramos</td>\n",
       "      <td>M</td>\n",
       "      <td>NaN</td>\n",
       "      <td>Lacerations to leg &amp; hand shark PROVOKED INCIDENT</td>\n",
       "      <td>N</td>\n",
       "      <td>NaN</td>\n",
       "      <td>Tiger shark, 3m</td>\n",
       "      <td>A .Kipper</td>\n",
       "      <td>2018.06.04-Ramos.pdf</td>\n",
       "      <td>http://sharkattackfile.net/spreadsheets/pdf_di...</td>\n",
       "      <td>http://sharkattackfile.net/spreadsheets/pdf_di...</td>\n",
       "      <td>2018.06.04</td>\n",
       "      <td>2018.06.04</td>\n",
       "      <td>6299.0</td>\n",
       "      <td>NaN</td>\n",
       "      <td>NaN</td>\n",
       "      <td>4</td>\n",
       "    </tr>\n",
       "  </tbody>\n",
       "</table>\n",
       "</div>"
      ],
      "text/plain": [
       "  Case Number         Date    Year        Type    Country             Area  \\\n",
       "0  2018.06.25  25-Jun-2018  2018.0     Boating        USA       California   \n",
       "1  2018.06.18  18-Jun-2018  2018.0  Unprovoked        USA          Georgia   \n",
       "2  2018.06.09  09-Jun-2018  2018.0     Invalid        USA           Hawaii   \n",
       "3  2018.06.08  08-Jun-2018  2018.0  Unprovoked  AUSTRALIA  New South Wales   \n",
       "4  2018.06.04  04-Jun-2018  2018.0    Provoked     MEXICO           Colima   \n",
       "\n",
       "                         Location     Activity             Name Sex   Age  \\\n",
       "0     Oceanside, San Diego County     Paddling      Julie Wolfe    F   57   \n",
       "1  St. Simon Island, Glynn County     Standing  Adyson McNeely     F   11   \n",
       "2                    Habush, Oahu      Surfing      John Denges    M   48   \n",
       "3              Arrawarra Headland      Surfing             male    M  NaN   \n",
       "4                        La Ticla  Free diving   Gustavo Ramos     M  NaN   \n",
       "\n",
       "                                              Injury Fatal (Y/N)  \\\n",
       "0  No injury to occupant, outrigger canoe and pad...           N   \n",
       "1                         Minor injury to left thigh           N   \n",
       "2       Injury to left lower leg from surfboard skeg           N   \n",
       "3                          Minor injury to lower leg           N   \n",
       "4  Lacerations to leg & hand shark PROVOKED INCIDENT           N   \n",
       "\n",
       "            Time         Species           Investigator or Source  \\\n",
       "0          18h00      White shark                R. Collier, GSAF   \n",
       "1  14h00  -15h00              NaN  K.McMurray, TrackingSharks.com   \n",
       "2          07h45              NaN  K.McMurray, TrackingSharks.com   \n",
       "3            NaN        2 m shark                  B. Myatt, GSAF   \n",
       "4            NaN  Tiger shark, 3m                       A .Kipper   \n",
       "\n",
       "                        pdf  \\\n",
       "0      2018.06.25-Wolfe.pdf   \n",
       "1    2018.06.18-McNeely.pdf   \n",
       "2     2018.06.09-Denges.pdf   \n",
       "3  2018.06.08-Arrawarra.pdf   \n",
       "4      2018.06.04-Ramos.pdf   \n",
       "\n",
       "                                        href formula  \\\n",
       "0  http://sharkattackfile.net/spreadsheets/pdf_di...   \n",
       "1  http://sharkattackfile.net/spreadsheets/pdf_di...   \n",
       "2  http://sharkattackfile.net/spreadsheets/pdf_di...   \n",
       "3  http://sharkattackfile.net/spreadsheets/pdf_di...   \n",
       "4  http://sharkattackfile.net/spreadsheets/pdf_di...   \n",
       "\n",
       "                                                href Case Number.1  \\\n",
       "0  http://sharkattackfile.net/spreadsheets/pdf_di...    2018.06.25   \n",
       "1  http://sharkattackfile.net/spreadsheets/pdf_di...    2018.06.18   \n",
       "2  http://sharkattackfile.net/spreadsheets/pdf_di...    2018.06.09   \n",
       "3  http://sharkattackfile.net/spreadsheets/pdf_di...    2018.06.08   \n",
       "4  http://sharkattackfile.net/spreadsheets/pdf_di...    2018.06.04   \n",
       "\n",
       "  Case Number.2  original order Unnamed: 22 Unnamed: 23  Vazio  \n",
       "0    2018.06.25          6303.0         NaN         NaN      2  \n",
       "1    2018.06.18          6302.0         NaN         NaN      3  \n",
       "2    2018.06.09          6301.0         NaN         NaN      3  \n",
       "3    2018.06.08          6300.0         NaN         NaN      4  \n",
       "4    2018.06.04          6299.0         NaN         NaN      4  "
      ]
     },
     "execution_count": 7,
     "metadata": {},
     "output_type": "execute_result"
    }
   ],
   "source": [
    "shark_attack.head()"
   ]
  },
  {
   "cell_type": "code",
   "execution_count": 8,
   "id": "separated-python",
   "metadata": {
    "ExecuteTime": {
     "end_time": "2021-04-06T18:48:34.206820Z",
     "start_time": "2021-04-06T18:48:34.129026Z"
    }
   },
   "outputs": [
    {
     "data": {
      "text/plain": [
       "24    17020\n",
       "23     2394\n",
       "3      1515\n",
       "2      1423\n",
       "4      1202\n",
       "5      1194\n",
       "6       540\n",
       "7       293\n",
       "8       102\n",
       "9        26\n",
       "22        7\n",
       "10        7\n",
       "Name: Vazio, dtype: int64"
      ]
     },
     "execution_count": 8,
     "metadata": {},
     "output_type": "execute_result"
    }
   ],
   "source": [
    "shark_attack['Vazio'].value_counts()"
   ]
  },
  {
   "cell_type": "code",
   "execution_count": 9,
   "id": "serial-display",
   "metadata": {
    "ExecuteTime": {
     "end_time": "2021-04-06T18:48:34.347444Z",
     "start_time": "2021-04-06T18:48:34.209810Z"
    }
   },
   "outputs": [],
   "source": [
    "# criando um dataframe com todas as linhas que possuem menos de 20 colunas vazias\n",
    "\n",
    "f_shark = shark_attack.drop(shark_attack[shark_attack['Vazio'] > 20].index)"
   ]
  },
  {
   "cell_type": "code",
   "execution_count": 10,
   "id": "compound-postage",
   "metadata": {
    "ExecuteTime": {
     "end_time": "2021-04-06T18:48:34.411271Z",
     "start_time": "2021-04-06T18:48:34.349437Z"
    }
   },
   "outputs": [
    {
     "data": {
      "text/plain": [
       "3     1515\n",
       "2     1423\n",
       "4     1202\n",
       "5     1194\n",
       "6      540\n",
       "7      293\n",
       "8      102\n",
       "9       26\n",
       "10       7\n",
       "Name: Vazio, dtype: int64"
      ]
     },
     "execution_count": 10,
     "metadata": {},
     "output_type": "execute_result"
    }
   ],
   "source": [
    "# verificando a quantidade de linhas x colunas vazias\n",
    "\n",
    "f_shark['Vazio'].value_counts()"
   ]
  },
  {
   "cell_type": "markdown",
   "id": "apparent-institute",
   "metadata": {},
   "source": [
    "##  Escolha de colunas relevantes"
   ]
  },
  {
   "cell_type": "code",
   "execution_count": 11,
   "id": "fifteen-farming",
   "metadata": {
    "ExecuteTime": {
     "end_time": "2021-04-06T18:48:34.488399Z",
     "start_time": "2021-04-06T18:48:34.414296Z"
    }
   },
   "outputs": [
    {
     "data": {
      "text/plain": [
       "change filename    1\n",
       "Teramo             1\n",
       "Name: Unnamed: 23, dtype: int64"
      ]
     },
     "execution_count": 11,
     "metadata": {},
     "output_type": "execute_result"
    }
   ],
   "source": [
    "f_shark['Unnamed: 23'].value_counts()"
   ]
  },
  {
   "cell_type": "code",
   "execution_count": 12,
   "id": "transsexual-rally",
   "metadata": {
    "ExecuteTime": {
     "end_time": "2021-04-06T18:48:34.583143Z",
     "start_time": "2021-04-06T18:48:34.490391Z"
    }
   },
   "outputs": [
    {
     "data": {
      "text/html": [
       "<div>\n",
       "<style scoped>\n",
       "    .dataframe tbody tr th:only-of-type {\n",
       "        vertical-align: middle;\n",
       "    }\n",
       "\n",
       "    .dataframe tbody tr th {\n",
       "        vertical-align: top;\n",
       "    }\n",
       "\n",
       "    .dataframe thead th {\n",
       "        text-align: right;\n",
       "    }\n",
       "</style>\n",
       "<table border=\"1\" class=\"dataframe\">\n",
       "  <thead>\n",
       "    <tr style=\"text-align: right;\">\n",
       "      <th></th>\n",
       "      <th>Case Number</th>\n",
       "      <th>Date</th>\n",
       "      <th>Year</th>\n",
       "      <th>Type</th>\n",
       "      <th>Country</th>\n",
       "      <th>Area</th>\n",
       "      <th>Location</th>\n",
       "      <th>Activity</th>\n",
       "      <th>Name</th>\n",
       "      <th>Sex</th>\n",
       "      <th>Age</th>\n",
       "      <th>Injury</th>\n",
       "      <th>Fatal (Y/N)</th>\n",
       "      <th>Time</th>\n",
       "      <th>Species</th>\n",
       "      <th>Investigator or Source</th>\n",
       "      <th>pdf</th>\n",
       "      <th>href formula</th>\n",
       "      <th>href</th>\n",
       "      <th>Case Number.1</th>\n",
       "      <th>Case Number.2</th>\n",
       "      <th>original order</th>\n",
       "      <th>Unnamed: 22</th>\n",
       "      <th>Unnamed: 23</th>\n",
       "      <th>Vazio</th>\n",
       "    </tr>\n",
       "  </thead>\n",
       "  <tbody>\n",
       "    <tr>\n",
       "      <th>4415</th>\n",
       "      <td>1952.03.30</td>\n",
       "      <td>30-Mar-1952</td>\n",
       "      <td>1952.0</td>\n",
       "      <td>Unprovoked</td>\n",
       "      <td>NETHERLANDS ANTILLES</td>\n",
       "      <td>Curacao</td>\n",
       "      <td>NaN</td>\n",
       "      <td>Went to aid of child being menaced by the shark</td>\n",
       "      <td>A.J. Eggink</td>\n",
       "      <td>M</td>\n",
       "      <td>NaN</td>\n",
       "      <td>Buttock bitten, tissue removed</td>\n",
       "      <td>N</td>\n",
       "      <td>NaN</td>\n",
       "      <td>Bull shark, 2.7 m [9'] was captured &amp; dragged ...</td>\n",
       "      <td>J. Randall, p.352 in Sharks &amp; Survival; H.D. B...</td>\n",
       "      <td>1952.03.30-Eggink.pdf</td>\n",
       "      <td>http://sharkattackfile.net/spreadsheets/pdf_di...</td>\n",
       "      <td>http://sharkattackfile.net/spreadsheets/pdf_di...</td>\n",
       "      <td>1952.03.30</td>\n",
       "      <td>1952.03.30</td>\n",
       "      <td>1888.0</td>\n",
       "      <td>NaN</td>\n",
       "      <td>Teramo</td>\n",
       "      <td>4</td>\n",
       "    </tr>\n",
       "    <tr>\n",
       "      <th>5840</th>\n",
       "      <td>1878.09.14.R</td>\n",
       "      <td>Reported 14-Sep-1878</td>\n",
       "      <td>1878.0</td>\n",
       "      <td>Provoked</td>\n",
       "      <td>USA</td>\n",
       "      <td>Connecticut</td>\n",
       "      <td>Branford, New Haven County</td>\n",
       "      <td>Fishing</td>\n",
       "      <td>Captain Pattison</td>\n",
       "      <td>M</td>\n",
       "      <td>NaN</td>\n",
       "      <td>Leg bitten by netted shark PROVOKED INCIDENT</td>\n",
       "      <td>N</td>\n",
       "      <td>NaN</td>\n",
       "      <td>NaN</td>\n",
       "      <td>St. Joseph Herald, 9/14/1878</td>\n",
       "      <td>1878.09.14.R-Pattison.pdf</td>\n",
       "      <td>http://sharkattackfile.net/spreadsheets/pdf_di...</td>\n",
       "      <td>http://sharkattackfile.net/spreadsheets/pdf_di...</td>\n",
       "      <td>1878.09.14.R</td>\n",
       "      <td>1878.09.14.R</td>\n",
       "      <td>463.0</td>\n",
       "      <td>NaN</td>\n",
       "      <td>change filename</td>\n",
       "      <td>4</td>\n",
       "    </tr>\n",
       "  </tbody>\n",
       "</table>\n",
       "</div>"
      ],
      "text/plain": [
       "       Case Number                  Date    Year        Type  \\\n",
       "4415    1952.03.30           30-Mar-1952  1952.0  Unprovoked   \n",
       "5840  1878.09.14.R  Reported 14-Sep-1878  1878.0    Provoked   \n",
       "\n",
       "                   Country         Area                    Location  \\\n",
       "4415  NETHERLANDS ANTILLES      Curacao                         NaN   \n",
       "5840                   USA  Connecticut  Branford, New Haven County   \n",
       "\n",
       "                                             Activity              Name Sex   \\\n",
       "4415  Went to aid of child being menaced by the shark       A.J. Eggink    M   \n",
       "5840                                          Fishing  Captain Pattison    M   \n",
       "\n",
       "      Age                                        Injury Fatal (Y/N) Time  \\\n",
       "4415  NaN                Buttock bitten, tissue removed           N  NaN   \n",
       "5840  NaN  Leg bitten by netted shark PROVOKED INCIDENT           N  NaN   \n",
       "\n",
       "                                               Species   \\\n",
       "4415  Bull shark, 2.7 m [9'] was captured & dragged ...   \n",
       "5840                                                NaN   \n",
       "\n",
       "                                 Investigator or Source  \\\n",
       "4415  J. Randall, p.352 in Sharks & Survival; H.D. B...   \n",
       "5840                       St. Joseph Herald, 9/14/1878   \n",
       "\n",
       "                            pdf  \\\n",
       "4415      1952.03.30-Eggink.pdf   \n",
       "5840  1878.09.14.R-Pattison.pdf   \n",
       "\n",
       "                                           href formula  \\\n",
       "4415  http://sharkattackfile.net/spreadsheets/pdf_di...   \n",
       "5840  http://sharkattackfile.net/spreadsheets/pdf_di...   \n",
       "\n",
       "                                                   href Case Number.1  \\\n",
       "4415  http://sharkattackfile.net/spreadsheets/pdf_di...    1952.03.30   \n",
       "5840  http://sharkattackfile.net/spreadsheets/pdf_di...  1878.09.14.R   \n",
       "\n",
       "     Case Number.2  original order Unnamed: 22      Unnamed: 23  Vazio  \n",
       "4415    1952.03.30          1888.0         NaN           Teramo      4  \n",
       "5840  1878.09.14.R           463.0         NaN  change filename      4  "
      ]
     },
     "execution_count": 12,
     "metadata": {},
     "output_type": "execute_result"
    }
   ],
   "source": [
    "f_shark.loc[~f_shark['Unnamed: 23'].isnull(), :]"
   ]
  },
  {
   "cell_type": "code",
   "execution_count": 13,
   "id": "recorded-lottery",
   "metadata": {
    "ExecuteTime": {
     "end_time": "2021-04-06T18:48:34.676934Z",
     "start_time": "2021-04-06T18:48:34.585170Z"
    }
   },
   "outputs": [],
   "source": [
    "# escolhendo as colunas relevantes\n",
    "\n",
    "f_shark = f_shark[['Date', 'Year', 'Type', 'Country', 'Area', 'Location', 'Activity', 'Name', 'Sex ', 'Injury',\n",
    "                   'Fatal (Y/N)', 'Species ']]"
   ]
  },
  {
   "cell_type": "code",
   "execution_count": 14,
   "id": "acting-honduras",
   "metadata": {
    "ExecuteTime": {
     "end_time": "2021-04-06T18:48:34.756249Z",
     "start_time": "2021-04-06T18:48:34.679884Z"
    }
   },
   "outputs": [],
   "source": [
    "# renomeando as colunas\n",
    "\n",
    "f_shark.columns = ['date', 'year', 'type', 'country', 'area', 'location', 'activity', 'name', 'sex', 'injury',\n",
    "                 'fatal', 'species']"
   ]
  },
  {
   "cell_type": "code",
   "execution_count": 15,
   "id": "hired-burns",
   "metadata": {
    "ExecuteTime": {
     "end_time": "2021-04-06T18:48:34.850011Z",
     "start_time": "2021-04-06T18:48:34.758243Z"
    }
   },
   "outputs": [
    {
     "data": {
      "text/html": [
       "<div>\n",
       "<style scoped>\n",
       "    .dataframe tbody tr th:only-of-type {\n",
       "        vertical-align: middle;\n",
       "    }\n",
       "\n",
       "    .dataframe tbody tr th {\n",
       "        vertical-align: top;\n",
       "    }\n",
       "\n",
       "    .dataframe thead th {\n",
       "        text-align: right;\n",
       "    }\n",
       "</style>\n",
       "<table border=\"1\" class=\"dataframe\">\n",
       "  <thead>\n",
       "    <tr style=\"text-align: right;\">\n",
       "      <th></th>\n",
       "      <th>date</th>\n",
       "      <th>year</th>\n",
       "      <th>type</th>\n",
       "      <th>country</th>\n",
       "      <th>area</th>\n",
       "      <th>location</th>\n",
       "      <th>activity</th>\n",
       "      <th>name</th>\n",
       "      <th>sex</th>\n",
       "      <th>injury</th>\n",
       "      <th>fatal</th>\n",
       "      <th>species</th>\n",
       "    </tr>\n",
       "  </thead>\n",
       "  <tbody>\n",
       "    <tr>\n",
       "      <th>6297</th>\n",
       "      <td>Before 1903</td>\n",
       "      <td>0.0</td>\n",
       "      <td>Unprovoked</td>\n",
       "      <td>AUSTRALIA</td>\n",
       "      <td>Western Australia</td>\n",
       "      <td>Roebuck Bay</td>\n",
       "      <td>Diving</td>\n",
       "      <td>male</td>\n",
       "      <td>M</td>\n",
       "      <td>FATAL</td>\n",
       "      <td>Y</td>\n",
       "      <td>NaN</td>\n",
       "    </tr>\n",
       "    <tr>\n",
       "      <th>6298</th>\n",
       "      <td>Before 1903</td>\n",
       "      <td>0.0</td>\n",
       "      <td>Unprovoked</td>\n",
       "      <td>AUSTRALIA</td>\n",
       "      <td>Western Australia</td>\n",
       "      <td>NaN</td>\n",
       "      <td>Pearl diving</td>\n",
       "      <td>Ahmun</td>\n",
       "      <td>M</td>\n",
       "      <td>FATAL</td>\n",
       "      <td>Y</td>\n",
       "      <td>NaN</td>\n",
       "    </tr>\n",
       "    <tr>\n",
       "      <th>6299</th>\n",
       "      <td>1900-1905</td>\n",
       "      <td>0.0</td>\n",
       "      <td>Unprovoked</td>\n",
       "      <td>USA</td>\n",
       "      <td>North Carolina</td>\n",
       "      <td>Ocracoke Inlet</td>\n",
       "      <td>Swimming</td>\n",
       "      <td>Coast Guard personnel</td>\n",
       "      <td>M</td>\n",
       "      <td>FATAL</td>\n",
       "      <td>Y</td>\n",
       "      <td>NaN</td>\n",
       "    </tr>\n",
       "    <tr>\n",
       "      <th>6300</th>\n",
       "      <td>1883-1889</td>\n",
       "      <td>0.0</td>\n",
       "      <td>Unprovoked</td>\n",
       "      <td>PANAMA</td>\n",
       "      <td>NaN</td>\n",
       "      <td>Panama Bay 8ºN, 79ºW</td>\n",
       "      <td>NaN</td>\n",
       "      <td>Jules Patterson</td>\n",
       "      <td>M</td>\n",
       "      <td>FATAL</td>\n",
       "      <td>Y</td>\n",
       "      <td>NaN</td>\n",
       "    </tr>\n",
       "    <tr>\n",
       "      <th>6301</th>\n",
       "      <td>1845-1853</td>\n",
       "      <td>0.0</td>\n",
       "      <td>Unprovoked</td>\n",
       "      <td>CEYLON (SRI LANKA)</td>\n",
       "      <td>Eastern Province</td>\n",
       "      <td>Below the English fort, Trincomalee</td>\n",
       "      <td>Swimming</td>\n",
       "      <td>male</td>\n",
       "      <td>M</td>\n",
       "      <td>FATAL. \"Shark bit him in half, carrying away t...</td>\n",
       "      <td>Y</td>\n",
       "      <td>NaN</td>\n",
       "    </tr>\n",
       "  </tbody>\n",
       "</table>\n",
       "</div>"
      ],
      "text/plain": [
       "             date  year        type             country               area  \\\n",
       "6297  Before 1903   0.0  Unprovoked           AUSTRALIA  Western Australia   \n",
       "6298  Before 1903   0.0  Unprovoked           AUSTRALIA  Western Australia   \n",
       "6299    1900-1905   0.0  Unprovoked                 USA     North Carolina   \n",
       "6300    1883-1889   0.0  Unprovoked              PANAMA                NaN   \n",
       "6301    1845-1853   0.0  Unprovoked  CEYLON (SRI LANKA)   Eastern Province   \n",
       "\n",
       "                                 location      activity  \\\n",
       "6297                          Roebuck Bay        Diving   \n",
       "6298                                  NaN  Pearl diving   \n",
       "6299                       Ocracoke Inlet      Swimming   \n",
       "6300                 Panama Bay 8ºN, 79ºW           NaN   \n",
       "6301  Below the English fort, Trincomalee      Swimming   \n",
       "\n",
       "                       name sex  \\\n",
       "6297                   male   M   \n",
       "6298                  Ahmun   M   \n",
       "6299  Coast Guard personnel   M   \n",
       "6300        Jules Patterson   M   \n",
       "6301                   male   M   \n",
       "\n",
       "                                                 injury fatal species  \n",
       "6297                                              FATAL     Y     NaN  \n",
       "6298                                              FATAL     Y     NaN  \n",
       "6299                                              FATAL     Y     NaN  \n",
       "6300                                              FATAL     Y     NaN  \n",
       "6301  FATAL. \"Shark bit him in half, carrying away t...     Y     NaN  "
      ]
     },
     "execution_count": 15,
     "metadata": {},
     "output_type": "execute_result"
    }
   ],
   "source": [
    "f_shark.tail()"
   ]
  },
  {
   "cell_type": "markdown",
   "id": "velvet-uniform",
   "metadata": {},
   "source": [
    "## Tratamento de ano"
   ]
  },
  {
   "cell_type": "code",
   "execution_count": 16,
   "id": "varied-impression",
   "metadata": {
    "ExecuteTime": {
     "end_time": "2021-04-06T18:48:34.943780Z",
     "start_time": "2021-04-06T18:48:34.851993Z"
    }
   },
   "outputs": [
    {
     "data": {
      "text/plain": [
       "187     Reported 08-Jan-2017\n",
       "6079    Reported 19-Aug-1836\n",
       "Name: date, dtype: object"
      ]
     },
     "execution_count": 16,
     "metadata": {},
     "output_type": "execute_result"
    }
   ],
   "source": [
    "# verificando linhas cujo ano pode ser completado com informação da coluna de data\n",
    "\n",
    "f_shark.loc[~(f_shark['date']).isnull() & (f_shark['year'].isnull()), 'date']"
   ]
  },
  {
   "cell_type": "code",
   "execution_count": 17,
   "id": "authorized-hundred",
   "metadata": {
    "ExecuteTime": {
     "end_time": "2021-04-06T18:48:35.023778Z",
     "start_time": "2021-04-06T18:48:34.946738Z"
    }
   },
   "outputs": [],
   "source": [
    "# preenchendo valor de ano com informação de data\n",
    "\n",
    "f_shark.loc[~(f_shark['date']).isnull() & (f_shark['year'].isnull()), 'year'] = f_shark.loc[~(f_shark['date']).isnull() & (f_shark['year'].isnull()), 'date'].str.slice(start=-4)"
   ]
  },
  {
   "cell_type": "code",
   "execution_count": 18,
   "id": "associate-bulgaria",
   "metadata": {
    "ExecuteTime": {
     "end_time": "2021-04-06T18:48:35.101561Z",
     "start_time": "2021-04-06T18:48:35.025777Z"
    }
   },
   "outputs": [
    {
     "data": {
      "text/plain": [
       "6177     Ca. 214 B.C.\n",
       "6178    Ca. 336.B.C..\n",
       "6179         493 B.C.\n",
       "6180     Ca. 725 B.C.\n",
       "6181      Before 1939\n",
       "            ...      \n",
       "6297      Before 1903\n",
       "6298      Before 1903\n",
       "6299        1900-1905\n",
       "6300        1883-1889\n",
       "6301        1845-1853\n",
       "Name: date, Length: 125, dtype: object"
      ]
     },
     "execution_count": 18,
     "metadata": {},
     "output_type": "execute_result"
    }
   ],
   "source": [
    "# verificando linhas cujo ano pode ser completado com informação da coluna de data\n",
    "\n",
    "f_shark.loc[~(f_shark['date']).isnull() & ((f_shark['year']==0) | (f_shark['year'].isnull())), 'date']"
   ]
  },
  {
   "cell_type": "code",
   "execution_count": 19,
   "id": "sticky-electron",
   "metadata": {
    "ExecuteTime": {
     "end_time": "2021-04-06T18:48:35.195130Z",
     "start_time": "2021-04-06T18:48:35.104550Z"
    }
   },
   "outputs": [],
   "source": [
    "# substituindo zeros da coluna de anos com valores disponíveis na coluna data\n",
    "\n",
    "filtro_ano = f_shark.loc[(f_shark['year']==0), 'date'].apply(lambda data: True if re.search('\\d{3,}', str(data)) else False)\n",
    "f_shark.loc[(f_shark['year']==0) & filtro_ano, 'year'] = f_shark.loc[(f_shark['year']==0) & filtro_ano, 'date'].apply(lambda data: re.findall('\\d{3,}', str(data))[0])"
   ]
  },
  {
   "cell_type": "code",
   "execution_count": 20,
   "id": "entitled-norwegian",
   "metadata": {
    "ExecuteTime": {
     "end_time": "2021-04-06T18:48:35.289845Z",
     "start_time": "2021-04-06T18:48:35.198093Z"
    }
   },
   "outputs": [
    {
     "data": {
      "text/plain": [
       "0"
      ]
     },
     "execution_count": 20,
     "metadata": {},
     "output_type": "execute_result"
    }
   ],
   "source": [
    "# verificando dados após o tratamento\n",
    "\n",
    "f_shark['year'].isnull().sum()"
   ]
  },
  {
   "cell_type": "code",
   "execution_count": 21,
   "id": "verified-bradford",
   "metadata": {
    "ExecuteTime": {
     "end_time": "2021-04-06T18:48:35.369118Z",
     "start_time": "2021-04-06T18:48:35.292837Z"
    }
   },
   "outputs": [],
   "source": [
    "# transformando coluna ano em inteiros\n",
    "\n",
    "f_shark['year'] = f_shark['year'].astype(int)"
   ]
  },
  {
   "cell_type": "markdown",
   "id": "sunrise-coverage",
   "metadata": {},
   "source": [
    "##  Tratamento de tipo de incidente"
   ]
  },
  {
   "cell_type": "code",
   "execution_count": 22,
   "id": "spread-backup",
   "metadata": {
    "ExecuteTime": {
     "end_time": "2021-04-06T18:48:35.463175Z",
     "start_time": "2021-04-06T18:48:35.371071Z"
    }
   },
   "outputs": [
    {
     "data": {
      "text/plain": [
       "Unprovoked      4595\n",
       "Provoked         574\n",
       "Invalid          547\n",
       "Sea Disaster     239\n",
       "Boating          203\n",
       "Boat             137\n",
       "Questionable       2\n",
       "Boatomg            1\n",
       "Name: type, dtype: int64"
      ]
     },
     "execution_count": 22,
     "metadata": {},
     "output_type": "execute_result"
    }
   ],
   "source": [
    "f_shark['type'].value_counts()"
   ]
  },
  {
   "cell_type": "code",
   "execution_count": 23,
   "id": "absent-maryland",
   "metadata": {
    "ExecuteTime": {
     "end_time": "2021-04-06T18:48:35.556950Z",
     "start_time": "2021-04-06T18:48:35.466162Z"
    }
   },
   "outputs": [],
   "source": [
    "# ajustando os valores de barcos\n",
    "\n",
    "boat = f_shark['type'].apply(lambda tipo: True if re.search('^boat', str(tipo).lower()) else False)\n",
    "f_shark.loc[boat, 'type'] = 'Boat'"
   ]
  },
  {
   "cell_type": "code",
   "execution_count": 24,
   "id": "precious-universe",
   "metadata": {
    "ExecuteTime": {
     "end_time": "2021-04-06T18:48:35.635269Z",
     "start_time": "2021-04-06T18:48:35.558946Z"
    }
   },
   "outputs": [],
   "source": [
    "# agrupando valores\n",
    "\n",
    "f_shark.loc[f_shark['type']=='Sea Disaster', 'type'] = 'Unprovoked'\n",
    "f_shark.loc[f_shark['type']=='Questionable', 'type'] = 'Invalid'"
   ]
  },
  {
   "cell_type": "code",
   "execution_count": 25,
   "id": "german-correction",
   "metadata": {
    "ExecuteTime": {
     "end_time": "2021-04-06T18:48:35.808896Z",
     "start_time": "2021-04-06T18:48:35.637261Z"
    }
   },
   "outputs": [
    {
     "data": {
      "text/plain": [
       "Unprovoked    4834\n",
       "Provoked       574\n",
       "Invalid        549\n",
       "Boat           341\n",
       "Name: type, dtype: int64"
      ]
     },
     "execution_count": 25,
     "metadata": {},
     "output_type": "execute_result"
    }
   ],
   "source": [
    "# verificando dados tratados\n",
    "\n",
    "f_shark['type'].value_counts()"
   ]
  },
  {
   "cell_type": "markdown",
   "id": "certified-experiment",
   "metadata": {},
   "source": [
    "## Tratamento de país"
   ]
  },
  {
   "cell_type": "code",
   "execution_count": 26,
   "id": "appointed-drama",
   "metadata": {
    "ExecuteTime": {
     "end_time": "2021-04-06T18:48:35.886713Z",
     "start_time": "2021-04-06T18:48:35.810892Z"
    }
   },
   "outputs": [
    {
     "data": {
      "text/plain": [
       "0                      USA\n",
       "1                      USA\n",
       "2                      USA\n",
       "3                AUSTRALIA\n",
       "4                   MEXICO\n",
       "               ...        \n",
       "6297             AUSTRALIA\n",
       "6298             AUSTRALIA\n",
       "6299                   USA\n",
       "6300                PANAMA\n",
       "6301    CEYLON (SRI LANKA)\n",
       "Name: country, Length: 6302, dtype: object"
      ]
     },
     "execution_count": 26,
     "metadata": {},
     "output_type": "execute_result"
    }
   ],
   "source": [
    "f_shark['country']"
   ]
  },
  {
   "cell_type": "code",
   "execution_count": 27,
   "id": "executed-oriental",
   "metadata": {
    "ExecuteTime": {
     "end_time": "2021-04-06T18:48:35.981454Z",
     "start_time": "2021-04-06T18:48:35.891674Z"
    }
   },
   "outputs": [
    {
     "data": {
      "text/plain": [
       "(29, 12)"
      ]
     },
     "execution_count": 27,
     "metadata": {},
     "output_type": "execute_result"
    }
   ],
   "source": [
    "f_shark.loc[(f_shark['country'].isnull()) & (f_shark['area'].isnull()) & (f_shark['location'].isnull()), :].shape"
   ]
  },
  {
   "cell_type": "code",
   "execution_count": 28,
   "id": "decimal-transaction",
   "metadata": {
    "ExecuteTime": {
     "end_time": "2021-04-06T18:48:36.074008Z",
     "start_time": "2021-04-06T18:48:35.987432Z"
    }
   },
   "outputs": [
    {
     "data": {
      "text/html": [
       "<div>\n",
       "<style scoped>\n",
       "    .dataframe tbody tr th:only-of-type {\n",
       "        vertical-align: middle;\n",
       "    }\n",
       "\n",
       "    .dataframe tbody tr th {\n",
       "        vertical-align: top;\n",
       "    }\n",
       "\n",
       "    .dataframe thead th {\n",
       "        text-align: right;\n",
       "    }\n",
       "</style>\n",
       "<table border=\"1\" class=\"dataframe\">\n",
       "  <thead>\n",
       "    <tr style=\"text-align: right;\">\n",
       "      <th></th>\n",
       "      <th>country</th>\n",
       "      <th>area</th>\n",
       "      <th>location</th>\n",
       "    </tr>\n",
       "  </thead>\n",
       "  <tbody>\n",
       "    <tr>\n",
       "      <th>2956</th>\n",
       "      <td>NaN</td>\n",
       "      <td>English Channel</td>\n",
       "      <td>NaN</td>\n",
       "    </tr>\n",
       "    <tr>\n",
       "      <th>3387</th>\n",
       "      <td>NaN</td>\n",
       "      <td>Caribbean Sea</td>\n",
       "      <td>Between St. Kitts &amp; Nevis</td>\n",
       "    </tr>\n",
       "    <tr>\n",
       "      <th>3605</th>\n",
       "      <td>NaN</td>\n",
       "      <td>NaN</td>\n",
       "      <td>Florida Strait</td>\n",
       "    </tr>\n",
       "    <tr>\n",
       "      <th>4018</th>\n",
       "      <td>NaN</td>\n",
       "      <td>Between Timor &amp; Darwin, Australia</td>\n",
       "      <td>NaN</td>\n",
       "    </tr>\n",
       "    <tr>\n",
       "      <th>4231</th>\n",
       "      <td>NaN</td>\n",
       "      <td>Near the Andaman &amp; Nicobar Islands</td>\n",
       "      <td>NaN</td>\n",
       "    </tr>\n",
       "    <tr>\n",
       "      <th>4266</th>\n",
       "      <td>NaN</td>\n",
       "      <td>Between Comores &amp; Madagascar</td>\n",
       "      <td>Geyser Bank</td>\n",
       "    </tr>\n",
       "    <tr>\n",
       "      <th>4498</th>\n",
       "      <td>NaN</td>\n",
       "      <td>Caribbean Sea</td>\n",
       "      <td>Between  Cuba  &amp; Costa Rica</td>\n",
       "    </tr>\n",
       "    <tr>\n",
       "      <th>4639</th>\n",
       "      <td>NaN</td>\n",
       "      <td>NaN</td>\n",
       "      <td>225 miles east of Hong Kong</td>\n",
       "    </tr>\n",
       "    <tr>\n",
       "      <th>4700</th>\n",
       "      <td>NaN</td>\n",
       "      <td>Off South American coast</td>\n",
       "      <td>NaN</td>\n",
       "    </tr>\n",
       "    <tr>\n",
       "      <th>4712</th>\n",
       "      <td>NaN</td>\n",
       "      <td>300 miles east of St. Thomas (Virgin Islands)</td>\n",
       "      <td>NaN</td>\n",
       "    </tr>\n",
       "    <tr>\n",
       "      <th>5020</th>\n",
       "      <td>NaN</td>\n",
       "      <td>French Southern Territories</td>\n",
       "      <td>Île Saint-Paul</td>\n",
       "    </tr>\n",
       "    <tr>\n",
       "      <th>5425</th>\n",
       "      <td>NaN</td>\n",
       "      <td>NaN</td>\n",
       "      <td>Near the equator</td>\n",
       "    </tr>\n",
       "    <tr>\n",
       "      <th>5612</th>\n",
       "      <td>NaN</td>\n",
       "      <td>Mediterranean Sea</td>\n",
       "      <td>NaN</td>\n",
       "    </tr>\n",
       "    <tr>\n",
       "      <th>5742</th>\n",
       "      <td>NaN</td>\n",
       "      <td>Gulf of California</td>\n",
       "      <td>NaN</td>\n",
       "    </tr>\n",
       "    <tr>\n",
       "      <th>5808</th>\n",
       "      <td>NaN</td>\n",
       "      <td>Western Banks</td>\n",
       "      <td>NaN</td>\n",
       "    </tr>\n",
       "    <tr>\n",
       "      <th>5810</th>\n",
       "      <td>NaN</td>\n",
       "      <td>NaN</td>\n",
       "      <td>Santa Cruz</td>\n",
       "    </tr>\n",
       "    <tr>\n",
       "      <th>6137</th>\n",
       "      <td>NaN</td>\n",
       "      <td>St Helena</td>\n",
       "      <td>Landing Place</td>\n",
       "    </tr>\n",
       "    <tr>\n",
       "      <th>6155</th>\n",
       "      <td>NaN</td>\n",
       "      <td>NaN</td>\n",
       "      <td>Carlisle Bay</td>\n",
       "    </tr>\n",
       "    <tr>\n",
       "      <th>6175</th>\n",
       "      <td>NaN</td>\n",
       "      <td>Ionian Sea</td>\n",
       "      <td>NaN</td>\n",
       "    </tr>\n",
       "    <tr>\n",
       "      <th>6177</th>\n",
       "      <td>NaN</td>\n",
       "      <td>Ionian Sea</td>\n",
       "      <td>NaN</td>\n",
       "    </tr>\n",
       "    <tr>\n",
       "      <th>6206</th>\n",
       "      <td>NaN</td>\n",
       "      <td>NaN</td>\n",
       "      <td>In a river feeding into the Bay of Bengal</td>\n",
       "    </tr>\n",
       "  </tbody>\n",
       "</table>\n",
       "</div>"
      ],
      "text/plain": [
       "     country                                           area  \\\n",
       "2956     NaN                                English Channel   \n",
       "3387     NaN                                  Caribbean Sea   \n",
       "3605     NaN                                            NaN   \n",
       "4018     NaN              Between Timor & Darwin, Australia   \n",
       "4231     NaN             Near the Andaman & Nicobar Islands   \n",
       "4266     NaN                   Between Comores & Madagascar   \n",
       "4498     NaN                                  Caribbean Sea   \n",
       "4639     NaN                                            NaN   \n",
       "4700     NaN                       Off South American coast   \n",
       "4712     NaN  300 miles east of St. Thomas (Virgin Islands)   \n",
       "5020     NaN                    French Southern Territories   \n",
       "5425     NaN                                            NaN   \n",
       "5612     NaN                              Mediterranean Sea   \n",
       "5742     NaN                             Gulf of California   \n",
       "5808     NaN                                  Western Banks   \n",
       "5810     NaN                                            NaN   \n",
       "6137     NaN                                      St Helena   \n",
       "6155     NaN                                            NaN   \n",
       "6175     NaN                                     Ionian Sea   \n",
       "6177     NaN                                     Ionian Sea   \n",
       "6206     NaN                                            NaN   \n",
       "\n",
       "                                       location  \n",
       "2956                                        NaN  \n",
       "3387                  Between St. Kitts & Nevis  \n",
       "3605                             Florida Strait  \n",
       "4018                                        NaN  \n",
       "4231                                        NaN  \n",
       "4266                                Geyser Bank  \n",
       "4498                Between  Cuba  & Costa Rica  \n",
       "4639                225 miles east of Hong Kong  \n",
       "4700                                        NaN  \n",
       "4712                                        NaN  \n",
       "5020                             Île Saint-Paul  \n",
       "5425                           Near the equator  \n",
       "5612                                        NaN  \n",
       "5742                                        NaN  \n",
       "5808                                        NaN  \n",
       "5810                                 Santa Cruz  \n",
       "6137                              Landing Place  \n",
       "6155                               Carlisle Bay  \n",
       "6175                                        NaN  \n",
       "6177                                        NaN  \n",
       "6206  In a river feeding into the Bay of Bengal  "
      ]
     },
     "execution_count": 28,
     "metadata": {},
     "output_type": "execute_result"
    }
   ],
   "source": [
    "# verificando linhas sem informação de país\n",
    "\n",
    "f_shark.loc[(f_shark['country'].isnull()) & (~(f_shark['area'].isnull()) | ~(f_shark['location'].isnull())), ['country', 'area', 'location']]"
   ]
  },
  {
   "cell_type": "code",
   "execution_count": 29,
   "id": "fossil-monitor",
   "metadata": {
    "ExecuteTime": {
     "end_time": "2021-04-06T18:48:36.183183Z",
     "start_time": "2021-04-06T18:48:36.076000Z"
    }
   },
   "outputs": [],
   "source": [
    "# substituindo campos 'country' nulos por informações das colunas 'area' ou 'location'\n",
    "\n",
    "f_shark.loc[(f_shark['country'].isnull()) & ((f_shark['area']=='St Helena') | ~(f_shark['area'].isnull())), 'country'] = f_shark.loc[(f_shark['country'].isnull()) & ((f_shark['area']=='St Helena') | ~(f_shark['area'].isnull())), 'area']\n",
    "f_shark.loc[(f_shark['country'].isnull()) & ~(f_shark['location'].isnull()), 'country'] = f_shark.loc[(f_shark['country'].isnull()) & ~(f_shark['location'].isnull()), 'location']"
   ]
  },
  {
   "cell_type": "code",
   "execution_count": 30,
   "id": "biological-cancellation",
   "metadata": {
    "ExecuteTime": {
     "end_time": "2021-04-06T18:48:36.277677Z",
     "start_time": "2021-04-06T18:48:36.185175Z"
    }
   },
   "outputs": [],
   "source": [
    "# ajustando nomes de paises\n",
    "\n",
    "f_shark.loc[~(f_shark['country'].isnull()), 'country'] = f_shark.loc[~(f_shark['country'].isnull()), 'country'].apply(lambda place: re.sub(' ?[\\/\\(,].*', '', str(place).upper()) if len(str(place))>0 else None)\n",
    "f_shark.loc[~(f_shark['country'].isnull()), 'country'] = f_shark.loc[~(f_shark['country'].isnull()), 'country'].str.lstrip(' ')\n",
    "f_shark.loc[~(f_shark['country'].isnull()), 'country'] = f_shark.loc[~(f_shark['country'].isnull()), 'country'].str.rstrip('[ ?]')"
   ]
  },
  {
   "cell_type": "code",
   "execution_count": 31,
   "id": "mexican-mineral",
   "metadata": {
    "ExecuteTime": {
     "end_time": "2021-04-06T18:48:36.369979Z",
     "start_time": "2021-04-06T18:48:36.280670Z"
    }
   },
   "outputs": [
    {
     "name": "stdout",
     "output_type": "stream",
     "text": [
      "['225 MILES EAST OF HONG KONG', '300 MILES EAST OF ST. THOMAS', 'ADMIRALTY ISLANDS', 'AFRICA', 'ALGERIA', 'AMERICAN SAMOA', 'ANDAMAN', 'ANDAMAN ISLANDS', 'ANGOLA', 'ANTIGUA', 'ARGENTINA', 'ARUBA', 'ASIA', 'ATLANTIC OCEAN', 'AUSTRALIA', 'AZORES', 'BAHAMAS', 'BAHREIN', 'BANGLADESH', 'BARBADOS', 'BAY OF BENGAL', 'BELIZE', 'BERMUDA', 'BETWEEN COMORES & MADAGASCAR', 'BETWEEN PORTUGAL & INDIA', 'BETWEEN TIMOR & DARWIN', 'BRAZIL', 'BRITISH ISLES', 'BRITISH NEW GUINEA', 'BRITISH VIRGIN ISLANDS', 'BRITISH WEST INDIES', 'BURMA', 'CANADA', 'CAPE VERDE', 'CARIBBEAN SEA', 'CARLISLE BAY', 'CAYMAN ISLANDS', 'CENTRAL PACIFIC', 'CEYLON', 'CHILE', 'CHINA', 'COAST OF AFRICA', 'COLUMBIA', 'COMOROS', 'COOK ISLANDS', 'COSTA RICA', 'CRETE', 'CROATIA', 'CUBA', 'CURACAO', 'CYPRUS', 'DIEGO GARCIA', 'DJIBOUTI', 'DOMINICAN REPUBLIC', 'ECUADOR', 'EGYPT', 'EL SALVADOR', 'ENGLAND', 'ENGLISH CHANNEL', 'EQUATORIAL GUINEA', 'FALKLAND ISLANDS', 'FEDERATED STATES OF MICRONESIA', 'FIJI', 'FLORIDA STRAIT', 'FRANCE', 'FRENCH POLYNESIA', 'FRENCH SOUTHERN TERRITORIES', 'GABON', 'GEORGIA', 'GHANA', 'GRAND CAYMAN', 'GREECE', 'GREENLAND', 'GRENADA', 'GUAM', 'GUATEMALA', 'GUINEA', 'GULF OF ADEN', 'GULF OF CALIFORNIA', 'GUYANA', 'HAITI', 'HONDURAS', 'HONG KONG', 'ICELAND', 'IN A RIVER FEEDING INTO THE BAY OF BENGAL', 'INDIA', 'INDIAN OCEAN', 'INDONESIA', 'IONIAN SEA', 'IRAN', 'IRAQ', 'IRELAND', 'ISRAEL', 'ITALY', 'JAMAICA', 'JAPAN', 'JAVA', 'JOHNSTON ISLAND', 'KENYA', 'KIRIBATI', 'KOREA', 'KUWAIT', 'LEBANON', 'LIBERIA', 'LIBYA', 'MADAGASCAR', 'MALAYSIA', 'MALDIVE ISLANDS', 'MALDIVES', 'MALTA', 'MARSHALL ISLANDS', 'MARTINIQUE', 'MAURITIUS', 'MAYOTTE', 'MEDITERRANEAN SEA', 'MEXICO', 'MICRONESIA', 'MID ATLANTIC OCEAN', 'MID-PACIFC OCEAN', 'MONACO', 'MONTENEGRO', 'MOZAMBIQUE', 'NAMIBIA', 'NEAR THE ANDAMAN & NICOBAR ISLANDS', 'NEAR THE EQUATOR', 'NETHERLANDS ANTILLES', 'NEVIS', 'NEW BRITAIN', 'NEW CALEDONIA', 'NEW GUINEA', 'NEW ZEALAND', 'NICARAGUA', 'NIGERIA', 'NORTH ATLANTIC OCEAN', 'NORTH PACIFIC OCEAN', 'NORTH SEA', 'NORTHERN ARABIAN SEA', 'NORTHERN MARIANA ISLANDS', 'NORWAY', 'OCEAN', 'OFF SOUTH AMERICAN COAST', 'OKINAWA', 'PACIFIC OCEAN', 'PALAU', 'PALESTINIAN TERRITORIES', 'PANAMA', 'PAPUA NEW GUINEA', 'PARAGUAY', 'PERSIAN GULF', 'PERU', 'PHILIPPINES', 'PORTUGAL', 'PUERTO RICO', 'RED SEA', 'REUNION', 'REUNION ISLAND', 'ROATAN', 'RUSSIA', 'SAMOA', 'SAN DOMINGO', 'SANTA CRUZ', 'SAUDI ARABIA', 'SCOTLAND', 'SENEGAL', 'SEYCHELLES', 'SIERRA LEONE', 'SINGAPORE', 'SLOVENIA', 'SOLOMON ISLANDS', 'SOMALIA', 'SOUTH AFRICA', 'SOUTH ATLANTIC OCEAN', 'SOUTH CHINA SEA', 'SOUTH KOREA', 'SOUTH PACIFIC OCEAN', 'SOUTHWEST PACIFIC OCEAN', 'SPAIN', 'SRI LANKA', 'ST HELENA', 'ST. MAARTIN', 'ST. MARTIN', 'SUDAN', 'SWEDEN', 'SYRIA', 'TAIWAN', 'TANZANIA', 'TASMAN SEA', 'THAILAND', 'THE BALKANS', 'TOBAGO', 'TONGA', 'TRINIDAD & TOBAGO', 'TUNISIA', 'TURKEY', 'TURKS & CAICOS', 'TUVALU', 'UNITED ARAB EMIRATES', 'UNITED KINGDOM', 'URUGUAY', 'USA', 'VANUATU', 'VENEZUELA', 'VIETNAM', 'WEST INDIES', 'WESTERN BANKS', 'WESTERN SAMOA', 'YEMEN']\n"
     ]
    }
   ],
   "source": [
    "# Verificando os nomes dos países\n",
    "\n",
    "paises = sorted(list(f_shark['country'].value_counts().index))\n",
    "print(paises)"
   ]
  },
  {
   "cell_type": "code",
   "execution_count": 32,
   "id": "continent-module",
   "metadata": {
    "ExecuteTime": {
     "end_time": "2021-04-06T18:48:36.590058Z",
     "start_time": "2021-04-06T18:48:36.371941Z"
    }
   },
   "outputs": [],
   "source": [
    "# agrupando alguns países\n",
    "\n",
    "f_shark.loc[f_shark['country'] == '225 MILES EAST OF HONG KONG', 'country'] = 'HONG KONG'\n",
    "f_shark.loc[f_shark['country'] == '300 MILES EAST OF ST. THOMAS', 'country'] = 'ST. THOMAS'\n",
    "f_shark.loc[f_shark['country'] == 'TOBAGO', 'country'] = 'TRINIDAD & TOBAGO'\n",
    "f_shark.loc[f_shark['country'] == 'REUNION ISLAND', 'country'] = 'REUNION'\n",
    "f_shark.loc[f_shark['country'] == 'NEW GUINEA', 'country'] = 'PAPUA NEW GUINEA'\n",
    "f_shark.loc[f_shark['country'] == 'BRITISH NEW GUINEA', 'country'] = 'PAPUA NEW GUINEA'\n",
    "f_shark.loc[f_shark['country'] == 'OKINAWA', 'country'] = 'JAPAN'\n",
    "f_shark.loc[f_shark['country'] == 'ST. MAARTIN', 'country'] = 'ST. MARTIN'\n",
    "f_shark.loc[f_shark['country'] == 'SOUTH CHINA SEA', 'country'] = 'CHINA'\n",
    "f_shark.loc[f_shark['country'] == 'BETWEEN COMORES & MADAGASCAR', 'country'] = 'MADAGASCAR'\n",
    "f_shark.loc[f_shark['country'] == 'BETWEEN PORTUGAL & INDIA', 'country'] = 'PORTUGAL'\n",
    "f_shark.loc[f_shark['country'] == 'BETWEEN TIMOR & DARWIN, AUSTRALIA', 'country'] = 'AUSTRALIA'\n",
    "f_shark.loc[f_shark['country'] == 'MALDIVE ISLANDS', 'country'] = 'MALDIVES'\n",
    "f_shark.loc[f_shark['country'] == 'GULF OF CALIFORNIA', 'country'] = 'USA'\n",
    "f_shark.loc[f_shark['country'] == 'FLORIDA STRAIT', 'country'] = 'USA'\n",
    "f_shark.loc[f_shark['country'] == 'GEORGIA', 'country'] = 'USA'\n",
    "f_shark.loc[f_shark['country'] == 'FEDERATED STATES OF MICRONESIA', 'country'] = 'MICRONESIA'\n",
    "f_shark.loc[f_shark['country'] == 'GRAND CAYMAN', 'country'] = 'CAYMAN ISLANDS'\n",
    "f_shark.loc[f_shark['country'] == 'NEAR THE ANDAMAN & NICOBAR ISLANDS', 'country'] = 'ANDAMAN'\n",
    "f_shark.loc[f_shark['country'] == 'ANDAMAN ISLANDS', 'country'] = 'ANDAMAN'\n",
    "f_shark.loc[f_shark['country'] == 'TASMAN SEA', 'country'] = 'AUSTRALIA'\n",
    "f_shark.loc[f_shark['country'] == 'CEYLON', 'country'] = 'SRI LANKA'\n",
    "f_shark.loc[f_shark['country'] == 'ENGLISH CHANNEL', 'country'] = 'UNITED KINGDOM'\n",
    "f_shark.loc[f_shark['country'] == 'BRITISH ISLES', 'country'] = 'UNITED KINGDOM'\n",
    "f_shark.loc[f_shark['country'] == 'ENGLAND', 'country'] = 'UNITED KINGDOM'\n",
    "f_shark.loc[f_shark['country'] == 'SCOTLAND', 'country'] = 'UNITED KINGDOM'\n",
    "f_shark.loc[f_shark['country'] == 'IN A RIVER FEEDING INTO THE BAY OF BENGAL', 'country'] = 'BAY OF BENGAL'"
   ]
  },
  {
   "cell_type": "code",
   "execution_count": 33,
   "id": "delayed-chapter",
   "metadata": {
    "ExecuteTime": {
     "end_time": "2021-04-06T18:48:36.668244Z",
     "start_time": "2021-04-06T18:48:36.592054Z"
    }
   },
   "outputs": [
    {
     "data": {
      "text/plain": [
       "USA                 2232\n",
       "AUSTRALIA           1339\n",
       "SOUTH AFRICA         579\n",
       "PAPUA NEW GUINEA     145\n",
       "NEW ZEALAND          128\n",
       "                    ... \n",
       "BAHREIN                1\n",
       "CARLISLE BAY           1\n",
       "ASIA                   1\n",
       "GUATEMALA              1\n",
       "AFRICA                 1\n",
       "Name: country, Length: 182, dtype: int64"
      ]
     },
     "execution_count": 33,
     "metadata": {},
     "output_type": "execute_result"
    }
   ],
   "source": [
    "f_shark['country'].value_counts()"
   ]
  },
  {
   "cell_type": "code",
   "execution_count": 34,
   "id": "robust-client",
   "metadata": {
    "ExecuteTime": {
     "end_time": "2021-04-06T18:48:36.760751Z",
     "start_time": "2021-04-06T18:48:36.677919Z"
    }
   },
   "outputs": [
    {
     "data": {
      "text/plain": [
       "29"
      ]
     },
     "execution_count": 34,
     "metadata": {},
     "output_type": "execute_result"
    }
   ],
   "source": [
    "# Verificando campos nulos\n",
    "\n",
    "f_shark['country'].isnull().sum()"
   ]
  },
  {
   "cell_type": "markdown",
   "id": "decimal-declaration",
   "metadata": {},
   "source": [
    "## Agrupado em dados de oceanos/mar"
   ]
  },
  {
   "cell_type": "code",
   "execution_count": 35,
   "id": "negative-bouquet",
   "metadata": {
    "ExecuteTime": {
     "end_time": "2021-04-06T18:48:36.838867Z",
     "start_time": "2021-04-06T18:48:36.771244Z"
    }
   },
   "outputs": [],
   "source": [
    "f_shark['ocean']=f_shark['country']"
   ]
  },
  {
   "cell_type": "code",
   "execution_count": 36,
   "id": "developing-leone",
   "metadata": {
    "ExecuteTime": {
     "end_time": "2021-04-06T18:48:36.933832Z",
     "start_time": "2021-04-06T18:48:36.840836Z"
    }
   },
   "outputs": [
    {
     "data": {
      "text/plain": [
       "['ATLANTIC OCEAN',\n",
       " 'BAY OF BENGAL',\n",
       " 'CARIBBEAN SEA',\n",
       " 'CARLISLE BAY',\n",
       " 'GULF OF ADEN',\n",
       " 'INDIAN OCEAN',\n",
       " 'IONIAN SEA',\n",
       " 'MEDITERRANEAN SEA',\n",
       " 'MID ATLANTIC OCEAN',\n",
       " 'MID-PACIFC OCEAN',\n",
       " 'NORTH ATLANTIC OCEAN',\n",
       " 'NORTH PACIFIC OCEAN',\n",
       " 'NORTH SEA',\n",
       " 'NORTHERN ARABIAN SEA',\n",
       " 'OCEAN',\n",
       " 'PACIFIC OCEAN',\n",
       " 'PERSIAN GULF',\n",
       " 'RED SEA',\n",
       " 'SOUTH ATLANTIC OCEAN',\n",
       " 'SOUTH PACIFIC OCEAN',\n",
       " 'SOUTHWEST PACIFIC OCEAN']"
      ]
     },
     "execution_count": 36,
     "metadata": {},
     "output_type": "execute_result"
    }
   ],
   "source": [
    "oceano = 'OCEAN|SEA|BAY|GULF'\n",
    "\n",
    "lista = sorted(list(f_shark.loc[~(f_shark['ocean'].isnull()), 'ocean'].apply(lambda pais: pais if re.search(oceano, pais.upper()) else None).value_counts().index))\n",
    "lista"
   ]
  },
  {
   "cell_type": "code",
   "execution_count": 37,
   "id": "double-interaction",
   "metadata": {
    "ExecuteTime": {
     "end_time": "2021-04-06T18:48:37.029577Z",
     "start_time": "2021-04-06T18:48:36.935826Z"
    }
   },
   "outputs": [
    {
     "data": {
      "text/html": [
       "<div>\n",
       "<style scoped>\n",
       "    .dataframe tbody tr th:only-of-type {\n",
       "        vertical-align: middle;\n",
       "    }\n",
       "\n",
       "    .dataframe tbody tr th {\n",
       "        vertical-align: top;\n",
       "    }\n",
       "\n",
       "    .dataframe thead th {\n",
       "        text-align: right;\n",
       "    }\n",
       "</style>\n",
       "<table border=\"1\" class=\"dataframe\">\n",
       "  <thead>\n",
       "    <tr style=\"text-align: right;\">\n",
       "      <th></th>\n",
       "      <th>date</th>\n",
       "      <th>year</th>\n",
       "      <th>type</th>\n",
       "      <th>country</th>\n",
       "      <th>area</th>\n",
       "      <th>location</th>\n",
       "      <th>activity</th>\n",
       "      <th>name</th>\n",
       "      <th>sex</th>\n",
       "      <th>injury</th>\n",
       "      <th>fatal</th>\n",
       "      <th>species</th>\n",
       "      <th>ocean</th>\n",
       "    </tr>\n",
       "  </thead>\n",
       "  <tbody>\n",
       "    <tr>\n",
       "      <th>674</th>\n",
       "      <td>23-May-2013</td>\n",
       "      <td>2013</td>\n",
       "      <td>Provoked</td>\n",
       "      <td>PALESTINIAN TERRITORIES</td>\n",
       "      <td>NaN</td>\n",
       "      <td>Gaza</td>\n",
       "      <td>Fishing</td>\n",
       "      <td>Hamed Salah</td>\n",
       "      <td>M</td>\n",
       "      <td>Two fingers lost PROVOKED INCIDENT</td>\n",
       "      <td>N</td>\n",
       "      <td>NaN</td>\n",
       "      <td>PALESTINIAN TERRITORIES</td>\n",
       "    </tr>\n",
       "  </tbody>\n",
       "</table>\n",
       "</div>"
      ],
      "text/plain": [
       "            date  year      type                  country area location  \\\n",
       "674  23-May-2013  2013  Provoked  PALESTINIAN TERRITORIES  NaN     Gaza   \n",
       "\n",
       "    activity         name sex                              injury fatal  \\\n",
       "674  Fishing  Hamed Salah   M  Two fingers lost PROVOKED INCIDENT     N   \n",
       "\n",
       "    species                    ocean  \n",
       "674     NaN  PALESTINIAN TERRITORIES  "
      ]
     },
     "execution_count": 37,
     "metadata": {},
     "output_type": "execute_result"
    }
   ],
   "source": [
    "## ATENÇÃO ###\n",
    "# célula destinada a verificar dados de uma linha específica\n",
    "\n",
    "f_shark.loc[f_shark['ocean']=='PALESTINIAN TERRITORIES', :]"
   ]
  },
  {
   "cell_type": "markdown",
   "id": "applied-contributor",
   "metadata": {},
   "source": [
    "###  Filtrando oceanos pelas colunas oceano e área"
   ]
  },
  {
   "cell_type": "code",
   "execution_count": 38,
   "id": "unique-composer",
   "metadata": {
    "ExecuteTime": {
     "end_time": "2021-04-06T18:48:37.141278Z",
     "start_time": "2021-04-06T18:48:37.030574Z"
    }
   },
   "outputs": [],
   "source": [
    "# substituindo locais do Oceano Atlântico\n",
    "\n",
    "atl_keys = 'atlant|caribb|mediterr|north s'\n",
    "filtro_atl = (f_shark['ocean'].apply(lambda pais: True if re.search(atl_keys, str(pais).lower()) else False)) | (f_shark['area'].apply(lambda pais: True if re.search(atl_keys, str(pais).lower()) else False))\n",
    "f_shark.loc[filtro_atl, 'ocean'] = 'ATLANTIC OCEAN'"
   ]
  },
  {
   "cell_type": "code",
   "execution_count": 39,
   "id": "classical-retail",
   "metadata": {
    "ExecuteTime": {
     "end_time": "2021-04-06T18:48:37.234738Z",
     "start_time": "2021-04-06T18:48:37.145268Z"
    }
   },
   "outputs": [],
   "source": [
    "# substituindo locais do Oceano Pacífico\n",
    "\n",
    "pcf_keys = 'pacif'\n",
    "filtro_pcf = (f_shark['ocean'].apply(lambda pais: True if re.search(pcf_keys, str(pais).lower()) else False)) | (f_shark['area'].apply(lambda pais: True if re.search(pcf_keys, str(pais).lower()) else False))\n",
    "f_shark.loc[filtro_pcf, 'ocean'] = 'PACIFIC OCEAN'"
   ]
  },
  {
   "cell_type": "code",
   "execution_count": 40,
   "id": "personal-signature",
   "metadata": {
    "ExecuteTime": {
     "end_time": "2021-04-06T18:48:37.345076Z",
     "start_time": "2021-04-06T18:48:37.237729Z"
    }
   },
   "outputs": [],
   "source": [
    "# substituindo locais do Oceano Índico\n",
    "\n",
    "ind_keys = 'india|persian|red sea'\n",
    "filtro_ind = (f_shark['ocean'].apply(lambda pais: True if re.search(ind_keys, str(pais).lower()) else False)) | (f_shark['area'].apply(lambda pais: True if re.search(ind_keys, str(pais).lower()) else False))\n",
    "f_shark.loc[filtro_ind, 'ocean'] = 'INDIAN OCEAN'"
   ]
  },
  {
   "cell_type": "markdown",
   "id": "flying-poland",
   "metadata": {},
   "source": [
    "###  Filtrando oceanos por países"
   ]
  },
  {
   "cell_type": "code",
   "execution_count": 41,
   "id": "infinite-stopping",
   "metadata": {
    "ExecuteTime": {
     "end_time": "2021-04-06T18:48:37.502511Z",
     "start_time": "2021-04-06T18:48:37.355050Z"
    }
   },
   "outputs": [],
   "source": [
    "#filtrando por paises no Oceano Atlântico\n",
    "\n",
    "pais_atl = 'carlisle|st helena|brazil|haiti|honduras|argentina|peru|ecuador|venezu|columbia|spain|sloven|norw|guinea|georgia|aruba|gabon|angol|belize|crete|cayman|grenada|dominic|liberia|nigeria|france|united ki|scotl|turkey|el salv|england|ireland|azor|icel|falkl|guyana|cape v|florida|namib|curacao|bahamas|roatan|antigu|bermud|portugal|ghana|sierra|thomas|barbados|cuba|jamaica|puerto|artin|tobago|caico|urug|ionian|greece|croatia|italy|israel|lebanon|malta|monaco|montenegro|balkan|tunisia|libya|syria|alger|cypr'\n",
    "\n",
    "filtro_atl = f_shark['ocean'].apply(lambda pais: True if re.search(pais_atl, str(pais).lower()) else False)\n",
    "f_shark.loc[filtro_atl, 'ocean'] = 'ATLANTIC OCEAN'"
   ]
  },
  {
   "cell_type": "code",
   "execution_count": 42,
   "id": "knowing-booth",
   "metadata": {
    "ExecuteTime": {
     "end_time": "2021-04-06T18:48:37.594739Z",
     "start_time": "2021-04-06T18:48:37.514839Z"
    }
   },
   "outputs": [],
   "source": [
    "#filtrando por paises no Oceano Pacífico\n",
    "\n",
    "pais_pcf = 'china sea|tasman|^ocean|california|korea|japan|marshal|canada|kiribati|philippines|admir|tonga|asia|costa r|nicar|seneg|malay|singap|russia|mariana|hong kong|cook|johnston|solomon|guam|chile|fiji|microne|thail|palau|new brit|polyne|maldiv|zealand|samoa|okinawa|papua|new guinea|taiwan|tuvalu|vanuatu|caled|china|timor|vietn'\n",
    "\n",
    "filtro_pcf = f_shark['ocean'].apply(lambda pais: True if re.search(pais_pcf, str(pais).lower()) else False)\n",
    "f_shark.loc[filtro_pcf, 'ocean'] = 'PACIFIC OCEAN'"
   ]
  },
  {
   "cell_type": "code",
   "execution_count": 43,
   "id": "descending-crossing",
   "metadata": {
    "ExecuteTime": {
     "end_time": "2021-04-06T18:48:37.689172Z",
     "start_time": "2021-04-06T18:48:37.596735Z"
    }
   },
   "outputs": [],
   "source": [
    "#filtrando por paises no Oceano Índico\n",
    "\n",
    "pais_ind = 'bengal|arabian sea|aden|madagascar|reunion|mozamb|andam|egypt|bahrein|diego g|saudi a|arab em|mayote|burma|comoros|yeme|indonesia|java|banglad|maurit|keny|djib|seyc|sri|ceyl|tanza|somal|kuwai|iran|iraq'\n",
    "\n",
    "filtro_ind = f_shark['ocean'].apply(lambda pais: True if re.search(pais_ind, str(pais).lower()) else False)\n",
    "f_shark.loc[filtro_ind, 'ocean'] = 'INDIAN OCEAN'"
   ]
  },
  {
   "cell_type": "markdown",
   "id": "distinct-watts",
   "metadata": {
    "heading_collapsed": true
   },
   "source": [
    "### Tratamento dados dos EUA "
   ]
  },
  {
   "cell_type": "code",
   "execution_count": 44,
   "id": "august-planner",
   "metadata": {
    "ExecuteTime": {
     "end_time": "2021-04-06T18:48:37.765962Z",
     "start_time": "2021-04-06T18:48:37.694152Z"
    },
    "hidden": true
   },
   "outputs": [
    {
     "data": {
      "text/plain": [
       "Florida                   1037\n",
       "Hawaii                     298\n",
       "California                 290\n",
       "South Carolina             159\n",
       "North Carolina             101\n",
       "Texas                       73\n",
       "New Jersey                  52\n",
       "New York                    30\n",
       "Oregon                      29\n",
       "Virginia                    19\n",
       "Puerto Rico                 16\n",
       "Massachusetts               16\n",
       "Alabama                     15\n",
       "Georgia                     14\n",
       "Louisiana                   11\n",
       "Maryland                     7\n",
       "Rhode Island                 7\n",
       "Delaware                     7\n",
       "Connecticut                  6\n",
       "US Virgin Islands            5\n",
       "Mississippi                  5\n",
       "New York                     3\n",
       "Palmyra Atoll                2\n",
       "North Carolina               2\n",
       "East coast                   2\n",
       "Washington                   2\n",
       "Kentucky                     1\n",
       "Guam                         1\n",
       " North Carolina              1\n",
       "Illinois                     1\n",
       "New Mexico                   1\n",
       "Pennsylvania                 1\n",
       "Wake Island                  1\n",
       "Alaska                       1\n",
       "Johnston Atoll               1\n",
       "Gulf of California           1\n",
       "Midway Atoll                 1\n",
       "North & South Carolina       1\n",
       "South Carolina               1\n",
       "Florida                      1\n",
       "CUBA                         1\n",
       " New Jersey                  1\n",
       "Missouri                     1\n",
       "Maine                        1\n",
       "Name: area, dtype: int64"
      ]
     },
     "execution_count": 44,
     "metadata": {},
     "output_type": "execute_result"
    }
   ],
   "source": [
    "# filtrando dados dos EUA\n",
    "\n",
    "f_shark.loc[(f_shark['ocean']=='USA'), 'area'].value_counts()"
   ]
  },
  {
   "cell_type": "code",
   "execution_count": 45,
   "id": "different-sender",
   "metadata": {
    "ExecuteTime": {
     "end_time": "2021-04-06T18:48:37.859767Z",
     "start_time": "2021-04-06T18:48:37.767957Z"
    },
    "hidden": true
   },
   "outputs": [
    {
     "data": {
      "text/html": [
       "<div>\n",
       "<style scoped>\n",
       "    .dataframe tbody tr th:only-of-type {\n",
       "        vertical-align: middle;\n",
       "    }\n",
       "\n",
       "    .dataframe tbody tr th {\n",
       "        vertical-align: top;\n",
       "    }\n",
       "\n",
       "    .dataframe thead th {\n",
       "        text-align: right;\n",
       "    }\n",
       "</style>\n",
       "<table border=\"1\" class=\"dataframe\">\n",
       "  <thead>\n",
       "    <tr style=\"text-align: right;\">\n",
       "      <th></th>\n",
       "      <th>date</th>\n",
       "      <th>year</th>\n",
       "      <th>type</th>\n",
       "      <th>country</th>\n",
       "      <th>area</th>\n",
       "      <th>location</th>\n",
       "      <th>activity</th>\n",
       "      <th>name</th>\n",
       "      <th>sex</th>\n",
       "      <th>injury</th>\n",
       "      <th>fatal</th>\n",
       "      <th>species</th>\n",
       "      <th>ocean</th>\n",
       "    </tr>\n",
       "  </thead>\n",
       "  <tbody>\n",
       "    <tr>\n",
       "      <th>1605</th>\n",
       "      <td>12-Mar-2005</td>\n",
       "      <td>2005</td>\n",
       "      <td>Provoked</td>\n",
       "      <td>USA</td>\n",
       "      <td>New Mexico</td>\n",
       "      <td>Albuquerue Aquarium, Albuquerue</td>\n",
       "      <td>Diving in aquarium display tank</td>\n",
       "      <td>Ken Pitts</td>\n",
       "      <td>M</td>\n",
       "      <td>2 punctures on forearm as captive shark collid...</td>\n",
       "      <td>N</td>\n",
       "      <td>Sandtiger shark, 2.1 m [7']</td>\n",
       "      <td>USA</td>\n",
       "    </tr>\n",
       "  </tbody>\n",
       "</table>\n",
       "</div>"
      ],
      "text/plain": [
       "             date  year      type country        area  \\\n",
       "1605  12-Mar-2005  2005  Provoked     USA  New Mexico   \n",
       "\n",
       "                             location                         activity  \\\n",
       "1605  Albuquerue Aquarium, Albuquerue  Diving in aquarium display tank   \n",
       "\n",
       "           name sex                                             injury fatal  \\\n",
       "1605  Ken Pitts   M  2 punctures on forearm as captive shark collid...     N   \n",
       "\n",
       "                           species ocean  \n",
       "1605  Sandtiger shark, 2.1 m [7']    USA  "
      ]
     },
     "execution_count": 45,
     "metadata": {},
     "output_type": "execute_result"
    }
   ],
   "source": [
    "f_shark.loc[(f_shark['ocean']=='USA') & (f_shark['area']=='New Mexico'), :]"
   ]
  },
  {
   "cell_type": "code",
   "execution_count": 46,
   "id": "chicken-austin",
   "metadata": {
    "ExecuteTime": {
     "end_time": "2021-04-06T18:48:38.000518Z",
     "start_time": "2021-04-06T18:48:37.861730Z"
    },
    "hidden": true
   },
   "outputs": [],
   "source": [
    "# Filtrando os incidentes no lado Pacífico dos EUA\n",
    "\n",
    "usa_pcf = 'hawai|califo|alas|atoll|guam|washin|oreg'\n",
    "\n",
    "filtro_usa_pcf = (f_shark['area'].apply(lambda pais: True if re.search(usa_pcf, str(pais).lower()) else False)) & (f_shark['country']=='USA')\n",
    "f_shark.loc[filtro_usa_pcf, 'ocean'] = 'PACIFIC OCEAN'"
   ]
  },
  {
   "cell_type": "code",
   "execution_count": 47,
   "id": "gentle-nelson",
   "metadata": {
    "ExecuteTime": {
     "end_time": "2021-04-06T18:48:38.078276Z",
     "start_time": "2021-04-06T18:48:38.002480Z"
    },
    "hidden": true
   },
   "outputs": [],
   "source": [
    "# Preenchendo os outros incidentes dos EUA com Atlântico\n",
    "\n",
    "f_shark.loc[(f_shark['country']=='USA') & (f_shark['ocean'] != 'PACIFIC OCEAN'), 'ocean'] = 'ATLANTIC OCEAN'"
   ]
  },
  {
   "cell_type": "markdown",
   "id": "sexual-fifty",
   "metadata": {
    "heading_collapsed": true
   },
   "source": [
    "###  Tratamento dados da Austrália"
   ]
  },
  {
   "cell_type": "code",
   "execution_count": 48,
   "id": "unavailable-focus",
   "metadata": {
    "ExecuteTime": {
     "end_time": "2021-04-06T18:48:38.158066Z",
     "start_time": "2021-04-06T18:48:38.080271Z"
    },
    "hidden": true
   },
   "outputs": [
    {
     "data": {
      "text/plain": [
       "New South Wales                         486\n",
       "Queensland                              311\n",
       "Western Australia                       189\n",
       "South Australia                         104\n",
       "Victoria                                 90\n",
       "Torres Strait                            70\n",
       "Tasmania                                 41\n",
       "Northern Territory                       23\n",
       "Westerm Australia                         3\n",
       "Torres Strait                             2\n",
       "Victoria                                  2\n",
       "35º39 : 165º8'                            1\n",
       "Territory of Cocos (Keeling) Islands      1\n",
       "Norfolk Island                            1\n",
       "Queensland                                1\n",
       "Name: area, dtype: int64"
      ]
     },
     "execution_count": 48,
     "metadata": {},
     "output_type": "execute_result"
    }
   ],
   "source": [
    "# Verificando dados da Austrália\n",
    "\n",
    "f_shark.loc[(f_shark['ocean']=='AUSTRALIA'), 'area'].value_counts()"
   ]
  },
  {
   "cell_type": "code",
   "execution_count": 49,
   "id": "intended-attention",
   "metadata": {
    "ExecuteTime": {
     "end_time": "2021-04-06T18:48:38.250815Z",
     "start_time": "2021-04-06T18:48:38.160058Z"
    },
    "hidden": true
   },
   "outputs": [],
   "source": [
    "# Filtrando os incidentes no lado Índico da Austrália\n",
    "\n",
    "aus_ind = 'western|south aus|keeling'\n",
    "\n",
    "filtro_aus_ind = (f_shark['area'].apply(lambda pais: True if re.search(aus_ind, str(pais).lower()) else False)) & (f_shark['country']=='AUSTRALIA')\n",
    "f_shark.loc[filtro_aus_ind, 'ocean'] = 'INDIAN OCEAN'"
   ]
  },
  {
   "cell_type": "code",
   "execution_count": 50,
   "id": "adjusted-cholesterol",
   "metadata": {
    "ExecuteTime": {
     "end_time": "2021-04-06T18:48:38.328613Z",
     "start_time": "2021-04-06T18:48:38.253807Z"
    },
    "hidden": true
   },
   "outputs": [],
   "source": [
    "# Preenchendo os outros incidentes da Austrália com Pacífico\n",
    "\n",
    "f_shark.loc[(f_shark['country']=='AUSTRALIA') & (f_shark['ocean'] != 'INDIAN OCEAN'), 'ocean'] = 'PACIFIC OCEAN'"
   ]
  },
  {
   "cell_type": "markdown",
   "id": "encouraging-maximum",
   "metadata": {
    "heading_collapsed": true
   },
   "source": [
    "###  Tratamento dados da África do Sul"
   ]
  },
  {
   "cell_type": "code",
   "execution_count": 51,
   "id": "promising-oliver",
   "metadata": {
    "ExecuteTime": {
     "end_time": "2021-04-06T18:48:38.422428Z",
     "start_time": "2021-04-06T18:48:38.331609Z"
    },
    "hidden": true
   },
   "outputs": [
    {
     "data": {
      "text/plain": [
       "KwaZulu-Natal                                          213\n",
       "Western Cape Province                                  195\n",
       "Eastern Cape Province                                  160\n",
       "Eastern Cape  Province                                   1\n",
       "KwaZulu-Natal between Port Edward and Port St Johns      1\n",
       "Transvaal                                                1\n",
       "Western Province                                         1\n",
       "Eastern Province                                         1\n",
       "Name: area, dtype: int64"
      ]
     },
     "execution_count": 51,
     "metadata": {},
     "output_type": "execute_result"
    }
   ],
   "source": [
    "# filtrando dados da África do Sul\n",
    "\n",
    "f_shark.loc[(f_shark['ocean']=='SOUTH AFRICA'), 'area'].value_counts()"
   ]
  },
  {
   "cell_type": "code",
   "execution_count": 52,
   "id": "exterior-vertical",
   "metadata": {
    "ExecuteTime": {
     "end_time": "2021-04-06T18:48:38.501205Z",
     "start_time": "2021-04-06T18:48:38.424450Z"
    },
    "hidden": true
   },
   "outputs": [],
   "source": [
    "# Filtrando os incidentes no lado Atlântico da África do Sul\n",
    "\n",
    "afs_atl = 'western|atlant'\n",
    "\n",
    "filtro_afs_atl = (f_shark['area'].apply(lambda pais: True if re.search(afs_atl, str(pais).lower()) else False)) & (f_shark['country']=='SOUTH AFRICA')\n",
    "f_shark.loc[filtro_afs_atl, 'ocean'] = 'ATLANTIC OCEAN'"
   ]
  },
  {
   "cell_type": "code",
   "execution_count": 53,
   "id": "democratic-atlantic",
   "metadata": {
    "ExecuteTime": {
     "end_time": "2021-04-06T18:48:38.579583Z",
     "start_time": "2021-04-06T18:48:38.503201Z"
    },
    "hidden": true
   },
   "outputs": [],
   "source": [
    "# Preenchendo os outros incidentes da África do Sul com Índico\n",
    "\n",
    "f_shark.loc[(f_shark['country']=='SOUTH AFRICA') & (f_shark['ocean'] != 'ATLANTIC OCEAN'), 'ocean'] = 'INDIAN OCEAN'"
   ]
  },
  {
   "cell_type": "markdown",
   "id": "selected-suite",
   "metadata": {
    "heading_collapsed": true
   },
   "source": [
    "###  Tratamento dados do México"
   ]
  },
  {
   "cell_type": "code",
   "execution_count": 54,
   "id": "mathematical-identity",
   "metadata": {
    "ExecuteTime": {
     "end_time": "2021-04-06T18:48:38.674330Z",
     "start_time": "2021-04-06T18:48:38.581578Z"
    },
    "hidden": true,
    "scrolled": true
   },
   "outputs": [
    {
     "data": {
      "text/plain": [
       "Veracruz               15\n",
       "Guerrero               13\n",
       "Quintana Roo           12\n",
       "Baja California        10\n",
       "Tamaulipas              5\n",
       "Guerro                  4\n",
       "Colima                  4\n",
       "Sinaloa                 3\n",
       "Guerrrero               3\n",
       "Vera Cruz               3\n",
       "Veracruz                2\n",
       "Oaxaca                  2\n",
       "Bay of Campeche         1\n",
       "Tabasco                 1\n",
       "Baja California Sur     1\n",
       "Cabo San Lucas          1\n",
       "Guyamas                 1\n",
       "Name: area, dtype: int64"
      ]
     },
     "execution_count": 54,
     "metadata": {},
     "output_type": "execute_result"
    }
   ],
   "source": [
    "# filtrando dados do México\n",
    "\n",
    "f_shark.loc[(f_shark['ocean']=='MEXICO'), 'area'].value_counts()"
   ]
  },
  {
   "cell_type": "code",
   "execution_count": 55,
   "id": "physical-dublin",
   "metadata": {
    "ExecuteTime": {
     "end_time": "2021-04-06T18:48:38.753118Z",
     "start_time": "2021-04-06T18:48:38.676325Z"
    },
    "hidden": true
   },
   "outputs": [],
   "source": [
    "# Filtrando os incidentes no lado Atlântico do México\n",
    "\n",
    "mex_atl = 'vera|quint|tamau|carib|taba|campe'\n",
    "\n",
    "filtro_mex_atl = (f_shark['area'].apply(lambda pais: True if re.search(mex_atl, str(pais).lower()) else False)) & (f_shark['country']=='MEXICO')\n",
    "f_shark.loc[filtro_mex_atl, 'ocean'] = 'ATLANTIC OCEAN'"
   ]
  },
  {
   "cell_type": "code",
   "execution_count": 56,
   "id": "inside-delicious",
   "metadata": {
    "ExecuteTime": {
     "end_time": "2021-04-06T18:48:38.923782Z",
     "start_time": "2021-04-06T18:48:38.755114Z"
    },
    "hidden": true
   },
   "outputs": [],
   "source": [
    "# Preenchendo os outros incidentes do México com Pacífico\n",
    "\n",
    "f_shark.loc[(f_shark['country']=='MEXICO') & (f_shark['ocean'] != 'ATLANTIC OCEAN'), 'ocean'] = 'PACIFIC OCEAN'"
   ]
  },
  {
   "cell_type": "markdown",
   "id": "aware-covering",
   "metadata": {},
   "source": [
    "###  Tratamento dados da Espanha"
   ]
  },
  {
   "cell_type": "markdown",
   "id": "declared-durham",
   "metadata": {
    "heading_collapsed": true
   },
   "source": [
    "###  Tratamento dados do Panamá"
   ]
  },
  {
   "cell_type": "code",
   "execution_count": 57,
   "id": "alive-scottish",
   "metadata": {
    "ExecuteTime": {
     "end_time": "2021-04-06T18:48:39.017529Z",
     "start_time": "2021-04-06T18:48:38.925745Z"
    },
    "hidden": true
   },
   "outputs": [],
   "source": [
    "# Filtrando os incidentes no lado Pacífico do Panamá\n",
    "\n",
    "pnm_pcf = 'gulf'\n",
    "\n",
    "filtro_pnm_pcf = (f_shark['area'].apply(lambda pais: True if re.search(pnm_pcf, str(pais).lower()) else False)) & (f_shark['country']=='PANAMA')\n",
    "f_shark.loc[filtro_pnm_pcf, 'area'] = 'PACIFIC OCEAN'"
   ]
  },
  {
   "cell_type": "code",
   "execution_count": 58,
   "id": "tracked-temple",
   "metadata": {
    "ExecuteTime": {
     "end_time": "2021-04-06T18:48:39.095864Z",
     "start_time": "2021-04-06T18:48:39.019526Z"
    },
    "hidden": true
   },
   "outputs": [],
   "source": [
    "# Preenchendo os outros incidentes do Panamá com Atlântico\n",
    "\n",
    "f_shark.loc[(f_shark['country']=='PANAMA') & (f_shark['ocean'] != 'PACIFIC OCEAN'), 'ocean'] = 'ATLANTIC OCEAN'"
   ]
  },
  {
   "cell_type": "markdown",
   "id": "integral-crisis",
   "metadata": {},
   "source": [
    "###  Verificação"
   ]
  },
  {
   "cell_type": "code",
   "execution_count": 59,
   "id": "rapid-verification",
   "metadata": {
    "ExecuteTime": {
     "end_time": "2021-04-06T18:48:39.174744Z",
     "start_time": "2021-04-06T18:48:39.098823Z"
    }
   },
   "outputs": [
    {
     "name": "stdout",
     "output_type": "stream",
     "text": [
      "['AFRICA', 'ATLANTIC OCEAN', 'BRITISH VIRGIN ISLANDS', 'BRITISH WEST INDIES', 'COAST OF AFRICA', 'FRENCH SOUTHERN TERRITORIES', 'GREENLAND', 'GUATEMALA', 'INDIAN OCEAN', 'MAYOTTE', 'NEAR THE EQUATOR', 'NETHERLANDS ANTILLES', 'NEVIS', 'OFF SOUTH AMERICAN COAST', 'PACIFIC OCEAN', 'PALESTINIAN TERRITORIES', 'PARAGUAY', 'SAN DOMINGO', 'SANTA CRUZ', 'WEST INDIES', 'WESTERN BANKS']\n"
     ]
    }
   ],
   "source": [
    "# verificando \n",
    "\n",
    "paises = sorted(list(f_shark['ocean'].value_counts().index))\n",
    "print(paises)"
   ]
  },
  {
   "cell_type": "code",
   "execution_count": 60,
   "id": "level-string",
   "metadata": {
    "ExecuteTime": {
     "end_time": "2021-04-06T18:48:39.269511Z",
     "start_time": "2021-04-06T18:48:39.176714Z"
    }
   },
   "outputs": [
    {
     "data": {
      "text/plain": [
       "(29, 13)"
      ]
     },
     "execution_count": 60,
     "metadata": {},
     "output_type": "execute_result"
    }
   ],
   "source": [
    "# verificando linhas sem nenhuma informação do local\n",
    "\n",
    "f_shark.loc[f_shark['ocean'].isnull(), :].shape"
   ]
  },
  {
   "cell_type": "code",
   "execution_count": 61,
   "id": "funky-indonesian",
   "metadata": {
    "ExecuteTime": {
     "end_time": "2021-04-06T18:48:39.346813Z",
     "start_time": "2021-04-06T18:48:39.270475Z"
    }
   },
   "outputs": [
    {
     "data": {
      "text/plain": [
       "ATLANTIC OCEAN                 2811\n",
       "PACIFIC OCEAN                  2396\n",
       "INDIAN OCEAN                   1047\n",
       "WEST INDIES                       2\n",
       "GUATEMALA                         1\n",
       "WESTERN BANKS                     1\n",
       "GREENLAND                         1\n",
       "BRITISH WEST INDIES               1\n",
       "COAST OF AFRICA                   1\n",
       "SAN DOMINGO                       1\n",
       "SANTA CRUZ                        1\n",
       "AFRICA                            1\n",
       "NEAR THE EQUATOR                  1\n",
       "PALESTINIAN TERRITORIES           1\n",
       "OFF SOUTH AMERICAN COAST          1\n",
       "BRITISH VIRGIN ISLANDS            1\n",
       "NEVIS                             1\n",
       "PARAGUAY                          1\n",
       "MAYOTTE                           1\n",
       "FRENCH SOUTHERN TERRITORIES       1\n",
       "NETHERLANDS ANTILLES              1\n",
       "Name: ocean, dtype: int64"
      ]
     },
     "execution_count": 61,
     "metadata": {},
     "output_type": "execute_result"
    }
   ],
   "source": [
    "f_shark['ocean'].value_counts()"
   ]
  },
  {
   "cell_type": "markdown",
   "id": "radio-nirvana",
   "metadata": {
    "heading_collapsed": true
   },
   "source": [
    "## Tratamento de mês\n",
    "\n",
    "<b> Esta frente foi abandonada !!!</b>"
   ]
  },
  {
   "cell_type": "markdown",
   "id": "later-winning",
   "metadata": {
    "hidden": true
   },
   "source": [
    "def class_per(data):\n",
    "    '''\n",
    "    '''\n",
    "    pad_mes = 'jan|feb|mar|apr|may|jun|jul|aug|sep|oct|nov|dec'\n",
    "    pad_est = 'fall|summer|winter|spring'\n",
    "    \n",
    "    if re.search(pad_mes, data.lower):\n",
    "        per = \n",
    "        return re.findall(pad_)"
   ]
  },
  {
   "cell_type": "markdown",
   "id": "positive-joshua",
   "metadata": {
    "ExecuteTime": {
     "end_time": "2021-04-06T13:41:41.044832Z",
     "start_time": "2021-04-06T13:41:40.950441Z"
    },
    "hidden": true
   },
   "source": [
    "pat_month = 'jan|feb|mar|ap[r]?|may|jun|jul|aug|sep|oct|nov|dec|fall|summer|winter|spring'\n",
    "\n",
    "f_shark['month'] = f_shark['date'].apply(lambda date: re.findall(pat_month, date.lower())[0] if re.search(pat_month, date.lower()) else 0)"
   ]
  },
  {
   "cell_type": "markdown",
   "id": "static-curve",
   "metadata": {
    "ExecuteTime": {
     "end_time": "2021-04-06T13:41:41.130684Z",
     "start_time": "2021-04-06T13:41:41.046706Z"
    },
    "hidden": true
   },
   "source": [
    "f_shark['month'].value_counts()"
   ]
  },
  {
   "cell_type": "markdown",
   "id": "daily-joint",
   "metadata": {
    "ExecuteTime": {
     "end_time": "2021-04-06T13:41:41.220156Z",
     "start_time": "2021-04-06T13:41:41.133400Z"
    },
    "hidden": true
   },
   "source": [
    "f_shark['month'] = f_shark['date'].apply(lambda date: re.sub('\\d{4}', '', date))"
   ]
  },
  {
   "cell_type": "markdown",
   "id": "developmental-indianapolis",
   "metadata": {
    "ExecuteTime": {
     "end_time": "2021-04-06T13:41:41.312560Z",
     "start_time": "2021-04-06T13:41:41.221911Z"
    },
    "hidden": true
   },
   "source": [
    "f_shark['month']"
   ]
  },
  {
   "cell_type": "markdown",
   "id": "ruled-label",
   "metadata": {
    "ExecuteTime": {
     "end_time": "2021-04-06T13:41:41.396717Z",
     "start_time": "2021-04-06T13:41:41.314460Z"
    },
    "hidden": true
   },
   "source": [
    "f_shark.loc[f_shark['month']== 0, 'date'].apply(lambda date: re.findall('\\.(\\d{2})\\.', date))"
   ]
  },
  {
   "cell_type": "markdown",
   "id": "separate-philippines",
   "metadata": {
    "ExecuteTime": {
     "end_time": "2021-04-06T13:41:41.480507Z",
     "start_time": "2021-04-06T13:41:41.399449Z"
    },
    "hidden": true
   },
   "source": [
    "f_shark.loc[f_shark['month']==0, 'date'].apply(lambda date: re.sub('\\d{4}', '', date)).value_counts()"
   ]
  },
  {
   "cell_type": "markdown",
   "id": "atlantic-transmission",
   "metadata": {
    "heading_collapsed": true
   },
   "source": [
    "## Tratamento de gênero"
   ]
  },
  {
   "cell_type": "code",
   "execution_count": 62,
   "id": "proper-convert",
   "metadata": {
    "ExecuteTime": {
     "end_time": "2021-04-06T18:48:39.440845Z",
     "start_time": "2021-04-06T18:48:39.349804Z"
    },
    "hidden": true
   },
   "outputs": [
    {
     "data": {
      "text/plain": [
       "M      5094\n",
       "F       637\n",
       "N         2\n",
       "M         2\n",
       "lli       1\n",
       ".         1\n",
       "Name: sex, dtype: int64"
      ]
     },
     "execution_count": 62,
     "metadata": {},
     "output_type": "execute_result"
    }
   ],
   "source": [
    "# verificando coluna de gênero\n",
    "\n",
    "f_shark['sex'].value_counts()"
   ]
  },
  {
   "cell_type": "code",
   "execution_count": 63,
   "id": "reliable-disclaimer",
   "metadata": {
    "ExecuteTime": {
     "end_time": "2021-04-06T18:48:39.535576Z",
     "start_time": "2021-04-06T18:48:39.442801Z"
    },
    "hidden": true
   },
   "outputs": [
    {
     "data": {
      "text/html": [
       "<div>\n",
       "<style scoped>\n",
       "    .dataframe tbody tr th:only-of-type {\n",
       "        vertical-align: middle;\n",
       "    }\n",
       "\n",
       "    .dataframe tbody tr th {\n",
       "        vertical-align: top;\n",
       "    }\n",
       "\n",
       "    .dataframe thead th {\n",
       "        text-align: right;\n",
       "    }\n",
       "</style>\n",
       "<table border=\"1\" class=\"dataframe\">\n",
       "  <thead>\n",
       "    <tr style=\"text-align: right;\">\n",
       "      <th></th>\n",
       "      <th>date</th>\n",
       "      <th>year</th>\n",
       "      <th>type</th>\n",
       "      <th>country</th>\n",
       "      <th>area</th>\n",
       "      <th>location</th>\n",
       "      <th>activity</th>\n",
       "      <th>name</th>\n",
       "      <th>sex</th>\n",
       "      <th>injury</th>\n",
       "      <th>fatal</th>\n",
       "      <th>species</th>\n",
       "      <th>ocean</th>\n",
       "    </tr>\n",
       "  </thead>\n",
       "  <tbody>\n",
       "    <tr>\n",
       "      <th>32</th>\n",
       "      <td>09-Apr-2018</td>\n",
       "      <td>2018</td>\n",
       "      <td>Unprovoked</td>\n",
       "      <td>NEW CALEDONIA</td>\n",
       "      <td>NaN</td>\n",
       "      <td>Magenta Beach, Noumea</td>\n",
       "      <td>Windsurfing</td>\n",
       "      <td>NaN</td>\n",
       "      <td>NaN</td>\n",
       "      <td>No injury, shark bit board</td>\n",
       "      <td>N</td>\n",
       "      <td>2 m shark</td>\n",
       "      <td>PACIFIC OCEAN</td>\n",
       "    </tr>\n",
       "    <tr>\n",
       "      <th>86</th>\n",
       "      <td>Sep-2017</td>\n",
       "      <td>2017</td>\n",
       "      <td>Boat</td>\n",
       "      <td>AUSTRALIA</td>\n",
       "      <td>Westerm Australia</td>\n",
       "      <td>Esperance</td>\n",
       "      <td>Fishing</td>\n",
       "      <td>NaN</td>\n",
       "      <td>NaN</td>\n",
       "      <td>sharks rammed boats, no injury to occupants</td>\n",
       "      <td>N</td>\n",
       "      <td>White shark, 3.5m</td>\n",
       "      <td>PACIFIC OCEAN</td>\n",
       "    </tr>\n",
       "    <tr>\n",
       "      <th>124</th>\n",
       "      <td>02-Jul-2017</td>\n",
       "      <td>2017</td>\n",
       "      <td>Invalid</td>\n",
       "      <td>COMOROS</td>\n",
       "      <td>Anjouan</td>\n",
       "      <td>Moya</td>\n",
       "      <td>Fishing</td>\n",
       "      <td>NaN</td>\n",
       "      <td>NaN</td>\n",
       "      <td>Skull found in shark, a probable drowning &amp; sc...</td>\n",
       "      <td>NaN</td>\n",
       "      <td>Shark involvement prior to death not confirmed</td>\n",
       "      <td>INDIAN OCEAN</td>\n",
       "    </tr>\n",
       "    <tr>\n",
       "      <th>154</th>\n",
       "      <td>17-Apr-2017</td>\n",
       "      <td>2017</td>\n",
       "      <td>Unprovoked</td>\n",
       "      <td>USA</td>\n",
       "      <td>Florida</td>\n",
       "      <td>Daytona Beach, Volusia County</td>\n",
       "      <td>NaN</td>\n",
       "      <td>NaN</td>\n",
       "      <td>NaN</td>\n",
       "      <td>Minor bite to the foot</td>\n",
       "      <td>N</td>\n",
       "      <td>NaN</td>\n",
       "      <td>ATLANTIC OCEAN</td>\n",
       "    </tr>\n",
       "    <tr>\n",
       "      <th>226</th>\n",
       "      <td>Sep-2016</td>\n",
       "      <td>2016</td>\n",
       "      <td>Invalid</td>\n",
       "      <td>MEXICO</td>\n",
       "      <td>NaN</td>\n",
       "      <td>Guadalupe Island</td>\n",
       "      <td>Cage Diving</td>\n",
       "      <td>NaN</td>\n",
       "      <td>NaN</td>\n",
       "      <td>No injury to divers, white shark breached cage</td>\n",
       "      <td>NaN</td>\n",
       "      <td>Invalid</td>\n",
       "      <td>PACIFIC OCEAN</td>\n",
       "    </tr>\n",
       "    <tr>\n",
       "      <th>...</th>\n",
       "      <td>...</td>\n",
       "      <td>...</td>\n",
       "      <td>...</td>\n",
       "      <td>...</td>\n",
       "      <td>...</td>\n",
       "      <td>...</td>\n",
       "      <td>...</td>\n",
       "      <td>...</td>\n",
       "      <td>...</td>\n",
       "      <td>...</td>\n",
       "      <td>...</td>\n",
       "      <td>...</td>\n",
       "      <td>...</td>\n",
       "    </tr>\n",
       "    <tr>\n",
       "      <th>6157</th>\n",
       "      <td>1733</td>\n",
       "      <td>1733</td>\n",
       "      <td>Invalid</td>\n",
       "      <td>ICELAND</td>\n",
       "      <td>Bardestrand</td>\n",
       "      <td>Talkknefiord</td>\n",
       "      <td>NaN</td>\n",
       "      <td>NaN</td>\n",
       "      <td>NaN</td>\n",
       "      <td>Partial hominid remains recovered from shark, ...</td>\n",
       "      <td>NaN</td>\n",
       "      <td>Shark involvement prior to death unconfirmed</td>\n",
       "      <td>ATLANTIC OCEAN</td>\n",
       "    </tr>\n",
       "    <tr>\n",
       "      <th>6185</th>\n",
       "      <td>Before 1934</td>\n",
       "      <td>1934</td>\n",
       "      <td>Unprovoked</td>\n",
       "      <td>URUGUAY</td>\n",
       "      <td>Rocha</td>\n",
       "      <td>Isla Chica, La Paloma</td>\n",
       "      <td>Swimming</td>\n",
       "      <td>NaN</td>\n",
       "      <td>NaN</td>\n",
       "      <td>Foot bitten</td>\n",
       "      <td>N</td>\n",
       "      <td>NaN</td>\n",
       "      <td>ATLANTIC OCEAN</td>\n",
       "    </tr>\n",
       "    <tr>\n",
       "      <th>6197</th>\n",
       "      <td>Before 2012</td>\n",
       "      <td>2012</td>\n",
       "      <td>Unprovoked</td>\n",
       "      <td>SPAIN</td>\n",
       "      <td>Canary Islands</td>\n",
       "      <td>Tenerife</td>\n",
       "      <td>Skin diving</td>\n",
       "      <td>NaN</td>\n",
       "      <td>NaN</td>\n",
       "      <td>Injury required 16 stitches</td>\n",
       "      <td>N</td>\n",
       "      <td>NaN</td>\n",
       "      <td>ATLANTIC OCEAN</td>\n",
       "    </tr>\n",
       "    <tr>\n",
       "      <th>6237</th>\n",
       "      <td>No date, Before 1963</td>\n",
       "      <td>1963</td>\n",
       "      <td>Unprovoked</td>\n",
       "      <td>SINGAPORE</td>\n",
       "      <td>NaN</td>\n",
       "      <td>Keppel Harbor,  2 miles from Singapore city ce...</td>\n",
       "      <td>Swimming</td>\n",
       "      <td>NaN</td>\n",
       "      <td>NaN</td>\n",
       "      <td>Recovered</td>\n",
       "      <td>N</td>\n",
       "      <td>NaN</td>\n",
       "      <td>PACIFIC OCEAN</td>\n",
       "    </tr>\n",
       "    <tr>\n",
       "      <th>6278</th>\n",
       "      <td>Between 1918 &amp; 1939</td>\n",
       "      <td>1918</td>\n",
       "      <td>Unprovoked</td>\n",
       "      <td>REUNION</td>\n",
       "      <td>Saint-Denis</td>\n",
       "      <td>Barachois</td>\n",
       "      <td>Swimming</td>\n",
       "      <td>NaN</td>\n",
       "      <td>NaN</td>\n",
       "      <td>FATAL</td>\n",
       "      <td>Y</td>\n",
       "      <td>NaN</td>\n",
       "      <td>INDIAN OCEAN</td>\n",
       "    </tr>\n",
       "  </tbody>\n",
       "</table>\n",
       "<p>145 rows × 13 columns</p>\n",
       "</div>"
      ],
      "text/plain": [
       "                      date  year        type        country  \\\n",
       "32             09-Apr-2018  2018  Unprovoked  NEW CALEDONIA   \n",
       "86                Sep-2017  2017        Boat      AUSTRALIA   \n",
       "124            02-Jul-2017  2017     Invalid        COMOROS   \n",
       "154            17-Apr-2017  2017  Unprovoked            USA   \n",
       "226               Sep-2016  2016     Invalid         MEXICO   \n",
       "...                    ...   ...         ...            ...   \n",
       "6157                  1733  1733     Invalid        ICELAND   \n",
       "6185           Before 1934  1934  Unprovoked        URUGUAY   \n",
       "6197           Before 2012  2012  Unprovoked          SPAIN   \n",
       "6237  No date, Before 1963  1963  Unprovoked      SINGAPORE   \n",
       "6278   Between 1918 & 1939  1918  Unprovoked        REUNION   \n",
       "\n",
       "                   area                                           location  \\\n",
       "32                  NaN                              Magenta Beach, Noumea   \n",
       "86    Westerm Australia                                          Esperance   \n",
       "124             Anjouan                                               Moya   \n",
       "154             Florida                      Daytona Beach, Volusia County   \n",
       "226                 NaN                                   Guadalupe Island   \n",
       "...                 ...                                                ...   \n",
       "6157        Bardestrand                                       Talkknefiord   \n",
       "6185              Rocha                              Isla Chica, La Paloma   \n",
       "6197     Canary Islands                                           Tenerife   \n",
       "6237                NaN  Keppel Harbor,  2 miles from Singapore city ce...   \n",
       "6278        Saint-Denis                                          Barachois   \n",
       "\n",
       "         activity name  sex  \\\n",
       "32    Windsurfing  NaN  NaN   \n",
       "86        Fishing  NaN  NaN   \n",
       "124       Fishing  NaN  NaN   \n",
       "154           NaN  NaN  NaN   \n",
       "226   Cage Diving  NaN  NaN   \n",
       "...           ...  ...  ...   \n",
       "6157          NaN  NaN  NaN   \n",
       "6185     Swimming  NaN  NaN   \n",
       "6197  Skin diving  NaN  NaN   \n",
       "6237     Swimming  NaN  NaN   \n",
       "6278     Swimming  NaN  NaN   \n",
       "\n",
       "                                                 injury fatal  \\\n",
       "32                           No injury, shark bit board     N   \n",
       "86          sharks rammed boats, no injury to occupants     N   \n",
       "124   Skull found in shark, a probable drowning & sc...   NaN   \n",
       "154                              Minor bite to the foot     N   \n",
       "226      No injury to divers, white shark breached cage   NaN   \n",
       "...                                                 ...   ...   \n",
       "6157  Partial hominid remains recovered from shark, ...   NaN   \n",
       "6185                                        Foot bitten     N   \n",
       "6197                        Injury required 16 stitches     N   \n",
       "6237                                          Recovered     N   \n",
       "6278                                              FATAL     Y   \n",
       "\n",
       "                                             species           ocean  \n",
       "32                                         2 m shark   PACIFIC OCEAN  \n",
       "86                                 White shark, 3.5m   PACIFIC OCEAN  \n",
       "124   Shark involvement prior to death not confirmed    INDIAN OCEAN  \n",
       "154                                              NaN  ATLANTIC OCEAN  \n",
       "226                                          Invalid   PACIFIC OCEAN  \n",
       "...                                              ...             ...  \n",
       "6157    Shark involvement prior to death unconfirmed  ATLANTIC OCEAN  \n",
       "6185                                             NaN  ATLANTIC OCEAN  \n",
       "6197                                             NaN  ATLANTIC OCEAN  \n",
       "6237                                             NaN   PACIFIC OCEAN  \n",
       "6278                                             NaN    INDIAN OCEAN  \n",
       "\n",
       "[145 rows x 13 columns]"
      ]
     },
     "execution_count": 63,
     "metadata": {},
     "output_type": "execute_result"
    }
   ],
   "source": [
    "# verificando linhas que não possuem nem informação de gênero e nem de nome\n",
    "\n",
    "f_shark.loc[(f_shark['sex'].isnull()) & (f_shark['name'].isnull()), :]"
   ]
  },
  {
   "cell_type": "code",
   "execution_count": 64,
   "id": "cooked-acceptance",
   "metadata": {
    "ExecuteTime": {
     "end_time": "2021-04-06T18:48:39.628329Z",
     "start_time": "2021-04-06T18:48:39.537572Z"
    },
    "hidden": true
   },
   "outputs": [],
   "source": [
    "# verificando se há informações de incidentes com mulheres nos registros com coluna de gênero nula e substituindo\n",
    "\n",
    "filtro_fem = f_shark.loc[(f_shark['sex'].isnull()) & ~(f_shark['name'].isnull()), 'name'].apply(lambda name: True if re.search('wom[ae]n', str(name)) else False)\n",
    "\n",
    "f_shark.loc[(f_shark['sex'].isnull()) & ~(f_shark['name'].isnull()) & filtro_fem, 'sex'] = 'F'"
   ]
  },
  {
   "cell_type": "code",
   "execution_count": 65,
   "id": "formal-fifteen",
   "metadata": {
    "ExecuteTime": {
     "end_time": "2021-04-06T18:48:39.720589Z",
     "start_time": "2021-04-06T18:48:39.631321Z"
    },
    "hidden": true
   },
   "outputs": [],
   "source": [
    "# ajustando valores da coluna de gênero\n",
    "\n",
    "f_shark.loc[(f_shark['sex'] != 'M') & (f_shark['sex'] != 'F') & ~(f_shark['sex'].isnull()), 'sex'] = 'M'"
   ]
  },
  {
   "cell_type": "code",
   "execution_count": 66,
   "id": "sudden-stadium",
   "metadata": {
    "ExecuteTime": {
     "end_time": "2021-04-06T18:48:39.814871Z",
     "start_time": "2021-04-06T18:48:39.721587Z"
    },
    "hidden": true
   },
   "outputs": [
    {
     "data": {
      "text/plain": [
       "M    5100\n",
       "F     639\n",
       "Name: sex, dtype: int64"
      ]
     },
     "execution_count": 66,
     "metadata": {},
     "output_type": "execute_result"
    }
   ],
   "source": [
    "f_shark['sex'].value_counts()"
   ]
  },
  {
   "cell_type": "markdown",
   "id": "religious-there",
   "metadata": {},
   "source": [
    "## Tratamento de fatalidade"
   ]
  },
  {
   "cell_type": "code",
   "execution_count": 67,
   "id": "desirable-command",
   "metadata": {
    "ExecuteTime": {
     "end_time": "2021-04-06T18:48:39.893198Z",
     "start_time": "2021-04-06T18:48:39.815844Z"
    }
   },
   "outputs": [
    {
     "data": {
      "text/plain": [
       "N          4293\n",
       "Y          1388\n",
       "UNKNOWN      71\n",
       " N            7\n",
       "2017          1\n",
       "y             1\n",
       "M             1\n",
       "N             1\n",
       "Name: fatal, dtype: int64"
      ]
     },
     "execution_count": 67,
     "metadata": {},
     "output_type": "execute_result"
    }
   ],
   "source": [
    "f_shark['fatal'].value_counts()"
   ]
  },
  {
   "cell_type": "code",
   "execution_count": 68,
   "id": "compatible-haven",
   "metadata": {
    "ExecuteTime": {
     "end_time": "2021-04-06T18:48:39.987451Z",
     "start_time": "2021-04-06T18:48:39.895190Z"
    }
   },
   "outputs": [
    {
     "data": {
      "text/html": [
       "<div>\n",
       "<style scoped>\n",
       "    .dataframe tbody tr th:only-of-type {\n",
       "        vertical-align: middle;\n",
       "    }\n",
       "\n",
       "    .dataframe tbody tr th {\n",
       "        vertical-align: top;\n",
       "    }\n",
       "\n",
       "    .dataframe thead th {\n",
       "        text-align: right;\n",
       "    }\n",
       "</style>\n",
       "<table border=\"1\" class=\"dataframe\">\n",
       "  <thead>\n",
       "    <tr style=\"text-align: right;\">\n",
       "      <th></th>\n",
       "      <th>date</th>\n",
       "      <th>year</th>\n",
       "      <th>type</th>\n",
       "      <th>country</th>\n",
       "      <th>area</th>\n",
       "      <th>location</th>\n",
       "      <th>activity</th>\n",
       "      <th>name</th>\n",
       "      <th>sex</th>\n",
       "      <th>injury</th>\n",
       "      <th>fatal</th>\n",
       "      <th>species</th>\n",
       "      <th>ocean</th>\n",
       "    </tr>\n",
       "  </thead>\n",
       "  <tbody>\n",
       "    <tr>\n",
       "      <th>1366</th>\n",
       "      <td>Jul-2007</td>\n",
       "      <td>2007</td>\n",
       "      <td>Invalid</td>\n",
       "      <td>SENEGAL</td>\n",
       "      <td>NaN</td>\n",
       "      <td>NaN</td>\n",
       "      <td>Murder</td>\n",
       "      <td>Alex Takyi</td>\n",
       "      <td>NaN</td>\n",
       "      <td>NaN</td>\n",
       "      <td>NaN</td>\n",
       "      <td>Questionable Incident</td>\n",
       "      <td>PACIFIC OCEAN</td>\n",
       "    </tr>\n",
       "    <tr>\n",
       "      <th>3207</th>\n",
       "      <td>04-Oct-1975</td>\n",
       "      <td>1975</td>\n",
       "      <td>Invalid</td>\n",
       "      <td>USA</td>\n",
       "      <td>California</td>\n",
       "      <td>Seal Beach, Orange County</td>\n",
       "      <td>Surfing</td>\n",
       "      <td>NaN</td>\n",
       "      <td>NaN</td>\n",
       "      <td>NaN</td>\n",
       "      <td>NaN</td>\n",
       "      <td>Questionable incident</td>\n",
       "      <td>PACIFIC OCEAN</td>\n",
       "    </tr>\n",
       "    <tr>\n",
       "      <th>3457</th>\n",
       "      <td>22-Sep-1968</td>\n",
       "      <td>1968</td>\n",
       "      <td>Invalid</td>\n",
       "      <td>USA</td>\n",
       "      <td>Florida</td>\n",
       "      <td>Riviera Beach, Palm Beach County</td>\n",
       "      <td>Surfing</td>\n",
       "      <td>NaN</td>\n",
       "      <td>NaN</td>\n",
       "      <td>NaN</td>\n",
       "      <td>NaN</td>\n",
       "      <td>Shark involvement not confirmed</td>\n",
       "      <td>ATLANTIC OCEAN</td>\n",
       "    </tr>\n",
       "    <tr>\n",
       "      <th>3491</th>\n",
       "      <td>1968</td>\n",
       "      <td>1968</td>\n",
       "      <td>Invalid</td>\n",
       "      <td>USA</td>\n",
       "      <td>Florida</td>\n",
       "      <td>Jensen Beach, Martin County</td>\n",
       "      <td>Surfing</td>\n",
       "      <td>NaN</td>\n",
       "      <td>NaN</td>\n",
       "      <td>NaN</td>\n",
       "      <td>NaN</td>\n",
       "      <td>Questionable incident</td>\n",
       "      <td>ATLANTIC OCEAN</td>\n",
       "    </tr>\n",
       "    <tr>\n",
       "      <th>5370</th>\n",
       "      <td>04-May-1912</td>\n",
       "      <td>1912</td>\n",
       "      <td>Invalid</td>\n",
       "      <td>SOUTH AFRICA</td>\n",
       "      <td>KwaZulu-Natal</td>\n",
       "      <td>Durban</td>\n",
       "      <td>NaN</td>\n",
       "      <td>arm recovered from hooked shark</td>\n",
       "      <td>M</td>\n",
       "      <td>NaN</td>\n",
       "      <td>NaN</td>\n",
       "      <td>Shark involvement prior to death unconfirmed</td>\n",
       "      <td>INDIAN OCEAN</td>\n",
       "    </tr>\n",
       "    <tr>\n",
       "      <th>5547</th>\n",
       "      <td>Reported 29-Jun-1901</td>\n",
       "      <td>1901</td>\n",
       "      <td>Invalid</td>\n",
       "      <td>YEMEN</td>\n",
       "      <td>Aden</td>\n",
       "      <td>NaN</td>\n",
       "      <td>Diving around anchored liner</td>\n",
       "      <td>boy</td>\n",
       "      <td>M</td>\n",
       "      <td>NaN</td>\n",
       "      <td>NaN</td>\n",
       "      <td>Questionable</td>\n",
       "      <td>INDIAN OCEAN</td>\n",
       "    </tr>\n",
       "    <tr>\n",
       "      <th>5965</th>\n",
       "      <td>04-Dec-1862</td>\n",
       "      <td>1862</td>\n",
       "      <td>Invalid</td>\n",
       "      <td>NEW ZEALAND</td>\n",
       "      <td>South Island</td>\n",
       "      <td>Lyttleton?</td>\n",
       "      <td>NaN</td>\n",
       "      <td>NaN</td>\n",
       "      <td>NaN</td>\n",
       "      <td>NaN</td>\n",
       "      <td>NaN</td>\n",
       "      <td>Questionable incident</td>\n",
       "      <td>PACIFIC OCEAN</td>\n",
       "    </tr>\n",
       "  </tbody>\n",
       "</table>\n",
       "</div>"
      ],
      "text/plain": [
       "                      date  year     type       country           area  \\\n",
       "1366              Jul-2007  2007  Invalid       SENEGAL            NaN   \n",
       "3207           04-Oct-1975  1975  Invalid           USA     California   \n",
       "3457           22-Sep-1968  1968  Invalid           USA        Florida   \n",
       "3491                  1968  1968  Invalid           USA        Florida   \n",
       "5370           04-May-1912  1912  Invalid  SOUTH AFRICA  KwaZulu-Natal   \n",
       "5547  Reported 29-Jun-1901  1901  Invalid         YEMEN           Aden   \n",
       "5965           04-Dec-1862  1862  Invalid   NEW ZEALAND   South Island   \n",
       "\n",
       "                              location                      activity  \\\n",
       "1366                               NaN                        Murder   \n",
       "3207         Seal Beach, Orange County                       Surfing   \n",
       "3457  Riviera Beach, Palm Beach County                       Surfing   \n",
       "3491       Jensen Beach, Martin County                       Surfing   \n",
       "5370                            Durban                           NaN   \n",
       "5547                               NaN  Diving around anchored liner   \n",
       "5965                        Lyttleton?                           NaN   \n",
       "\n",
       "                                 name  sex injury fatal  \\\n",
       "1366                       Alex Takyi  NaN    NaN   NaN   \n",
       "3207                              NaN  NaN    NaN   NaN   \n",
       "3457                              NaN  NaN    NaN   NaN   \n",
       "3491                              NaN  NaN    NaN   NaN   \n",
       "5370  arm recovered from hooked shark    M    NaN   NaN   \n",
       "5547                              boy    M    NaN   NaN   \n",
       "5965                              NaN  NaN    NaN   NaN   \n",
       "\n",
       "                                           species           ocean  \n",
       "1366                         Questionable Incident   PACIFIC OCEAN  \n",
       "3207                         Questionable incident   PACIFIC OCEAN  \n",
       "3457               Shark involvement not confirmed  ATLANTIC OCEAN  \n",
       "3491                         Questionable incident  ATLANTIC OCEAN  \n",
       "5370  Shark involvement prior to death unconfirmed    INDIAN OCEAN  \n",
       "5547                                  Questionable    INDIAN OCEAN  \n",
       "5965                         Questionable incident   PACIFIC OCEAN  "
      ]
     },
     "execution_count": 68,
     "metadata": {},
     "output_type": "execute_result"
    }
   ],
   "source": [
    "# verificando dados que não tem informação de fatalidade e nem de ferimentos\n",
    "\n",
    "f_shark.loc[(f_shark['injury'].isnull()) & (f_shark['fatal'].isnull()), :]"
   ]
  },
  {
   "cell_type": "code",
   "execution_count": 69,
   "id": "naval-canal",
   "metadata": {
    "ExecuteTime": {
     "end_time": "2021-04-06T18:48:40.109005Z",
     "start_time": "2021-04-06T18:48:39.989447Z"
    }
   },
   "outputs": [
    {
     "data": {
      "text/html": [
       "<div>\n",
       "<style scoped>\n",
       "    .dataframe tbody tr th:only-of-type {\n",
       "        vertical-align: middle;\n",
       "    }\n",
       "\n",
       "    .dataframe tbody tr th {\n",
       "        vertical-align: top;\n",
       "    }\n",
       "\n",
       "    .dataframe thead th {\n",
       "        text-align: right;\n",
       "    }\n",
       "</style>\n",
       "<table border=\"1\" class=\"dataframe\">\n",
       "  <thead>\n",
       "    <tr style=\"text-align: right;\">\n",
       "      <th></th>\n",
       "      <th>date</th>\n",
       "      <th>year</th>\n",
       "      <th>type</th>\n",
       "      <th>country</th>\n",
       "      <th>area</th>\n",
       "      <th>location</th>\n",
       "      <th>activity</th>\n",
       "      <th>name</th>\n",
       "      <th>sex</th>\n",
       "      <th>injury</th>\n",
       "      <th>fatal</th>\n",
       "      <th>species</th>\n",
       "      <th>ocean</th>\n",
       "    </tr>\n",
       "  </thead>\n",
       "  <tbody>\n",
       "    <tr>\n",
       "      <th>27</th>\n",
       "      <td>15-Apr-2018</td>\n",
       "      <td>2018</td>\n",
       "      <td>Unprovoked</td>\n",
       "      <td>BRAZIL</td>\n",
       "      <td>Pernambuco</td>\n",
       "      <td>Piedade</td>\n",
       "      <td>Swimming</td>\n",
       "      <td>Pablo de Melo</td>\n",
       "      <td>M</td>\n",
       "      <td>Multiple severe injuries to arms and leg, leg ...</td>\n",
       "      <td>NaN</td>\n",
       "      <td>NaN</td>\n",
       "      <td>ATLANTIC OCEAN</td>\n",
       "    </tr>\n",
       "    <tr>\n",
       "      <th>76</th>\n",
       "      <td>01-Oct-2017</td>\n",
       "      <td>2017</td>\n",
       "      <td>Invalid</td>\n",
       "      <td>SOUTH AFRICA</td>\n",
       "      <td>Western Cape Province</td>\n",
       "      <td>Dyer Island</td>\n",
       "      <td>Scuba Diving</td>\n",
       "      <td>Bradley Fick</td>\n",
       "      <td>M</td>\n",
       "      <td>FATAL</td>\n",
       "      <td>NaN</td>\n",
       "      <td>Death may have been due to drowning</td>\n",
       "      <td>ATLANTIC OCEAN</td>\n",
       "    </tr>\n",
       "    <tr>\n",
       "      <th>79</th>\n",
       "      <td>24-Sep-2017</td>\n",
       "      <td>2017</td>\n",
       "      <td>Invalid</td>\n",
       "      <td>USA</td>\n",
       "      <td>New York</td>\n",
       "      <td>Rockaway</td>\n",
       "      <td>Surfing</td>\n",
       "      <td>Michah Behrend</td>\n",
       "      <td>M</td>\n",
       "      <td>Lacerations to right ankle, foot &amp; toe</td>\n",
       "      <td>NaN</td>\n",
       "      <td>Questionable</td>\n",
       "      <td>ATLANTIC OCEAN</td>\n",
       "    </tr>\n",
       "    <tr>\n",
       "      <th>84</th>\n",
       "      <td>15-Sep-2017</td>\n",
       "      <td>2017</td>\n",
       "      <td>Invalid</td>\n",
       "      <td>SOUTH AFRICA</td>\n",
       "      <td>Western Cape Province</td>\n",
       "      <td>Hawston</td>\n",
       "      <td>Scuba Diving</td>\n",
       "      <td>Wayon Love</td>\n",
       "      <td>M</td>\n",
       "      <td>FATAL, but death was probably due to drowning</td>\n",
       "      <td>NaN</td>\n",
       "      <td>NaN</td>\n",
       "      <td>ATLANTIC OCEAN</td>\n",
       "    </tr>\n",
       "    <tr>\n",
       "      <th>98</th>\n",
       "      <td>26-Aug-2017</td>\n",
       "      <td>2017</td>\n",
       "      <td>Invalid</td>\n",
       "      <td>SPAIN</td>\n",
       "      <td>Castellón</td>\n",
       "      <td>Grao de Moncofa</td>\n",
       "      <td>Swimming</td>\n",
       "      <td>female</td>\n",
       "      <td>F</td>\n",
       "      <td>Lacerations to left foot</td>\n",
       "      <td>NaN</td>\n",
       "      <td>Shark involvement questionable</td>\n",
       "      <td>ATLANTIC OCEAN</td>\n",
       "    </tr>\n",
       "    <tr>\n",
       "      <th>...</th>\n",
       "      <td>...</td>\n",
       "      <td>...</td>\n",
       "      <td>...</td>\n",
       "      <td>...</td>\n",
       "      <td>...</td>\n",
       "      <td>...</td>\n",
       "      <td>...</td>\n",
       "      <td>...</td>\n",
       "      <td>...</td>\n",
       "      <td>...</td>\n",
       "      <td>...</td>\n",
       "      <td>...</td>\n",
       "      <td>...</td>\n",
       "    </tr>\n",
       "    <tr>\n",
       "      <th>6147</th>\n",
       "      <td>1767</td>\n",
       "      <td>1767</td>\n",
       "      <td>Invalid</td>\n",
       "      <td>FRANCE</td>\n",
       "      <td>Côte d'Azur</td>\n",
       "      <td>St. Tropez</td>\n",
       "      <td>Bathing</td>\n",
       "      <td>Samuel Matthews</td>\n",
       "      <td>M</td>\n",
       "      <td>Lacerations to arm &amp; leg</td>\n",
       "      <td>NaN</td>\n",
       "      <td>Description of shark does not ring true</td>\n",
       "      <td>ATLANTIC OCEAN</td>\n",
       "    </tr>\n",
       "    <tr>\n",
       "      <th>6157</th>\n",
       "      <td>1733</td>\n",
       "      <td>1733</td>\n",
       "      <td>Invalid</td>\n",
       "      <td>ICELAND</td>\n",
       "      <td>Bardestrand</td>\n",
       "      <td>Talkknefiord</td>\n",
       "      <td>NaN</td>\n",
       "      <td>NaN</td>\n",
       "      <td>NaN</td>\n",
       "      <td>Partial hominid remains recovered from shark, ...</td>\n",
       "      <td>NaN</td>\n",
       "      <td>Shark involvement prior to death unconfirmed</td>\n",
       "      <td>ATLANTIC OCEAN</td>\n",
       "    </tr>\n",
       "    <tr>\n",
       "      <th>6158</th>\n",
       "      <td>1723</td>\n",
       "      <td>1723</td>\n",
       "      <td>Unprovoked</td>\n",
       "      <td>ROATAN</td>\n",
       "      <td>NaN</td>\n",
       "      <td>NaN</td>\n",
       "      <td>NaN</td>\n",
       "      <td>Philip Ashton</td>\n",
       "      <td>M</td>\n",
       "      <td>Struck on thigh</td>\n",
       "      <td>NaN</td>\n",
       "      <td>NaN</td>\n",
       "      <td>ATLANTIC OCEAN</td>\n",
       "    </tr>\n",
       "    <tr>\n",
       "      <th>6164</th>\n",
       "      <td>Late 1600s Reported 1728</td>\n",
       "      <td>1642</td>\n",
       "      <td>Invalid</td>\n",
       "      <td>GUINEA</td>\n",
       "      <td>NaN</td>\n",
       "      <td>NaN</td>\n",
       "      <td>Went overboard</td>\n",
       "      <td>crew member of the Nieuwstadt</td>\n",
       "      <td>M</td>\n",
       "      <td>FATAL</td>\n",
       "      <td>NaN</td>\n",
       "      <td>Questionable</td>\n",
       "      <td>ATLANTIC OCEAN</td>\n",
       "    </tr>\n",
       "    <tr>\n",
       "      <th>6232</th>\n",
       "      <td>No date, Before 1963</td>\n",
       "      <td>1963</td>\n",
       "      <td>Invalid</td>\n",
       "      <td>USA</td>\n",
       "      <td>Hawaii</td>\n",
       "      <td>Portlock, Oahu</td>\n",
       "      <td>Diving</td>\n",
       "      <td>Val Valentine</td>\n",
       "      <td>M</td>\n",
       "      <td>A 4.3 m [14'] shark made threat display. No in...</td>\n",
       "      <td>NaN</td>\n",
       "      <td>Invalid</td>\n",
       "      <td>PACIFIC OCEAN</td>\n",
       "    </tr>\n",
       "  </tbody>\n",
       "</table>\n",
       "<p>532 rows × 13 columns</p>\n",
       "</div>"
      ],
      "text/plain": [
       "                          date  year        type       country  \\\n",
       "27                 15-Apr-2018  2018  Unprovoked        BRAZIL   \n",
       "76                 01-Oct-2017  2017     Invalid  SOUTH AFRICA   \n",
       "79                 24-Sep-2017  2017     Invalid           USA   \n",
       "84                 15-Sep-2017  2017     Invalid  SOUTH AFRICA   \n",
       "98                 26-Aug-2017  2017     Invalid         SPAIN   \n",
       "...                        ...   ...         ...           ...   \n",
       "6147                      1767  1767     Invalid        FRANCE   \n",
       "6157                      1733  1733     Invalid       ICELAND   \n",
       "6158                      1723  1723  Unprovoked        ROATAN   \n",
       "6164  Late 1600s Reported 1728  1642     Invalid        GUINEA   \n",
       "6232      No date, Before 1963  1963     Invalid           USA   \n",
       "\n",
       "                       area         location        activity  \\\n",
       "27               Pernambuco          Piedade        Swimming   \n",
       "76    Western Cape Province      Dyer Island    Scuba Diving   \n",
       "79                 New York         Rockaway         Surfing   \n",
       "84    Western Cape Province          Hawston    Scuba Diving   \n",
       "98                Castellón  Grao de Moncofa        Swimming   \n",
       "...                     ...              ...             ...   \n",
       "6147           Côte d'Azur        St. Tropez         Bathing   \n",
       "6157            Bardestrand     Talkknefiord             NaN   \n",
       "6158                    NaN              NaN             NaN   \n",
       "6164                    NaN              NaN  Went overboard   \n",
       "6232                 Hawaii   Portlock, Oahu          Diving   \n",
       "\n",
       "                               name  sex  \\\n",
       "27                    Pablo de Melo    M   \n",
       "76                     Bradley Fick    M   \n",
       "79                   Michah Behrend    M   \n",
       "84                       Wayon Love    M   \n",
       "98                           female    F   \n",
       "...                             ...  ...   \n",
       "6147                Samuel Matthews    M   \n",
       "6157                            NaN  NaN   \n",
       "6158                  Philip Ashton    M   \n",
       "6164  crew member of the Nieuwstadt    M   \n",
       "6232                  Val Valentine    M   \n",
       "\n",
       "                                                 injury fatal  \\\n",
       "27    Multiple severe injuries to arms and leg, leg ...   NaN   \n",
       "76                                                FATAL   NaN   \n",
       "79               Lacerations to right ankle, foot & toe   NaN   \n",
       "84        FATAL, but death was probably due to drowning   NaN   \n",
       "98                             Lacerations to left foot   NaN   \n",
       "...                                                 ...   ...   \n",
       "6147                           Lacerations to arm & leg   NaN   \n",
       "6157  Partial hominid remains recovered from shark, ...   NaN   \n",
       "6158                                    Struck on thigh   NaN   \n",
       "6164                                              FATAL   NaN   \n",
       "6232  A 4.3 m [14'] shark made threat display. No in...   NaN   \n",
       "\n",
       "                                           species           ocean  \n",
       "27                                             NaN  ATLANTIC OCEAN  \n",
       "76             Death may have been due to drowning  ATLANTIC OCEAN  \n",
       "79                                    Questionable  ATLANTIC OCEAN  \n",
       "84                                             NaN  ATLANTIC OCEAN  \n",
       "98                  Shark involvement questionable  ATLANTIC OCEAN  \n",
       "...                                            ...             ...  \n",
       "6147       Description of shark does not ring true  ATLANTIC OCEAN  \n",
       "6157  Shark involvement prior to death unconfirmed  ATLANTIC OCEAN  \n",
       "6158                                           NaN  ATLANTIC OCEAN  \n",
       "6164                                  Questionable  ATLANTIC OCEAN  \n",
       "6232                                       Invalid   PACIFIC OCEAN  \n",
       "\n",
       "[532 rows x 13 columns]"
      ]
     },
     "execution_count": 69,
     "metadata": {},
     "output_type": "execute_result"
    }
   ],
   "source": [
    "# verificando dados de fatalidade que podem ser preenchidos com informações de 'injury'\n",
    "\n",
    "f_shark.loc[~(f_shark['injury'].isnull()) & (f_shark['fatal'].isnull()), :]"
   ]
  },
  {
   "cell_type": "code",
   "execution_count": 70,
   "id": "genuine-produce",
   "metadata": {
    "ExecuteTime": {
     "end_time": "2021-04-06T18:48:40.187823Z",
     "start_time": "2021-04-06T18:48:40.111996Z"
    }
   },
   "outputs": [],
   "source": [
    "# substituindo dados de fatalidade nulos por indicativos de fatalidade indentificados em 'injury'\n",
    "\n",
    "fatal_cond = 'fatal|death|mortem|dead|drown'\n",
    "\n",
    "f_shark.loc[f_shark['fatal'].isnull(), 'fatal'] = f_shark.loc[f_shark['fatal'].isnull(), 'injury'].apply(lambda desc: 'Y' if re.search(fatal_cond, str(desc).lower()) else None)\n",
    "f_shark.loc[f_shark['fatal'].isnull(), 'fatal'] = f_shark.loc[f_shark['fatal'].isnull(), 'species'].apply(lambda desc: 'Y' if re.search('death', str(desc).lower()) else None)"
   ]
  },
  {
   "cell_type": "code",
   "execution_count": 71,
   "id": "comfortable-breach",
   "metadata": {
    "ExecuteTime": {
     "end_time": "2021-04-06T18:48:40.266438Z",
     "start_time": "2021-04-06T18:48:40.189787Z"
    }
   },
   "outputs": [],
   "source": [
    "# substituindo dados de fatalidade nulos por indicativos de não-fatalidade identificados em 'injury'\n",
    "\n",
    "non_fatal_cond = 'no injury'\n",
    "\n",
    "f_shark.loc[f_shark['fatal'].isnull(), 'fatal'] = f_shark.loc[f_shark['fatal'].isnull(), 'injury'].apply(lambda desc: 'N' if re.search(non_fatal_cond, str(desc).lower()) else None)"
   ]
  },
  {
   "cell_type": "code",
   "execution_count": 72,
   "id": "beautiful-pricing",
   "metadata": {
    "ExecuteTime": {
     "end_time": "2021-04-06T18:48:40.361767Z",
     "start_time": "2021-04-06T18:48:40.268433Z"
    }
   },
   "outputs": [
    {
     "data": {
      "text/plain": [
       "N          4381\n",
       "Y          1656\n",
       "UNKNOWN      71\n",
       " N            7\n",
       "2017          1\n",
       "y             1\n",
       "M             1\n",
       "N             1\n",
       "Name: fatal, dtype: int64"
      ]
     },
     "execution_count": 72,
     "metadata": {},
     "output_type": "execute_result"
    }
   ],
   "source": [
    "# verificando dados após tratamento inicial\n",
    "\n",
    "f_shark['fatal'].value_counts()"
   ]
  },
  {
   "cell_type": "code",
   "execution_count": 73,
   "id": "front-sphere",
   "metadata": {
    "ExecuteTime": {
     "end_time": "2021-04-06T18:48:40.440152Z",
     "start_time": "2021-04-06T18:48:40.363763Z"
    }
   },
   "outputs": [],
   "source": [
    "# ajustando preenchimento de fatalidades e completando valores nulos com a moda\n",
    "\n",
    "f_shark.loc[(f_shark['fatal']=='y'), 'fatal'] = 'Y'\n",
    "f_shark.loc[(f_shark['fatal'] != 'Y') & (f_shark['fatal'] != 'N') & ~(f_shark['fatal'].isnull()), 'fatal'] = 'N'"
   ]
  },
  {
   "cell_type": "code",
   "execution_count": 74,
   "id": "constant-dragon",
   "metadata": {
    "ExecuteTime": {
     "end_time": "2021-04-06T18:48:40.533896Z",
     "start_time": "2021-04-06T18:48:40.443146Z"
    }
   },
   "outputs": [
    {
     "data": {
      "text/plain": [
       "N    4462\n",
       "Y    1657\n",
       "Name: fatal, dtype: int64"
      ]
     },
     "execution_count": 74,
     "metadata": {},
     "output_type": "execute_result"
    }
   ],
   "source": [
    "# verificando dados pós-tratamento\n",
    "\n",
    "f_shark['fatal'].value_counts()"
   ]
  },
  {
   "cell_type": "markdown",
   "id": "fewer-nancy",
   "metadata": {},
   "source": [
    "##  Tratamento de células que permaneceram vazias"
   ]
  },
  {
   "cell_type": "code",
   "execution_count": 75,
   "id": "rocky-wilderness",
   "metadata": {
    "ExecuteTime": {
     "end_time": "2021-04-06T18:48:40.610734Z",
     "start_time": "2021-04-06T18:48:40.535853Z"
    }
   },
   "outputs": [],
   "source": [
    "# preenchendo valores de tipos vazios com a moda\n",
    "\n",
    "f_shark.loc[(f_shark['type'].isnull()), 'type'] = f_shark['type'].mode()[0]"
   ]
  },
  {
   "cell_type": "code",
   "execution_count": 76,
   "id": "literary-ireland",
   "metadata": {
    "ExecuteTime": {
     "end_time": "2021-04-06T18:48:40.752661Z",
     "start_time": "2021-04-06T18:48:40.613726Z"
    }
   },
   "outputs": [],
   "source": [
    "# preenchendo campos nulos com o valor que mais aparece\n",
    "\n",
    "f_shark.loc[f_shark['country'].isnull(), 'country'] = f_shark['country'].mode()[0]\n"
   ]
  },
  {
   "cell_type": "code",
   "execution_count": 77,
   "id": "sunset-collection",
   "metadata": {
    "ExecuteTime": {
     "end_time": "2021-04-06T18:48:40.910930Z",
     "start_time": "2021-04-06T18:48:40.754655Z"
    }
   },
   "outputs": [],
   "source": [
    "# completando dados remanescentes de oceano com valor da moda\n",
    "\n",
    "resto = 'ATLANTIC OCEAN|PACIFIC OCEAN|INDIAN OCEAN'\n",
    "\n",
    "filtro_resto = f_shark['ocean'].apply(lambda oceano: False if re.search(resto, str(oceano).upper()) else True)\n",
    "f_shark.loc[filtro_resto, 'ocean'] = f_shark['ocean'].mode()[0]"
   ]
  },
  {
   "cell_type": "code",
   "execution_count": 78,
   "id": "advised-begin",
   "metadata": {
    "ExecuteTime": {
     "end_time": "2021-04-06T18:48:40.989786Z",
     "start_time": "2021-04-06T18:48:40.912797Z"
    }
   },
   "outputs": [],
   "source": [
    "# preenchendo valores de gênero vazios com a moda\n",
    "\n",
    "f_shark.loc[(f_shark['sex'].isnull()), 'sex'] = f_shark['sex'].mode()[0]"
   ]
  },
  {
   "cell_type": "code",
   "execution_count": 79,
   "id": "satisfied-chorus",
   "metadata": {
    "ExecuteTime": {
     "end_time": "2021-04-06T18:48:41.067818Z",
     "start_time": "2021-04-06T18:48:40.991036Z"
    }
   },
   "outputs": [],
   "source": [
    "# preenchendo valores de fatalidade vazios com a moda\n",
    "\n",
    "f_shark.loc[(f_shark['fatal'].isnull()), 'fatal'] = f_shark['fatal'].mode()[0]"
   ]
  },
  {
   "cell_type": "markdown",
   "id": "changing-craps",
   "metadata": {},
   "source": [
    "##  Buscando correlações"
   ]
  },
  {
   "cell_type": "code",
   "execution_count": 80,
   "id": "excess-rebel",
   "metadata": {
    "ExecuteTime": {
     "end_time": "2021-04-06T18:48:41.163177Z",
     "start_time": "2021-04-06T18:48:41.068815Z"
    }
   },
   "outputs": [
    {
     "data": {
      "text/plain": [
       "(6302, 13)"
      ]
     },
     "execution_count": 80,
     "metadata": {},
     "output_type": "execute_result"
    }
   ],
   "source": [
    "f_shark.shape"
   ]
  },
  {
   "cell_type": "markdown",
   "id": "fuzzy-decline",
   "metadata": {},
   "source": [
    "###  Descrição dos dados"
   ]
  },
  {
   "cell_type": "code",
   "execution_count": 81,
   "id": "configured-weekly",
   "metadata": {
    "ExecuteTime": {
     "end_time": "2021-04-06T18:48:41.242715Z",
     "start_time": "2021-04-06T18:48:41.173117Z"
    }
   },
   "outputs": [
    {
     "data": {
      "text/plain": [
       "Unprovoked    76.769280\n",
       "Provoked       9.108220\n",
       "Invalid        8.711520\n",
       "Boat           5.410981\n",
       "Name: type, dtype: float64"
      ]
     },
     "execution_count": 81,
     "metadata": {},
     "output_type": "execute_result"
    }
   ],
   "source": [
    "# distribuição por tipo de incidente\n",
    "\n",
    "f_shark['type'].value_counts(normalize=True)*100"
   ]
  },
  {
   "cell_type": "code",
   "execution_count": 82,
   "id": "announced-palestine",
   "metadata": {
    "ExecuteTime": {
     "end_time": "2021-04-06T18:48:41.337978Z",
     "start_time": "2021-04-06T18:48:41.247670Z"
    }
   },
   "outputs": [
    {
     "data": {
      "text/plain": [
       "N    73.70676\n",
       "Y    26.29324\n",
       "Name: fatal, dtype: float64"
      ]
     },
     "execution_count": 82,
     "metadata": {},
     "output_type": "execute_result"
    }
   ],
   "source": [
    "# distribuição por fatalidade\n",
    "\n",
    "f_shark['fatal'].value_counts(normalize=True)*100"
   ]
  },
  {
   "cell_type": "code",
   "execution_count": 83,
   "id": "fatty-channel",
   "metadata": {
    "ExecuteTime": {
     "end_time": "2021-04-06T18:48:41.480257Z",
     "start_time": "2021-04-06T18:48:41.339973Z"
    }
   },
   "outputs": [
    {
     "data": {
      "text/plain": [
       "M    89.860362\n",
       "F    10.139638\n",
       "Name: sex, dtype: float64"
      ]
     },
     "execution_count": 83,
     "metadata": {},
     "output_type": "execute_result"
    }
   ],
   "source": [
    "# distribuição por gênero\n",
    "\n",
    "f_shark['sex'].value_counts(normalize=True)*100"
   ]
  },
  {
   "cell_type": "code",
   "execution_count": 84,
   "id": "correct-treatment",
   "metadata": {
    "ExecuteTime": {
     "end_time": "2021-04-06T18:48:41.574374Z",
     "start_time": "2021-04-06T18:48:41.482252Z"
    }
   },
   "outputs": [
    {
     "data": {
      "text/plain": [
       "ATLANTIC OCEAN    45.366550\n",
       "PACIFIC OCEAN     38.019676\n",
       "INDIAN OCEAN      16.613773\n",
       "Name: ocean, dtype: float64"
      ]
     },
     "execution_count": 84,
     "metadata": {},
     "output_type": "execute_result"
    }
   ],
   "source": [
    "# distribuição por oceano\n",
    "\n",
    "f_shark['ocean'].value_counts(normalize=True)*100"
   ]
  },
  {
   "cell_type": "markdown",
   "id": "healthy-saturn",
   "metadata": {},
   "source": [
    "###  Agrupando os dados"
   ]
  },
  {
   "cell_type": "code",
   "execution_count": 85,
   "id": "uniform-german",
   "metadata": {
    "ExecuteTime": {
     "end_time": "2021-04-06T18:48:41.653247Z",
     "start_time": "2021-04-06T18:48:41.576330Z"
    }
   },
   "outputs": [
    {
     "data": {
      "text/html": [
       "<div>\n",
       "<style scoped>\n",
       "    .dataframe tbody tr th:only-of-type {\n",
       "        vertical-align: middle;\n",
       "    }\n",
       "\n",
       "    .dataframe tbody tr th {\n",
       "        vertical-align: top;\n",
       "    }\n",
       "\n",
       "    .dataframe thead th {\n",
       "        text-align: right;\n",
       "    }\n",
       "</style>\n",
       "<table border=\"1\" class=\"dataframe\">\n",
       "  <thead>\n",
       "    <tr style=\"text-align: right;\">\n",
       "      <th></th>\n",
       "      <th></th>\n",
       "      <th>date</th>\n",
       "    </tr>\n",
       "    <tr>\n",
       "      <th>ocean</th>\n",
       "      <th>fatal</th>\n",
       "      <th></th>\n",
       "    </tr>\n",
       "  </thead>\n",
       "  <tbody>\n",
       "    <tr>\n",
       "      <th rowspan=\"2\" valign=\"top\">ATLANTIC OCEAN</th>\n",
       "      <th>N</th>\n",
       "      <td>35.242780</td>\n",
       "    </tr>\n",
       "    <tr>\n",
       "      <th>Y</th>\n",
       "      <td>10.123770</td>\n",
       "    </tr>\n",
       "    <tr>\n",
       "      <th rowspan=\"2\" valign=\"top\">INDIAN OCEAN</th>\n",
       "      <th>N</th>\n",
       "      <td>10.996509</td>\n",
       "    </tr>\n",
       "    <tr>\n",
       "      <th>Y</th>\n",
       "      <td>5.617264</td>\n",
       "    </tr>\n",
       "    <tr>\n",
       "      <th rowspan=\"2\" valign=\"top\">PACIFIC OCEAN</th>\n",
       "      <th>N</th>\n",
       "      <td>27.467471</td>\n",
       "    </tr>\n",
       "    <tr>\n",
       "      <th>Y</th>\n",
       "      <td>10.552206</td>\n",
       "    </tr>\n",
       "  </tbody>\n",
       "</table>\n",
       "</div>"
      ],
      "text/plain": [
       "                           date\n",
       "ocean          fatal           \n",
       "ATLANTIC OCEAN N      35.242780\n",
       "               Y      10.123770\n",
       "INDIAN OCEAN   N      10.996509\n",
       "               Y       5.617264\n",
       "PACIFIC OCEAN  N      27.467471\n",
       "               Y      10.552206"
      ]
     },
     "execution_count": 85,
     "metadata": {},
     "output_type": "execute_result"
    }
   ],
   "source": [
    "# porcentagem de incidentes fatais (Y) e não-fatais (N) por oceano em relação ao total de registros\n",
    "\n",
    "f_shark[['fatal', 'ocean','date']].groupby(by=['ocean', 'fatal']).count()/6302*100"
   ]
  },
  {
   "cell_type": "code",
   "execution_count": 86,
   "id": "helpful-musician",
   "metadata": {
    "ExecuteTime": {
     "end_time": "2021-04-06T18:48:41.748200Z",
     "start_time": "2021-04-06T18:48:41.654114Z"
    }
   },
   "outputs": [
    {
     "name": "stdout",
     "output_type": "stream",
     "text": [
      "[['ATLANTIC OCEAN' 'N' 77.68]\n",
      " ['ATLANTIC OCEAN' 'Y' 22.31]\n",
      " ['INDIAN OCEAN' 'N' 66.18]\n",
      " ['INDIAN OCEAN' 'Y' 33.81]\n",
      " ['PACIFIC OCEAN' 'N' 72.24]\n",
      " ['PACIFIC OCEAN' 'Y' 27.75]]\n"
     ]
    }
   ],
   "source": [
    "# porcentagem de incidentes fatais (Y) e não-fatais (N) por oceano\n",
    "\n",
    "contagem = f_shark[['fatal', 'ocean','date']].groupby(by=['ocean', 'fatal']).count().values[:,0]\n",
    "rotulo = list(f_shark[['fatal', 'ocean','date']].groupby(by=['ocean', 'fatal']).count().index)\n",
    "\n",
    "oceano = []\n",
    "fatal = []\n",
    "\n",
    "for oce, fat in rotulo:\n",
    "    oceano.append(oce)\n",
    "    fatal.append(fat)\n",
    "\n",
    "novo = np.array([oceano, fatal, contagem], dtype=object).T\n",
    "\n",
    "for i in range(len(novo)):\n",
    "    novo[i, 2] = int(novo[i, 2]/(sum(contagem*(novo[:, 0] == novo[i, 0])))*10000)/100\n",
    "    \n",
    "print(novo)"
   ]
  },
  {
   "cell_type": "code",
   "execution_count": 87,
   "id": "defensive-madrid",
   "metadata": {
    "ExecuteTime": {
     "end_time": "2021-04-06T18:48:41.827245Z",
     "start_time": "2021-04-06T18:48:41.750162Z"
    }
   },
   "outputs": [
    {
     "name": "stdout",
     "output_type": "stream",
     "text": [
      "[['N' 'ATLANTIC OCEAN' 47.81]\n",
      " ['N' 'INDIAN OCEAN' 14.91]\n",
      " ['N' 'PACIFIC OCEAN' 37.26]\n",
      " ['Y' 'ATLANTIC OCEAN' 38.5]\n",
      " ['Y' 'INDIAN OCEAN' 21.36]\n",
      " ['Y' 'PACIFIC OCEAN' 40.13]]\n"
     ]
    }
   ],
   "source": [
    "# porcentagem de incidentes fatais (Y) e não-fatais (N) por oceano\n",
    "\n",
    "contagem = f_shark[['fatal', 'ocean','date']].groupby(by=['fatal', 'ocean']).count().values[:,0]\n",
    "rotulo = list(f_shark[['fatal', 'ocean','date']].groupby(by=['fatal', 'ocean']).count().index)\n",
    "\n",
    "oceano = []\n",
    "fatal = []\n",
    "\n",
    "for fat, oce in rotulo:\n",
    "    oceano.append(oce)\n",
    "    fatal.append(fat)\n",
    "\n",
    "novo = np.array([fatal, oceano, contagem], dtype=object).T\n",
    "\n",
    "for i in range(len(novo)):\n",
    "    novo[i, 2] = int(novo[i, 2]/(sum(contagem*(novo[:, 0] == novo[i, 0])))*10000)/100\n",
    "    \n",
    "print(novo)"
   ]
  },
  {
   "cell_type": "code",
   "execution_count": 88,
   "id": "incorporate-happening",
   "metadata": {
    "ExecuteTime": {
     "end_time": "2021-04-06T18:48:42.015383Z",
     "start_time": "2021-04-06T18:48:41.829250Z"
    }
   },
   "outputs": [
    {
     "data": {
      "image/png": "[encoded data removed]",
      "text/plain": [
       "<Figure size 432x288 with 1 Axes>"
      ]
     },
     "metadata": {
      "needs_background": "light"
     },
     "output_type": "display_data"
    }
   ],
   "source": [
    "# gráfico com a quantidade de acidentes fatais (Y) e não-fatais (N) por oceano (ATL - Atlântico, IND - Índico e \n",
    "#                                                                               PAC - Pacífico)\n",
    "\n",
    "contagem = f_shark[['fatal', 'ocean','date']].groupby(by=['ocean', 'fatal']).count().values[:,0]\n",
    "rotulo = list(map(lambda label: label[0][0:3]+'-'+label[1], f_shark[['fatal', 'ocean','date']].groupby(by=['ocean', 'fatal']).count().index))\n",
    "\n",
    "plt.bar(rotulo, contagem)\n",
    "plt.xlabel('acidentes fatais (Y) e não-fatais (N) por oceano (ATL - Atlântico, IND - Índico e PAC - Pacífico)')\n",
    "plt.ylabel('nr. de registros')\n",
    "\n",
    "plt.show()"
   ]
  },
  {
   "cell_type": "markdown",
   "id": "blond-alert",
   "metadata": {},
   "source": [
    "###  Avaliando a influência do gênero"
   ]
  },
  {
   "cell_type": "code",
   "execution_count": 89,
   "id": "curious-people",
   "metadata": {
    "ExecuteTime": {
     "end_time": "2021-04-06T18:48:42.047294Z",
     "start_time": "2021-04-06T18:48:42.017342Z"
    },
    "scrolled": true
   },
   "outputs": [
    {
     "data": {
      "text/html": [
       "<div>\n",
       "<style scoped>\n",
       "    .dataframe tbody tr th:only-of-type {\n",
       "        vertical-align: middle;\n",
       "    }\n",
       "\n",
       "    .dataframe tbody tr th {\n",
       "        vertical-align: top;\n",
       "    }\n",
       "\n",
       "    .dataframe thead th {\n",
       "        text-align: right;\n",
       "    }\n",
       "</style>\n",
       "<table border=\"1\" class=\"dataframe\">\n",
       "  <thead>\n",
       "    <tr style=\"text-align: right;\">\n",
       "      <th></th>\n",
       "      <th></th>\n",
       "      <th></th>\n",
       "      <th>date</th>\n",
       "    </tr>\n",
       "    <tr>\n",
       "      <th>sex</th>\n",
       "      <th>ocean</th>\n",
       "      <th>fatal</th>\n",
       "      <th></th>\n",
       "    </tr>\n",
       "  </thead>\n",
       "  <tbody>\n",
       "    <tr>\n",
       "      <th rowspan=\"6\" valign=\"top\">F</th>\n",
       "      <th rowspan=\"2\" valign=\"top\">ATLANTIC OCEAN</th>\n",
       "      <th>N</th>\n",
       "      <td>4.807997</td>\n",
       "    </tr>\n",
       "    <tr>\n",
       "      <th>Y</th>\n",
       "      <td>0.714059</td>\n",
       "    </tr>\n",
       "    <tr>\n",
       "      <th rowspan=\"2\" valign=\"top\">INDIAN OCEAN</th>\n",
       "      <th>N</th>\n",
       "      <td>0.714059</td>\n",
       "    </tr>\n",
       "    <tr>\n",
       "      <th>Y</th>\n",
       "      <td>0.460171</td>\n",
       "    </tr>\n",
       "    <tr>\n",
       "      <th rowspan=\"2\" valign=\"top\">PACIFIC OCEAN</th>\n",
       "      <th>N</th>\n",
       "      <td>2.491273</td>\n",
       "    </tr>\n",
       "    <tr>\n",
       "      <th>Y</th>\n",
       "      <td>0.952079</td>\n",
       "    </tr>\n",
       "    <tr>\n",
       "      <th rowspan=\"6\" valign=\"top\">M</th>\n",
       "      <th rowspan=\"2\" valign=\"top\">ATLANTIC OCEAN</th>\n",
       "      <th>N</th>\n",
       "      <td>30.434783</td>\n",
       "    </tr>\n",
       "    <tr>\n",
       "      <th>Y</th>\n",
       "      <td>9.409711</td>\n",
       "    </tr>\n",
       "    <tr>\n",
       "      <th rowspan=\"2\" valign=\"top\">INDIAN OCEAN</th>\n",
       "      <th>N</th>\n",
       "      <td>10.282450</td>\n",
       "    </tr>\n",
       "    <tr>\n",
       "      <th>Y</th>\n",
       "      <td>5.157093</td>\n",
       "    </tr>\n",
       "    <tr>\n",
       "      <th rowspan=\"2\" valign=\"top\">PACIFIC OCEAN</th>\n",
       "      <th>N</th>\n",
       "      <td>24.976198</td>\n",
       "    </tr>\n",
       "    <tr>\n",
       "      <th>Y</th>\n",
       "      <td>9.600127</td>\n",
       "    </tr>\n",
       "  </tbody>\n",
       "</table>\n",
       "</div>"
      ],
      "text/plain": [
       "                               date\n",
       "sex ocean          fatal           \n",
       "F   ATLANTIC OCEAN N       4.807997\n",
       "                   Y       0.714059\n",
       "    INDIAN OCEAN   N       0.714059\n",
       "                   Y       0.460171\n",
       "    PACIFIC OCEAN  N       2.491273\n",
       "                   Y       0.952079\n",
       "M   ATLANTIC OCEAN N      30.434783\n",
       "                   Y       9.409711\n",
       "    INDIAN OCEAN   N      10.282450\n",
       "                   Y       5.157093\n",
       "    PACIFIC OCEAN  N      24.976198\n",
       "                   Y       9.600127"
      ]
     },
     "execution_count": 89,
     "metadata": {},
     "output_type": "execute_result"
    }
   ],
   "source": [
    "f_shark[['fatal', 'ocean', 'sex', 'date']].groupby(by=['sex', 'ocean', 'fatal']).count()/6302*100"
   ]
  },
  {
   "cell_type": "code",
   "execution_count": 90,
   "id": "remarkable-stereo",
   "metadata": {
    "ExecuteTime": {
     "end_time": "2021-04-06T18:48:42.110635Z",
     "start_time": "2021-04-06T18:48:42.049258Z"
    },
    "scrolled": true
   },
   "outputs": [
    {
     "data": {
      "text/plain": [
       "sex  ocean         \n",
       "M    ATLANTIC OCEAN    1918\n",
       "     PACIFIC OCEAN     1574\n",
       "     INDIAN OCEAN       648\n",
       "F    ATLANTIC OCEAN     303\n",
       "     PACIFIC OCEAN      157\n",
       "     INDIAN OCEAN        45\n",
       "dtype: int64"
      ]
     },
     "execution_count": 90,
     "metadata": {},
     "output_type": "execute_result"
    }
   ],
   "source": [
    "f_shark.loc[(f_shark['fatal']=='N'), ['sex', 'ocean']].value_counts()"
   ]
  },
  {
   "cell_type": "code",
   "execution_count": 91,
   "id": "corrected-renaissance",
   "metadata": {
    "ExecuteTime": {
     "end_time": "2021-04-06T18:48:42.205457Z",
     "start_time": "2021-04-06T18:48:42.114624Z"
    },
    "scrolled": false
   },
   "outputs": [
    {
     "data": {
      "text/plain": [
       "sex  ocean         \n",
       "M    PACIFIC OCEAN     605\n",
       "     ATLANTIC OCEAN    593\n",
       "     INDIAN OCEAN      325\n",
       "F    PACIFIC OCEAN      60\n",
       "     ATLANTIC OCEAN     45\n",
       "     INDIAN OCEAN       29\n",
       "dtype: int64"
      ]
     },
     "execution_count": 91,
     "metadata": {},
     "output_type": "execute_result"
    }
   ],
   "source": [
    "f_shark.loc[(f_shark['fatal']=='Y'), ['sex', 'ocean']].value_counts()"
   ]
  },
  {
   "cell_type": "code",
   "execution_count": 92,
   "id": "loving-trading",
   "metadata": {
    "ExecuteTime": {
     "end_time": "2021-04-06T18:48:42.284542Z",
     "start_time": "2021-04-06T18:48:42.208429Z"
    }
   },
   "outputs": [
    {
     "name": "stdout",
     "output_type": "stream",
     "text": [
      "[['N' 'ATLANTIC OCEAN' 'F' 6.52]\n",
      " ['N' 'ATLANTIC OCEAN' 'M' 41.29]\n",
      " ['N' 'INDIAN OCEAN' 'F' 0.96]\n",
      " ['N' 'INDIAN OCEAN' 'M' 13.95]\n",
      " ['N' 'PACIFIC OCEAN' 'F' 3.37]\n",
      " ['N' 'PACIFIC OCEAN' 'M' 33.88]\n",
      " ['Y' 'ATLANTIC OCEAN' 'F' 2.71]\n",
      " ['Y' 'ATLANTIC OCEAN' 'M' 35.78]\n",
      " ['Y' 'INDIAN OCEAN' 'F' 1.75]\n",
      " ['Y' 'INDIAN OCEAN' 'M' 19.61]\n",
      " ['Y' 'PACIFIC OCEAN' 'F' 3.62]\n",
      " ['Y' 'PACIFIC OCEAN' 'M' 36.51]]\n"
     ]
    }
   ],
   "source": [
    "# porcentagem de incidentes fatais (Y) e não-fatais (N) por oceano e gênero\n",
    "\n",
    "contagem = f_shark[['fatal', 'ocean','sex', 'date']].groupby(by=['fatal', 'ocean', 'sex']).count().values[:,0]\n",
    "rotulo = list(f_shark[['fatal', 'ocean', 'sex', 'date']].groupby(by=['fatal', 'ocean', 'sex']).count().index)\n",
    "\n",
    "oceano = []\n",
    "fatal = []\n",
    "genero = []\n",
    "\n",
    "for fat, oce, gen in rotulo:\n",
    "    genero.append(gen)\n",
    "    oceano.append(oce)\n",
    "    fatal.append(fat)\n",
    "\n",
    "novo = np.array([fatal, oceano, genero, contagem], dtype=object).T\n",
    "\n",
    "for i in range(len(novo)):\n",
    "    novo[i, 3] = int(novo[i, 3]/(sum(contagem*(novo[:, 0] == novo[i, 0])))*10000)/100\n",
    "    \n",
    "print(novo)"
   ]
  }
 ],
 "metadata": {
  "kernelspec": {
   "display_name": "Python 3",
   "language": "python",
   "name": "python3"
  },
  "language_info": {
   "codemirror_mode": {
    "name": "ipython",
    "version": 3
   },
   "file_extension": ".py",
   "mimetype": "text/x-python",
   "name": "python",
   "nbconvert_exporter": "python",
   "pygments_lexer": "ipython3",
   "version": "3.8.8"
  },
  "toc": {
   "base_numbering": 1,
   "nav_menu": {},
   "number_sections": true,
   "sideBar": true,
   "skip_h1_title": false,
   "title_cell": "Table of Contents",
   "title_sidebar": "Contents",
   "toc_cell": false,
   "toc_position": {},
   "toc_section_display": true,
   "toc_window_display": false
  },
  "varInspector": {
   "cols": {
    "lenName": 16,
    "lenType": 16,
    "lenVar": 40
   },
   "kernels_config": {
    "python": {
     "delete_cmd_postfix": "",
     "delete_cmd_prefix": "del ",
     "library": "var_list.py",
     "varRefreshCmd": "print(var_dic_list())"
    },
    "r": {
     "delete_cmd_postfix": ") ",
     "delete_cmd_prefix": "rm(",
     "library": "var_list.r",
     "varRefreshCmd": "cat(var_dic_list()) "
    }
   },
   "position": {
    "height": "243.4px",
    "left": "923.2px",
    "right": "20px",
    "top": "59px",
    "width": "589px"
   },
   "types_to_exclude": [
    "module",
    "function",
    "builtin_function_or_method",
    "instance",
    "_Feature"
   ],
   "window_display": false
  }
 },
 "nbformat": 4,
 "nbformat_minor": 5
}
