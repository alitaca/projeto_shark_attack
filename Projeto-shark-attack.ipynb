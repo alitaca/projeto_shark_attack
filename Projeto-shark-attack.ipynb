{
 "cells": [
  {
   "cell_type": "markdown",
   "id": "disturbed-number",
   "metadata": {},
   "source": [
    "# Projeto: Shark Attack\n",
    "\n",
    "Objetivos:\n",
    "- Descobrir se há alguma indícios de perigosidade de algum dos oceanos\n",
    "- Identificar quais informações são relevantes para este estudo\n",
    "- Identificar se há correlação entre os ataques de tubarões e/ou fatalidades e a região do ataque"
   ]
  },
  {
   "cell_type": "markdown",
   "id": "focused-warehouse",
   "metadata": {},
   "source": [
    "## Importação de bibliotecas e dados externos"
   ]
  },
  {
   "cell_type": "code",
   "execution_count": null,
   "id": "generic-congress",
   "metadata": {
    "ExecuteTime": {
     "end_time": "2021-04-06T12:02:42.442456Z",
     "start_time": "2021-04-06T12:02:40.666211Z"
    }
   },
   "outputs": [],
   "source": [
    "import pandas as pd\n",
    "import numpy as np\n",
    "import re"
   ]
  },
  {
   "cell_type": "code",
   "execution_count": null,
   "id": "frank-sunday",
   "metadata": {
    "ExecuteTime": {
     "end_time": "2021-04-06T12:02:42.624689Z",
     "start_time": "2021-04-06T12:02:42.449158Z"
    }
   },
   "outputs": [],
   "source": [
    "shark_attack = pd.read_csv('archive.zip', compression='zip', encoding='ansi')\n",
    "shark_attack.tail()"
   ]
  },
  {
   "cell_type": "markdown",
   "id": "private-briefing",
   "metadata": {},
   "source": [
    "### Verificando DataFrame"
   ]
  },
  {
   "cell_type": "code",
   "execution_count": null,
   "id": "distant-heart",
   "metadata": {
    "ExecuteTime": {
     "end_time": "2021-04-06T12:13:13.002948Z",
     "start_time": "2021-04-06T12:13:12.958050Z"
    }
   },
   "outputs": [],
   "source": [
    "shark_attack.info()"
   ]
  },
  {
   "cell_type": "code",
   "execution_count": null,
   "id": "nominated-footage",
   "metadata": {
    "ExecuteTime": {
     "end_time": "2021-04-06T03:51:51.504397Z",
     "start_time": "2021-04-06T03:51:51.427605Z"
    }
   },
   "outputs": [],
   "source": [
    "# aumentando a quantidade de colunas do dataframe a serem visualizadas\n",
    "\n",
    "pd.options.display.max_columns = 25"
   ]
  },
  {
   "cell_type": "code",
   "execution_count": null,
   "id": "unlikely-prophet",
   "metadata": {
    "ExecuteTime": {
     "end_time": "2021-04-06T03:51:51.583187Z",
     "start_time": "2021-04-06T03:51:51.506393Z"
    }
   },
   "outputs": [],
   "source": [
    "# descobrindo erros nos nomes das colunas\n",
    "\n",
    "shark_attack.columns"
   ]
  },
  {
   "cell_type": "markdown",
   "id": "affiliated-mortgage",
   "metadata": {},
   "source": [
    "##  Tratamento de linhas nulas"
   ]
  },
  {
   "cell_type": "code",
   "execution_count": null,
   "id": "musical-listening",
   "metadata": {
    "ExecuteTime": {
     "end_time": "2021-04-06T12:03:35.162192Z",
     "start_time": "2021-04-06T12:03:34.403975Z"
    }
   },
   "outputs": [],
   "source": [
    "# criando uma coluna com a contagem de nulos em cada linha\n",
    "\n",
    "shark_attack['Vazio'] = shark_attack.T.isnull().sum()"
   ]
  },
  {
   "cell_type": "code",
   "execution_count": null,
   "id": "imperial-microphone",
   "metadata": {
    "ExecuteTime": {
     "end_time": "2021-04-06T03:51:52.503011Z",
     "start_time": "2021-04-06T03:51:52.474896Z"
    }
   },
   "outputs": [],
   "source": [
    "shark_attack.head()"
   ]
  },
  {
   "cell_type": "code",
   "execution_count": null,
   "id": "separated-python",
   "metadata": {
    "ExecuteTime": {
     "end_time": "2021-04-06T03:51:52.679127Z",
     "start_time": "2021-04-06T03:51:52.505006Z"
    }
   },
   "outputs": [],
   "source": [
    "shark_attack['Vazio'].value_counts()"
   ]
  },
  {
   "cell_type": "code",
   "execution_count": null,
   "id": "serial-display",
   "metadata": {
    "ExecuteTime": {
     "end_time": "2021-04-06T12:03:37.863146Z",
     "start_time": "2021-04-06T12:03:37.835191Z"
    }
   },
   "outputs": [],
   "source": [
    "# criando um dataframe com todas as linhas que possuem menos de 20 colunas vazias\n",
    "\n",
    "f_shark = shark_attack.drop(shark_attack[shark_attack['Vazio'] > 20].index)"
   ]
  },
  {
   "cell_type": "code",
   "execution_count": null,
   "id": "compound-postage",
   "metadata": {
    "ExecuteTime": {
     "end_time": "2021-04-06T03:51:52.852140Z",
     "start_time": "2021-04-06T03:51:52.792383Z"
    }
   },
   "outputs": [],
   "source": [
    "# verificando a quantidade de linhas x colunas vazias\n",
    "\n",
    "f_shark['Vazio'].value_counts()"
   ]
  },
  {
   "cell_type": "markdown",
   "id": "apparent-institute",
   "metadata": {},
   "source": [
    "##  Escolha de colunas relevantes"
   ]
  },
  {
   "cell_type": "code",
   "execution_count": null,
   "id": "fifteen-farming",
   "metadata": {
    "ExecuteTime": {
     "end_time": "2021-04-06T03:51:52.947884Z",
     "start_time": "2021-04-06T03:51:52.854137Z"
    }
   },
   "outputs": [],
   "source": [
    "f_shark['Unnamed: 23'].value_counts()"
   ]
  },
  {
   "cell_type": "code",
   "execution_count": null,
   "id": "transsexual-rally",
   "metadata": {
    "ExecuteTime": {
     "end_time": "2021-04-06T03:51:53.043668Z",
     "start_time": "2021-04-06T03:51:52.949881Z"
    }
   },
   "outputs": [],
   "source": [
    "f_shark.loc[~f_shark['Unnamed: 23'].isnull(), :]"
   ]
  },
  {
   "cell_type": "code",
   "execution_count": null,
   "id": "recorded-lottery",
   "metadata": {
    "ExecuteTime": {
     "end_time": "2021-04-06T12:04:38.540987Z",
     "start_time": "2021-04-06T12:04:38.532993Z"
    }
   },
   "outputs": [],
   "source": [
    "# escolhendo as colunas relevantes\n",
    "\n",
    "f_shark = f_shark[['Date', 'Year', 'Type', 'Country', 'Area', 'Location', 'Activity', 'Name', 'Sex ', 'Age', 'Injury',\n",
    "             'Fatal (Y/N)', 'Time', 'Species ']]"
   ]
  },
  {
   "cell_type": "code",
   "execution_count": null,
   "id": "acting-honduras",
   "metadata": {
    "ExecuteTime": {
     "end_time": "2021-04-06T12:04:41.843775Z",
     "start_time": "2021-04-06T12:04:41.838789Z"
    }
   },
   "outputs": [],
   "source": [
    "# renomeando as colunas\n",
    "\n",
    "f_shark.columns = ['date', 'year', 'type', 'country', 'area', 'location', 'activity', 'name', 'sex', 'age', 'injury',\n",
    "                 'fatal', 'time', 'species']"
   ]
  },
  {
   "cell_type": "code",
   "execution_count": null,
   "id": "hired-burns",
   "metadata": {
    "ExecuteTime": {
     "end_time": "2021-04-06T12:05:15.695275Z",
     "start_time": "2021-04-06T12:05:15.679319Z"
    }
   },
   "outputs": [],
   "source": [
    "f_shark.tail()"
   ]
  },
  {
   "cell_type": "markdown",
   "id": "velvet-uniform",
   "metadata": {
    "heading_collapsed": true
   },
   "source": [
    "## Tratamento de ano"
   ]
  },
  {
   "cell_type": "code",
   "execution_count": null,
   "id": "varied-impression",
   "metadata": {
    "ExecuteTime": {
     "end_time": "2021-04-06T12:05:15.782043Z",
     "start_time": "2021-04-06T12:05:15.697272Z"
    },
    "hidden": true
   },
   "outputs": [],
   "source": [
    "# verificando linhas cujo ano pode ser completado com informação da coluna de data\n",
    "\n",
    "f_shark.loc[~(f_shark['date']).isnull() & (f_shark['year'].isnull()), 'date']"
   ]
  },
  {
   "cell_type": "code",
   "execution_count": null,
   "id": "authorized-hundred",
   "metadata": {
    "ExecuteTime": {
     "end_time": "2021-04-06T12:05:15.869809Z",
     "start_time": "2021-04-06T12:05:15.785034Z"
    },
    "hidden": true
   },
   "outputs": [],
   "source": [
    "# preenchendo valor de ano com informação de data\n",
    "\n",
    "f_shark.loc[~(f_shark['date']).isnull() & (f_shark['year'].isnull()), 'year'] = f_shark.loc[~(f_shark['date']).isnull() & (f_shark['year'].isnull()), 'date'].str.slice(start=-4)"
   ]
  },
  {
   "cell_type": "code",
   "execution_count": null,
   "id": "satisfied-remark",
   "metadata": {
    "ExecuteTime": {
     "end_time": "2021-04-06T12:05:15.950597Z",
     "start_time": "2021-04-06T12:05:15.871802Z"
    },
    "hidden": true
   },
   "outputs": [],
   "source": [
    "f_shark.loc[~(f_shark['date']).isnull() & (f_shark['year'].isnull()), 'date']"
   ]
  },
  {
   "cell_type": "code",
   "execution_count": null,
   "id": "promising-diabetes",
   "metadata": {
    "ExecuteTime": {
     "end_time": "2021-04-06T12:05:16.038358Z",
     "start_time": "2021-04-06T12:05:15.952619Z"
    },
    "hidden": true
   },
   "outputs": [],
   "source": [
    "# transformando coluna ano em inteiros\n",
    "\n",
    "f_shark['year'] = f_shark['year'].astype(int)"
   ]
  },
  {
   "cell_type": "code",
   "execution_count": null,
   "id": "entitled-norwegian",
   "metadata": {
    "ExecuteTime": {
     "end_time": "2021-04-06T12:05:16.121693Z",
     "start_time": "2021-04-06T12:05:16.040352Z"
    },
    "hidden": true
   },
   "outputs": [],
   "source": [
    "# verificando dados pós-tratamento\n",
    "\n",
    "f_shark['year'].isnull().sum()"
   ]
  },
  {
   "cell_type": "code",
   "execution_count": null,
   "id": "correct-maker",
   "metadata": {
    "ExecuteTime": {
     "end_time": "2021-04-06T12:05:16.251383Z",
     "start_time": "2021-04-06T12:05:16.122723Z"
    },
    "hidden": true
   },
   "outputs": [],
   "source": [
    "f_shark.info()"
   ]
  },
  {
   "cell_type": "markdown",
   "id": "certified-experiment",
   "metadata": {},
   "source": [
    "## Tratamento de país"
   ]
  },
  {
   "cell_type": "code",
   "execution_count": null,
   "id": "appointed-drama",
   "metadata": {
    "ExecuteTime": {
     "end_time": "2021-04-06T12:05:16.337115Z",
     "start_time": "2021-04-06T12:05:16.252342Z"
    }
   },
   "outputs": [],
   "source": [
    "f_shark['country']"
   ]
  },
  {
   "cell_type": "code",
   "execution_count": null,
   "id": "executed-oriental",
   "metadata": {
    "ExecuteTime": {
     "end_time": "2021-04-06T12:27:55.038974Z",
     "start_time": "2021-04-06T12:27:55.030986Z"
    }
   },
   "outputs": [],
   "source": [
    "f_shark.loc[(f_shark['country'].isnull()) & (f_shark['area'].isnull()) & (f_shark['location'].isnull()), :].shape"
   ]
  },
  {
   "cell_type": "code",
   "execution_count": null,
   "id": "decimal-transaction",
   "metadata": {
    "ExecuteTime": {
     "end_time": "2021-04-06T12:05:16.545121Z",
     "start_time": "2021-04-06T12:05:16.440869Z"
    }
   },
   "outputs": [],
   "source": [
    "# verificando linhas sem informação de país\n",
    "\n",
    "f_shark.loc[(f_shark['country'].isnull()) & (~(f_shark['area'].isnull()) | ~(f_shark['location'].isnull())), ['country', 'area', 'location']]"
   ]
  },
  {
   "cell_type": "code",
   "execution_count": null,
   "id": "fossil-monitor",
   "metadata": {
    "ExecuteTime": {
     "end_time": "2021-04-06T12:05:16.627237Z",
     "start_time": "2021-04-06T12:05:16.547147Z"
    }
   },
   "outputs": [],
   "source": [
    "# substituindo campos 'country' nulos por informações das colunas 'area' ou 'location'\n",
    "\n",
    "f_shark.loc[(f_shark['country'].isnull()) & ((f_shark['area']=='St Helena') | ~(f_shark['area'].isnull())), 'country'] = f_shark.loc[(f_shark['country'].isnull()) & ((f_shark['area']=='St Helena') | ~(f_shark['area'].isnull())), 'area']\n",
    "f_shark.loc[(f_shark['country'].isnull()) & ~(f_shark['location'].isnull()), 'country'] = f_shark.loc[(f_shark['country'].isnull()) & ~(f_shark['location'].isnull()), 'location']"
   ]
  },
  {
   "cell_type": "code",
   "execution_count": null,
   "id": "biological-cancellation",
   "metadata": {
    "ExecuteTime": {
     "end_time": "2021-04-06T13:04:13.852723Z",
     "start_time": "2021-04-06T13:04:13.823769Z"
    }
   },
   "outputs": [],
   "source": [
    "# ajustando nomes de paises\n",
    "\n",
    "f_shark.loc[~(f_shark['country'].isnull()), 'country'] = f_shark.loc[~(f_shark['country'].isnull()), 'country'].apply(lambda place: re.sub(' ?[\\/\\(,].*', '', str(place).upper()) if len(str(place))>0 else None)\n",
    "f_shark.loc[~(f_shark['country'].isnull()), 'country'] = f_shark.loc[~(f_shark['country'].isnull()), 'country'].str.lstrip(' ')\n",
    "f_shark.loc[~(f_shark['country'].isnull()), 'country'] = f_shark.loc[~(f_shark['country'].isnull()), 'country'].str.rstrip('[ ?]')"
   ]
  },
  {
   "cell_type": "code",
   "execution_count": null,
   "id": "mexican-mineral",
   "metadata": {
    "ExecuteTime": {
     "end_time": "2021-04-06T13:04:15.184496Z",
     "start_time": "2021-04-06T13:04:15.175484Z"
    }
   },
   "outputs": [],
   "source": [
    "# Verificando os nomes dos países\n",
    "\n",
    "paises = sorted(list(f_shark['country'].value_counts().index))\n",
    "print(paises)"
   ]
  },
  {
   "cell_type": "code",
   "execution_count": null,
   "id": "continent-module",
   "metadata": {
    "ExecuteTime": {
     "end_time": "2021-04-06T13:05:45.381190Z",
     "start_time": "2021-04-06T13:05:45.336310Z"
    }
   },
   "outputs": [],
   "source": [
    "# agrupando alguns países\n",
    "\n",
    "f_shark.loc[f_shark['country'] == '225 MILES EAST OF HONG KONG', 'country'] = 'HONG KONG'\n",
    "f_shark.loc[f_shark['country'] == '300 MILES EAST OF ST. THOMAS', 'country'] = 'ST. THOMAS'\n",
    "f_shark.loc[f_shark['country'] == 'TOBAGO', 'country'] = 'TRINIDAD & TOBAGO'\n",
    "f_shark.loc[f_shark['country'] == 'REUNION ISLAND', 'country'] = 'REUNION'\n",
    "f_shark.loc[f_shark['country'] == 'NEW GUINEA', 'country'] = 'PAPUA NEW GUINEA'\n",
    "f_shark.loc[f_shark['country'] == 'BRITISH NEW GUINEA', 'country'] = 'PAPUA NEW GUINEA'\n",
    "f_shark.loc[f_shark['country'] == 'OKINAWA', 'country'] = 'JAPAN'\n",
    "f_shark.loc[f_shark['country'] == 'ST. MAARTIN', 'country'] = 'ST. MARTIN'\n",
    "f_shark.loc[f_shark['country'] == 'SOUTH CHINA SEA', 'country'] = 'CHINA'\n",
    "f_shark.loc[f_shark['country'] == 'BETWEEN COMORES & MADAGASCAR', 'country'] = 'MADAGASCAR'\n",
    "f_shark.loc[f_shark['country'] == 'BETWEEN PORTUGAL & INDIA', 'country'] = 'PORTUGAL'\n",
    "f_shark.loc[f_shark['country'] == 'BETWEEN TIMOR & DARWIN, AUSTRALIA', 'country'] = 'AUSTRALIA'\n",
    "f_shark.loc[f_shark['country'] == 'MALDIVE ISLANDS', 'country'] = 'MALDIVES'\n",
    "f_shark.loc[f_shark['country'] == 'GULF OF CALIFORNIA', 'country'] = 'USA'\n",
    "f_shark.loc[f_shark['country'] == 'FLORIDA STRAIT', 'country'] = 'USA'\n",
    "f_shark.loc[f_shark['country'] == 'GEORGIA', 'country'] = 'USA'\n",
    "f_shark.loc[f_shark['country'] == 'FEDERATED STATES OF MICRONESIA', 'country'] = 'MICRONESIA'\n",
    "f_shark.loc[f_shark['country'] == 'GRAND CAYMAN', 'country'] = 'CAYMAN ISLANDS'\n",
    "f_shark.loc[f_shark['country'] == 'NEAR THE ANDAMAN & NICOBAR ISLANDS', 'country'] = 'ANDAMAN'\n",
    "f_shark.loc[f_shark['country'] == 'ANDAMAN ISLANDS', 'country'] = 'ANDAMAN'\n",
    "f_shark.loc[f_shark['country'] == 'TASMAN SEA', 'country'] = 'AUSTRALIA'\n",
    "f_shark.loc[f_shark['country'] == 'CEYLON', 'country'] = 'SRI LANKA'\n",
    "f_shark.loc[f_shark['country'] == 'ENGLISH CHANNEL', 'country'] = 'UNITED KINGDOM'\n",
    "f_shark.loc[f_shark['country'] == 'BRITISH ISLES', 'country'] = 'UNITED KINGDOM'\n",
    "f_shark.loc[f_shark['country'] == 'ENGLAND', 'country'] = 'UNITED KINGDOM'\n",
    "f_shark.loc[f_shark['country'] == 'SCOTLAND', 'country'] = 'UNITED KINGDOM'\n",
    "f_shark.loc[f_shark['country'] == 'IN A RIVER FEEDING INTO THE BAY OF BENGAL', 'country'] = 'BAY OF BENGAL'"
   ]
  },
  {
   "cell_type": "code",
   "execution_count": null,
   "id": "delayed-chapter",
   "metadata": {
    "ExecuteTime": {
     "end_time": "2021-04-06T13:05:50.979068Z",
     "start_time": "2021-04-06T13:05:50.969062Z"
    }
   },
   "outputs": [],
   "source": [
    "f_shark['country'].value_counts()"
   ]
  },
  {
   "cell_type": "code",
   "execution_count": null,
   "id": "robust-client",
   "metadata": {
    "ExecuteTime": {
     "end_time": "2021-04-06T13:07:34.446810Z",
     "start_time": "2021-04-06T13:07:34.436838Z"
    }
   },
   "outputs": [],
   "source": [
    "# Verificando campos nulos\n",
    "\n",
    "f_shark['country'].isnull().sum()"
   ]
  },
  {
   "cell_type": "markdown",
   "id": "decimal-declaration",
   "metadata": {
    "heading_collapsed": true
   },
   "source": [
    "## Agrupado em dados de oceanos/mar"
   ]
  },
  {
   "cell_type": "code",
   "execution_count": null,
   "id": "negative-bouquet",
   "metadata": {
    "ExecuteTime": {
     "end_time": "2021-04-06T12:05:16.901404Z",
     "start_time": "2021-04-06T12:05:16.831592Z"
    },
    "hidden": true
   },
   "outputs": [],
   "source": [
    "f_shark['ocean']=f_shark['country']"
   ]
  },
  {
   "cell_type": "code",
   "execution_count": null,
   "id": "developing-leone",
   "metadata": {
    "ExecuteTime": {
     "end_time": "2021-04-06T12:05:17.019700Z",
     "start_time": "2021-04-06T12:05:16.903399Z"
    },
    "hidden": true
   },
   "outputs": [],
   "source": [
    "oceano = 'OCEAN|SEA|BAY|GULF'\n",
    "\n",
    "lista = sorted(list(f_shark.loc[~(f_shark['ocean'].isnull()), 'ocean'].apply(lambda pais: pais if re.search(oceano, pais.upper()) else None).value_counts().index))\n",
    "lista"
   ]
  },
  {
   "cell_type": "code",
   "execution_count": null,
   "id": "double-interaction",
   "metadata": {
    "ExecuteTime": {
     "end_time": "2021-04-06T13:13:16.384804Z",
     "start_time": "2021-04-06T13:13:16.373866Z"
    },
    "hidden": true
   },
   "outputs": [],
   "source": [
    "## ATENÇÃO ###\n",
    "# célula destinada a verificar dados de uma linha específica\n",
    "\n",
    "f_shark.loc[f_shark['ocean']=='PALESTINIAN TERRITORIES', :]"
   ]
  },
  {
   "cell_type": "markdown",
   "id": "applied-contributor",
   "metadata": {
    "heading_collapsed": true,
    "hidden": true
   },
   "source": [
    "###  Filtrando oceanos pelas colunas oceano e área"
   ]
  },
  {
   "cell_type": "code",
   "execution_count": null,
   "id": "unique-composer",
   "metadata": {
    "ExecuteTime": {
     "end_time": "2021-04-06T12:05:17.236956Z",
     "start_time": "2021-04-06T12:05:17.139814Z"
    },
    "hidden": true
   },
   "outputs": [],
   "source": [
    "# substituindo locais do Oceano Atlântico\n",
    "\n",
    "atl_keys = 'atlant|caribb|mediterr|north s'\n",
    "filtro_atl = (f_shark['ocean'].apply(lambda pais: True if re.search(atl_keys, str(pais).lower()) else False)) | (f_shark['area'].apply(lambda pais: True if re.search(atl_keys, str(pais).lower()) else False))\n",
    "f_shark.loc[filtro_atl, 'ocean'] = 'ATLANTIC OCEAN'"
   ]
  },
  {
   "cell_type": "code",
   "execution_count": null,
   "id": "classical-retail",
   "metadata": {
    "ExecuteTime": {
     "end_time": "2021-04-06T12:05:17.529031Z",
     "start_time": "2021-04-06T12:05:17.238951Z"
    },
    "hidden": true
   },
   "outputs": [],
   "source": [
    "# substituindo locais do Oceano Pacífico\n",
    "\n",
    "pcf_keys = 'pacif'\n",
    "filtro_pcf = (f_shark['ocean'].apply(lambda pais: True if re.search(pcf_keys, str(pais).lower()) else False)) | (f_shark['area'].apply(lambda pais: True if re.search(pcf_keys, str(pais).lower()) else False))\n",
    "f_shark.loc[filtro_pcf, 'ocean'] = 'PACIFIC OCEAN'"
   ]
  },
  {
   "cell_type": "code",
   "execution_count": null,
   "id": "personal-signature",
   "metadata": {
    "ExecuteTime": {
     "end_time": "2021-04-06T12:05:17.638454Z",
     "start_time": "2021-04-06T12:05:17.530028Z"
    },
    "hidden": true
   },
   "outputs": [],
   "source": [
    "# substituindo locais do Oceano Índico\n",
    "\n",
    "ind_keys = 'india|persian|red sea'\n",
    "filtro_ind = (f_shark['ocean'].apply(lambda pais: True if re.search(ind_keys, str(pais).lower()) else False)) | (f_shark['area'].apply(lambda pais: True if re.search(ind_keys, str(pais).lower()) else False))\n",
    "f_shark.loc[filtro_ind, 'ocean'] = 'INDIAN OCEAN'"
   ]
  },
  {
   "cell_type": "markdown",
   "id": "flying-poland",
   "metadata": {
    "heading_collapsed": true,
    "hidden": true
   },
   "source": [
    "###  Filtrando oceanos por países"
   ]
  },
  {
   "cell_type": "code",
   "execution_count": null,
   "id": "infinite-stopping",
   "metadata": {
    "ExecuteTime": {
     "end_time": "2021-04-06T12:05:17.737703Z",
     "start_time": "2021-04-06T12:05:17.640449Z"
    },
    "hidden": true
   },
   "outputs": [],
   "source": [
    "#filtrando por paises no Oceano Atlântico\n",
    "\n",
    "pais_atl = 'carlisle|st helena|brazil|haiti|honduras|argentina|peru|ecuador|venezu|columbia|spain|sloven|norw|guinea|georgia|aruba|gabon|angol|belize|crete|cayman|grenada|dominic|liberia|nigeria|france|united ki|scotl|turkey|el salv|england|ireland|azor|icel|falkl|guyana|cape v|florida|namib|curacao|bahamas|roatan|antigu|bermud|portugal|ghana|sierra|thomas|barbados|cuba|jamaica|puerto|artin|tobago|caico|urug|ionian|greece|croatia|italy|israel|lebanon|malta|monaco|montenegro|balkan|tunisia|libya|syria|alger|cypr'\n",
    "\n",
    "filtro_atl = f_shark['ocean'].apply(lambda pais: True if re.search(pais_atl, str(pais).lower()) else False)\n",
    "f_shark.loc[filtro_atl, 'ocean'] = 'ATLANTIC OCEAN'"
   ]
  },
  {
   "cell_type": "code",
   "execution_count": null,
   "id": "knowing-booth",
   "metadata": {
    "ExecuteTime": {
     "end_time": "2021-04-06T12:05:17.828062Z",
     "start_time": "2021-04-06T12:05:17.738702Z"
    },
    "hidden": true
   },
   "outputs": [],
   "source": [
    "#filtrando por paises no Oceano Pacífico\n",
    "\n",
    "pais_pcf = 'china sea|tasman|^ocean|california|korea|japan|marshal|canada|kiribati|philippines|admir|tonga|asia|costa r|nicar|seneg|malay|singap|russia|mariana|hong kong|cook|johnston|solomon|guam|chile|fiji|microne|thail|palau|new brit|polyne|maldiv|zealand|samoa|okinawa|papua|new guinea|taiwan|tuvalu|vanuatu|caled|china|timor|vietn'\n",
    "\n",
    "filtro_pcf = f_shark['ocean'].apply(lambda pais: True if re.search(pais_pcf, str(pais).lower()) else False)\n",
    "f_shark.loc[filtro_pcf, 'ocean'] = 'PACIFIC OCEAN'"
   ]
  },
  {
   "cell_type": "code",
   "execution_count": null,
   "id": "descending-crossing",
   "metadata": {
    "ExecuteTime": {
     "end_time": "2021-04-06T12:05:17.979526Z",
     "start_time": "2021-04-06T12:05:17.832020Z"
    },
    "hidden": true
   },
   "outputs": [],
   "source": [
    "#filtrando por paises no Oceano Índico\n",
    "\n",
    "pais_ind = 'bengal|arabian sea|aden|madagascar|reunion|mozamb|andam|egypt|bahrein|diego g|saudi a|arab em|mayote|burma|comoros|yeme|indonesia|java|banglad|maurit|keny|djib|seyc|sri|ceyl|tanza|somal|kuwai|iran|iraq'\n",
    "\n",
    "filtro_ind = f_shark['ocean'].apply(lambda pais: True if re.search(pais_ind, str(pais).lower()) else False)\n",
    "f_shark.loc[filtro_ind, 'ocean'] = 'INDIAN OCEAN'"
   ]
  },
  {
   "cell_type": "markdown",
   "id": "distinct-watts",
   "metadata": {
    "heading_collapsed": true,
    "hidden": true
   },
   "source": [
    "### Tratamento dados dos EUA "
   ]
  },
  {
   "cell_type": "code",
   "execution_count": null,
   "id": "august-planner",
   "metadata": {
    "ExecuteTime": {
     "end_time": "2021-04-06T12:05:18.101589Z",
     "start_time": "2021-04-06T12:05:17.981522Z"
    },
    "hidden": true
   },
   "outputs": [],
   "source": [
    "# filtrando dados dos EUA\n",
    "\n",
    "f_shark.loc[(f_shark['ocean']=='USA'), 'area'].value_counts()"
   ]
  },
  {
   "cell_type": "code",
   "execution_count": null,
   "id": "different-sender",
   "metadata": {
    "ExecuteTime": {
     "end_time": "2021-04-06T12:05:18.194071Z",
     "start_time": "2021-04-06T12:05:18.103582Z"
    },
    "hidden": true
   },
   "outputs": [],
   "source": [
    "f_shark.loc[(f_shark['ocean']=='USA') & (f_shark['area']=='New Mexico'), :]"
   ]
  },
  {
   "cell_type": "code",
   "execution_count": null,
   "id": "chicken-austin",
   "metadata": {
    "ExecuteTime": {
     "end_time": "2021-04-06T12:05:18.285920Z",
     "start_time": "2021-04-06T12:05:18.197043Z"
    },
    "hidden": true
   },
   "outputs": [],
   "source": [
    "# Filtrando os incidentes no lado Pacífico dos EUA\n",
    "\n",
    "usa_pcf = 'hawai|califo|alas|atoll|guam|washin|oreg'\n",
    "\n",
    "filtro_usa_pcf = (f_shark['area'].apply(lambda pais: True if re.search(usa_pcf, str(pais).lower()) else False)) & (f_shark['country']=='USA')\n",
    "f_shark.loc[filtro_usa_pcf, 'ocean'] = 'PACIFIC OCEAN'"
   ]
  },
  {
   "cell_type": "code",
   "execution_count": null,
   "id": "gentle-nelson",
   "metadata": {
    "ExecuteTime": {
     "end_time": "2021-04-06T12:05:18.376108Z",
     "start_time": "2021-04-06T12:05:18.286885Z"
    },
    "hidden": true
   },
   "outputs": [],
   "source": [
    "# Preenchendo os outros incidentes dos EUA com Atlântico\n",
    "\n",
    "f_shark.loc[(f_shark['country']=='USA') & (f_shark['ocean'] != 'PACIFIC OCEAN'), 'ocean'] = 'ATLANTIC OCEAN'"
   ]
  },
  {
   "cell_type": "markdown",
   "id": "sexual-fifty",
   "metadata": {
    "heading_collapsed": true,
    "hidden": true
   },
   "source": [
    "###  Tratamento dados da Austrália"
   ]
  },
  {
   "cell_type": "code",
   "execution_count": null,
   "id": "unavailable-focus",
   "metadata": {
    "ExecuteTime": {
     "end_time": "2021-04-06T12:05:18.462191Z",
     "start_time": "2021-04-06T12:05:18.382093Z"
    },
    "hidden": true
   },
   "outputs": [],
   "source": [
    "# Verificando dados da Austrália\n",
    "\n",
    "f_shark.loc[(f_shark['ocean']=='AUSTRALIA'), 'area'].value_counts()"
   ]
  },
  {
   "cell_type": "code",
   "execution_count": null,
   "id": "intended-attention",
   "metadata": {
    "ExecuteTime": {
     "end_time": "2021-04-06T12:05:18.576420Z",
     "start_time": "2021-04-06T12:05:18.468173Z"
    },
    "hidden": true
   },
   "outputs": [],
   "source": [
    "# Filtrando os incidentes no lado Índico da Austrália\n",
    "\n",
    "aus_ind = 'western|south aus|keeling'\n",
    "\n",
    "filtro_aus_ind = (f_shark['area'].apply(lambda pais: True if re.search(aus_ind, str(pais).lower()) else False)) & (f_shark['country']=='AUSTRALIA')\n",
    "f_shark.loc[filtro_aus_ind, 'ocean'] = 'INDIAN OCEAN'"
   ]
  },
  {
   "cell_type": "code",
   "execution_count": null,
   "id": "adjusted-cholesterol",
   "metadata": {
    "ExecuteTime": {
     "end_time": "2021-04-06T12:05:18.700506Z",
     "start_time": "2021-04-06T12:05:18.581409Z"
    },
    "hidden": true
   },
   "outputs": [],
   "source": [
    "# Preenchendo os outros incidentes da Austrália com Pacífico\n",
    "\n",
    "f_shark.loc[(f_shark['country']=='AUSTRALIA') & (f_shark['ocean'] != 'INDIAN OCEAN'), 'ocean'] = 'PACIFIC OCEAN'"
   ]
  },
  {
   "cell_type": "markdown",
   "id": "encouraging-maximum",
   "metadata": {
    "heading_collapsed": true,
    "hidden": true
   },
   "source": [
    "###  Tratamento dados da África do Sul"
   ]
  },
  {
   "cell_type": "code",
   "execution_count": null,
   "id": "promising-oliver",
   "metadata": {
    "ExecuteTime": {
     "end_time": "2021-04-06T12:05:18.786308Z",
     "start_time": "2021-04-06T12:05:18.703495Z"
    },
    "hidden": true
   },
   "outputs": [],
   "source": [
    "# filtrando dados da África do Sul\n",
    "\n",
    "f_shark.loc[(f_shark['ocean']=='SOUTH AFRICA'), 'area'].value_counts()"
   ]
  },
  {
   "cell_type": "code",
   "execution_count": null,
   "id": "exterior-vertical",
   "metadata": {
    "ExecuteTime": {
     "end_time": "2021-04-06T12:05:18.908845Z",
     "start_time": "2021-04-06T12:05:18.788270Z"
    },
    "hidden": true
   },
   "outputs": [],
   "source": [
    "# Filtrando os incidentes no lado Atlântico da África do Sul\n",
    "\n",
    "afs_atl = 'western|atlant'\n",
    "\n",
    "filtro_afs_atl = (f_shark['area'].apply(lambda pais: True if re.search(afs_atl, str(pais).lower()) else False)) & (f_shark['country']=='SOUTH AFRICA')\n",
    "f_shark.loc[filtro_afs_atl, 'ocean'] = 'ATLANTIC OCEAN'"
   ]
  },
  {
   "cell_type": "code",
   "execution_count": null,
   "id": "democratic-atlantic",
   "metadata": {
    "ExecuteTime": {
     "end_time": "2021-04-06T12:05:18.986720Z",
     "start_time": "2021-04-06T12:05:18.910807Z"
    },
    "hidden": true
   },
   "outputs": [],
   "source": [
    "# Preenchendo os outros incidentes da África do Sul com Índico\n",
    "\n",
    "f_shark.loc[(f_shark['country']=='SOUTH AFRICA') & (f_shark['ocean'] != 'ATLANTIC OCEAN'), 'ocean'] = 'INDIAN OCEAN'"
   ]
  },
  {
   "cell_type": "markdown",
   "id": "selected-suite",
   "metadata": {
    "heading_collapsed": true,
    "hidden": true
   },
   "source": [
    "###  Tratamento dados do México"
   ]
  },
  {
   "cell_type": "code",
   "execution_count": null,
   "id": "mathematical-identity",
   "metadata": {
    "ExecuteTime": {
     "end_time": "2021-04-06T12:05:19.245203Z",
     "start_time": "2021-04-06T12:05:18.988589Z"
    },
    "hidden": true,
    "scrolled": true
   },
   "outputs": [],
   "source": [
    "# filtrando dados do México\n",
    "\n",
    "f_shark.loc[(f_shark['ocean']=='MEXICO'), 'area'].value_counts()"
   ]
  },
  {
   "cell_type": "code",
   "execution_count": null,
   "id": "physical-dublin",
   "metadata": {
    "ExecuteTime": {
     "end_time": "2021-04-06T12:05:19.396232Z",
     "start_time": "2021-04-06T12:05:19.247197Z"
    },
    "hidden": true
   },
   "outputs": [],
   "source": [
    "# Filtrando os incidentes no lado Atlântico do México\n",
    "\n",
    "mex_atl = 'vera|quint|tamau|carib|taba|campe'\n",
    "\n",
    "filtro_mex_atl = (f_shark['area'].apply(lambda pais: True if re.search(mex_atl, str(pais).lower()) else False)) & (f_shark['country']=='MEXICO')\n",
    "f_shark.loc[filtro_mex_atl, 'ocean'] = 'ATLANTIC OCEAN'"
   ]
  },
  {
   "cell_type": "code",
   "execution_count": null,
   "id": "inside-delicious",
   "metadata": {
    "ExecuteTime": {
     "end_time": "2021-04-06T12:05:19.547440Z",
     "start_time": "2021-04-06T12:05:19.398226Z"
    },
    "hidden": true
   },
   "outputs": [],
   "source": [
    "# Preenchendo os outros incidentes do México com Pacífico\n",
    "\n",
    "f_shark.loc[(f_shark['country']=='MEXICO') & (f_shark['ocean'] != 'ATLANTIC OCEAN'), 'ocean'] = 'PACIFIC OCEAN'"
   ]
  },
  {
   "cell_type": "markdown",
   "id": "aware-covering",
   "metadata": {
    "hidden": true
   },
   "source": [
    "###  Tratamento dados da Espanha"
   ]
  },
  {
   "cell_type": "markdown",
   "id": "declared-durham",
   "metadata": {
    "heading_collapsed": true,
    "hidden": true
   },
   "source": [
    "###  Tratamento dados do Panamá"
   ]
  },
  {
   "cell_type": "code",
   "execution_count": null,
   "id": "alive-scottish",
   "metadata": {
    "ExecuteTime": {
     "end_time": "2021-04-06T12:05:19.662483Z",
     "start_time": "2021-04-06T12:05:19.550431Z"
    },
    "hidden": true
   },
   "outputs": [],
   "source": [
    "# Filtrando os incidentes no lado Pacífico do Panamá\n",
    "\n",
    "pnm_pcf = 'gulf'\n",
    "\n",
    "filtro_pnm_pcf = (f_shark['area'].apply(lambda pais: True if re.search(pnm_pcf, str(pais).lower()) else False)) & (f_shark['country']=='PANAMA')\n",
    "f_shark.loc[filtro_pnm_pcf, 'area'] = 'PACIFIC OCEAN'"
   ]
  },
  {
   "cell_type": "code",
   "execution_count": null,
   "id": "tracked-temple",
   "metadata": {
    "ExecuteTime": {
     "end_time": "2021-04-06T12:05:19.761250Z",
     "start_time": "2021-04-06T12:05:19.665475Z"
    },
    "hidden": true
   },
   "outputs": [],
   "source": [
    "# Preenchendo os outros incidentes do Panamá com Atlântico\n",
    "\n",
    "f_shark.loc[(f_shark['country']=='PANAMA') & (f_shark['ocean'] != 'PACIFIC OCEAN'), 'ocean'] = 'ATLANTIC OCEAN'"
   ]
  },
  {
   "cell_type": "markdown",
   "id": "integral-crisis",
   "metadata": {
    "hidden": true
   },
   "source": [
    "###  Verificação"
   ]
  },
  {
   "cell_type": "code",
   "execution_count": null,
   "id": "rapid-verification",
   "metadata": {
    "ExecuteTime": {
     "end_time": "2021-04-06T12:05:19.901705Z",
     "start_time": "2021-04-06T12:05:19.764210Z"
    },
    "hidden": true
   },
   "outputs": [],
   "source": [
    "# verificando \n",
    "\n",
    "paises = sorted(list(f_shark['ocean'].value_counts().index))\n",
    "print(paises)"
   ]
  },
  {
   "cell_type": "code",
   "execution_count": null,
   "id": "level-string",
   "metadata": {
    "ExecuteTime": {
     "end_time": "2021-04-06T12:05:20.034794Z",
     "start_time": "2021-04-06T12:05:19.903662Z"
    },
    "hidden": true
   },
   "outputs": [],
   "source": [
    "# verificando linhas sem nenhuma informação do local\n",
    "\n",
    "f_shark.loc[f_shark['ocean'].isnull(), :].shape"
   ]
  },
  {
   "cell_type": "code",
   "execution_count": null,
   "id": "funky-indonesian",
   "metadata": {
    "ExecuteTime": {
     "end_time": "2021-04-06T13:12:09.405144Z",
     "start_time": "2021-04-06T13:12:09.398162Z"
    },
    "hidden": true
   },
   "outputs": [],
   "source": [
    "f_shark['ocean'].value_counts()"
   ]
  },
  {
   "cell_type": "markdown",
   "id": "radio-nirvana",
   "metadata": {
    "heading_collapsed": true
   },
   "source": [
    "## Tratamento de mês"
   ]
  },
  {
   "cell_type": "markdown",
   "id": "later-winning",
   "metadata": {
    "hidden": true
   },
   "source": [
    "def class_per(data):\n",
    "    '''\n",
    "    '''\n",
    "    pad_mes = 'jan|feb|mar|apr|may|jun|jul|aug|sep|oct|nov|dec'\n",
    "    pad_est = 'fall|summer|winter|spring'\n",
    "    \n",
    "    if re.search(pad_mes, data.lower):\n",
    "        per = \n",
    "        return re.findall(pad_)"
   ]
  },
  {
   "cell_type": "code",
   "execution_count": null,
   "id": "constitutional-proxy",
   "metadata": {
    "ExecuteTime": {
     "end_time": "2021-04-06T12:05:20.365532Z",
     "start_time": "2021-04-06T12:05:20.236953Z"
    },
    "hidden": true
   },
   "outputs": [],
   "source": [
    "pat_month = 'jan|feb|mar|ap[r]?|may|jun|jul|aug|sep|oct|nov|dec|fall|summer|winter|spring'\n",
    "\n",
    "f_shark['month'] = f_shark['date'].apply(lambda date: re.findall(pat_month, date.lower())[0] if re.search(pat_month, date.lower()) else 0)"
   ]
  },
  {
   "cell_type": "code",
   "execution_count": null,
   "id": "color-arrest",
   "metadata": {
    "ExecuteTime": {
     "end_time": "2021-04-06T12:05:20.451156Z",
     "start_time": "2021-04-06T12:05:20.367524Z"
    },
    "hidden": true
   },
   "outputs": [],
   "source": [
    "f_shark['month'].value_counts()"
   ]
  },
  {
   "cell_type": "code",
   "execution_count": null,
   "id": "exact-fellow",
   "metadata": {
    "ExecuteTime": {
     "end_time": "2021-04-06T12:05:20.573862Z",
     "start_time": "2021-04-06T12:05:20.452153Z"
    },
    "hidden": true
   },
   "outputs": [],
   "source": [
    "f_shark['month'] = f_shark['date'].apply(lambda date: re.sub('\\d{4}', '', date))"
   ]
  },
  {
   "cell_type": "code",
   "execution_count": null,
   "id": "ancient-underground",
   "metadata": {
    "ExecuteTime": {
     "end_time": "2021-04-06T12:05:20.753527Z",
     "start_time": "2021-04-06T12:05:20.575829Z"
    },
    "hidden": true
   },
   "outputs": [],
   "source": [
    "f_shark['month']"
   ]
  },
  {
   "cell_type": "code",
   "execution_count": null,
   "id": "sufficient-tracker",
   "metadata": {
    "ExecuteTime": {
     "end_time": "2021-04-06T12:05:20.876085Z",
     "start_time": "2021-04-06T12:05:20.758523Z"
    },
    "hidden": true
   },
   "outputs": [],
   "source": [
    "f_shark.loc[f_shark['month']== 0, 'date'].apply(lambda date: re.findall('\\.(\\d{2})\\.', date))"
   ]
  },
  {
   "cell_type": "code",
   "execution_count": null,
   "id": "adult-grounds",
   "metadata": {
    "ExecuteTime": {
     "end_time": "2021-04-06T12:05:20.973495Z",
     "start_time": "2021-04-06T12:05:20.878065Z"
    },
    "hidden": true
   },
   "outputs": [],
   "source": [
    "f_shark.loc[f_shark['month']==0, 'date'].apply(lambda date: re.sub('\\d{4}', '', date)).value_counts()"
   ]
  },
  {
   "cell_type": "markdown",
   "id": "atlantic-transmission",
   "metadata": {},
   "source": [
    "## Tratamento de gênero"
   ]
  },
  {
   "cell_type": "code",
   "execution_count": null,
   "id": "proper-convert",
   "metadata": {
    "ExecuteTime": {
     "end_time": "2021-04-06T12:05:21.080336Z",
     "start_time": "2021-04-06T12:05:20.974493Z"
    }
   },
   "outputs": [],
   "source": [
    "# verificando coluna de gênero\n",
    "\n",
    "f_shark['sex'].value_counts()"
   ]
  },
  {
   "cell_type": "code",
   "execution_count": null,
   "id": "reliable-disclaimer",
   "metadata": {
    "ExecuteTime": {
     "end_time": "2021-04-06T12:05:21.186878Z",
     "start_time": "2021-04-06T12:05:21.085313Z"
    }
   },
   "outputs": [],
   "source": [
    "# verificando linhas que não possuem nem informação de gênero e nem de nome\n",
    "\n",
    "f_shark.loc[(f_shark['sex'].isnull()) & (f_shark['name'].isnull()), :]"
   ]
  },
  {
   "cell_type": "code",
   "execution_count": null,
   "id": "cooked-acceptance",
   "metadata": {
    "ExecuteTime": {
     "end_time": "2021-04-06T12:05:21.297605Z",
     "start_time": "2021-04-06T12:05:21.187846Z"
    }
   },
   "outputs": [],
   "source": [
    "# verificando se há informações de incidentes com mulheres nos registros com coluna de gênero nula e substituindo\n",
    "\n",
    "filtro_fem = f_shark.loc[(f_shark['sex'].isnull()) & ~(f_shark['name'].isnull()), 'name'].apply(lambda name: True if re.search('wom[ae]n', str(name)) else False)\n",
    "\n",
    "f_shark.loc[(f_shark['sex'].isnull()) & ~(f_shark['name'].isnull()) & filtro_fem, 'sex'] = 'F'"
   ]
  },
  {
   "cell_type": "code",
   "execution_count": null,
   "id": "formal-fifteen",
   "metadata": {
    "ExecuteTime": {
     "end_time": "2021-04-06T12:05:21.378701Z",
     "start_time": "2021-04-06T12:05:21.298601Z"
    }
   },
   "outputs": [],
   "source": [
    "# ajustando valores da coluna de gênero\n",
    "\n",
    "f_shark.loc[(f_shark['sex'] != 'M') & (f_shark['sex'] != 'F') & ~(f_shark['sex'].isnull()), 'sex'] = 'M'"
   ]
  },
  {
   "cell_type": "code",
   "execution_count": null,
   "id": "sudden-stadium",
   "metadata": {
    "ExecuteTime": {
     "end_time": "2021-04-06T12:05:21.582640Z",
     "start_time": "2021-04-06T12:05:21.489636Z"
    }
   },
   "outputs": [],
   "source": [
    "f_shark['sex'].value_counts()"
   ]
  },
  {
   "cell_type": "markdown",
   "id": "religious-there",
   "metadata": {
    "heading_collapsed": true
   },
   "source": [
    "## Tratamento de fatalidade"
   ]
  },
  {
   "cell_type": "code",
   "execution_count": null,
   "id": "desirable-command",
   "metadata": {
    "ExecuteTime": {
     "end_time": "2021-04-06T12:05:21.690548Z",
     "start_time": "2021-04-06T12:05:21.583637Z"
    },
    "hidden": true
   },
   "outputs": [],
   "source": [
    "f_shark['fatal'].value_counts()"
   ]
  },
  {
   "cell_type": "code",
   "execution_count": null,
   "id": "compatible-haven",
   "metadata": {
    "ExecuteTime": {
     "end_time": "2021-04-06T12:05:21.807641Z",
     "start_time": "2021-04-06T12:05:21.691573Z"
    },
    "hidden": true
   },
   "outputs": [],
   "source": [
    "# verificando dados que não tem informação de fatalidade e nem de ferimentos\n",
    "\n",
    "f_shark.loc[(f_shark['injury'].isnull()) & (f_shark['fatal'].isnull()), :]"
   ]
  },
  {
   "cell_type": "code",
   "execution_count": null,
   "id": "naval-canal",
   "metadata": {
    "ExecuteTime": {
     "end_time": "2021-04-06T12:05:21.907436Z",
     "start_time": "2021-04-06T12:05:21.809637Z"
    },
    "hidden": true
   },
   "outputs": [],
   "source": [
    "# verificando dados de fatalidade que podem ser preenchidos com informações de 'injury'\n",
    "\n",
    "f_shark.loc[~(f_shark['injury'].isnull()) & (f_shark['fatal'].isnull()), :]"
   ]
  },
  {
   "cell_type": "code",
   "execution_count": null,
   "id": "genuine-produce",
   "metadata": {
    "ExecuteTime": {
     "end_time": "2021-04-06T12:05:22.008845Z",
     "start_time": "2021-04-06T12:05:21.908437Z"
    },
    "hidden": true
   },
   "outputs": [],
   "source": [
    "# substituindo dados de fatalidade nulos por indicativos de fatalidade indentificados em 'injury'\n",
    "\n",
    "fatal_cond = 'fatal|death|mortem|dead|drown'\n",
    "\n",
    "f_shark.loc[f_shark['fatal'].isnull(), 'fatal'] = f_shark.loc[f_shark['fatal'].isnull(), 'injury'].apply(lambda desc: 'Y' if re.search(fatal_cond, str(desc).lower()) else None)\n",
    "f_shark.loc[f_shark['fatal'].isnull(), 'fatal'] = f_shark.loc[f_shark['fatal'].isnull(), 'species'].apply(lambda desc: 'Y' if re.search('death', str(desc).lower()) else None)"
   ]
  },
  {
   "cell_type": "code",
   "execution_count": null,
   "id": "comfortable-breach",
   "metadata": {
    "ExecuteTime": {
     "end_time": "2021-04-06T12:05:22.095276Z",
     "start_time": "2021-04-06T12:05:22.010721Z"
    },
    "hidden": true
   },
   "outputs": [],
   "source": [
    "# substituindo dados de fatalidade nulos por indicativos de não-fatalidade identificados em 'injury'\n",
    "\n",
    "non_fatal_cond = 'no injury'\n",
    "\n",
    "f_shark.loc[f_shark['fatal'].isnull(), 'fatal'] = f_shark.loc[f_shark['fatal'].isnull(), 'injury'].apply(lambda desc: 'N' if re.search(non_fatal_cond, str(desc).lower()) else None)"
   ]
  },
  {
   "cell_type": "code",
   "execution_count": null,
   "id": "beautiful-pricing",
   "metadata": {
    "ExecuteTime": {
     "end_time": "2021-04-06T12:05:22.193443Z",
     "start_time": "2021-04-06T12:05:22.098216Z"
    },
    "hidden": true
   },
   "outputs": [],
   "source": [
    "# verificando dados após tratamento inicial\n",
    "\n",
    "f_shark['fatal'].value_counts()"
   ]
  },
  {
   "cell_type": "code",
   "execution_count": null,
   "id": "front-sphere",
   "metadata": {
    "ExecuteTime": {
     "end_time": "2021-04-06T13:10:41.425102Z",
     "start_time": "2021-04-06T13:10:41.418091Z"
    },
    "hidden": true
   },
   "outputs": [],
   "source": [
    "# ajustando preenchimento de fatalidades e completando valores nulos com a moda\n",
    "\n",
    "f_shark.loc[(f_shark['fatal']=='y'), 'fatal'] = 'Y'\n",
    "f_shark.loc[(f_shark['fatal'] != 'Y') & (f_shark['fatal'] != 'N'), 'fatal'] = f_shark['fatal'].mode()"
   ]
  },
  {
   "cell_type": "code",
   "execution_count": null,
   "id": "constant-dragon",
   "metadata": {
    "ExecuteTime": {
     "end_time": "2021-04-06T13:17:23.206308Z",
     "start_time": "2021-04-06T13:17:23.199318Z"
    },
    "hidden": true
   },
   "outputs": [],
   "source": [
    "# verificando dados pós-tratamento\n",
    "\n",
    "f_shark['fatal'].value_counts()"
   ]
  },
  {
   "cell_type": "markdown",
   "id": "fewer-nancy",
   "metadata": {},
   "source": [
    "##  Pós-tratamento de colunas que permaneceram vazias"
   ]
  },
  {
   "cell_type": "code",
   "execution_count": null,
   "id": "literary-ireland",
   "metadata": {
    "ExecuteTime": {
     "end_time": "2021-04-06T13:21:28.103670Z",
     "start_time": "2021-04-06T13:21:28.094690Z"
    }
   },
   "outputs": [],
   "source": [
    "# preenchendo campos nulos com o valor que mais aparece\n",
    "\n",
    "f_shark.loc[f_shark['country'].isnull(), 'country'] = f_shark['country'].mode()"
   ]
  },
  {
   "cell_type": "code",
   "execution_count": null,
   "id": "sunset-collection",
   "metadata": {
    "ExecuteTime": {
     "end_time": "2021-04-06T13:21:51.504221Z",
     "start_time": "2021-04-06T13:21:51.484260Z"
    }
   },
   "outputs": [],
   "source": [
    "# completando dados remanescentes de oceano com valor da moda\n",
    "\n",
    "resto = 'ATLANTIC OCEAN|PACIFIC OCEAN|INDIAN OCEAN'\n",
    "\n",
    "filtro_resto = f_shark['ocean'].apply(lambda oceano: False if re.search(resto, str(oceano).upper()) else True)\n",
    "f_shark.loc[filtro_resto, 'ocean'] = f_shark['ocean'].mode()"
   ]
  },
  {
   "cell_type": "code",
   "execution_count": null,
   "id": "advised-begin",
   "metadata": {
    "ExecuteTime": {
     "end_time": "2021-04-06T13:21:14.907699Z",
     "start_time": "2021-04-06T13:21:14.900753Z"
    }
   },
   "outputs": [],
   "source": [
    "# preenchendo valores de gênero vazios com a moda\n",
    "\n",
    "f_shark.loc[(f_shark['sex'].isnull()), 'sex'] = f_shark['sex'].mode()"
   ]
  },
  {
   "cell_type": "markdown",
   "id": "changing-craps",
   "metadata": {},
   "source": [
    "##  Buscando correlações"
   ]
  },
  {
   "cell_type": "code",
   "execution_count": null,
   "id": "excess-rebel",
   "metadata": {
    "ExecuteTime": {
     "end_time": "2021-04-06T12:21:08.279924Z",
     "start_time": "2021-04-06T12:21:08.274950Z"
    }
   },
   "outputs": [],
   "source": [
    "f_shark.shape"
   ]
  },
  {
   "cell_type": "code",
   "execution_count": null,
   "id": "genuine-owner",
   "metadata": {
    "ExecuteTime": {
     "end_time": "2021-04-06T12:21:27.041973Z",
     "start_time": "2021-04-06T12:21:27.034990Z"
    }
   },
   "outputs": [],
   "source": [
    "f_shark.loc[(f_shark['year']>1970), 'fatal'].shape"
   ]
  },
  {
   "cell_type": "code",
   "execution_count": null,
   "id": "remarkable-stereo",
   "metadata": {
    "ExecuteTime": {
     "end_time": "2021-04-06T12:22:04.296852Z",
     "start_time": "2021-04-06T12:22:04.280872Z"
    }
   },
   "outputs": [],
   "source": [
    "f_shark.loc[(f_shark['fatal']=='N'), ['sex', 'ocean']].value_counts()"
   ]
  },
  {
   "cell_type": "code",
   "execution_count": null,
   "id": "corrected-renaissance",
   "metadata": {
    "ExecuteTime": {
     "end_time": "2021-04-06T12:22:05.592950Z",
     "start_time": "2021-04-06T12:22:05.579961Z"
    }
   },
   "outputs": [],
   "source": [
    "f_shark.loc[(f_shark['fatal']=='Y'), ['sex', 'ocean']].value_counts()"
   ]
  }
 ],
 "metadata": {
  "kernelspec": {
   "display_name": "Python 3",
   "language": "python",
   "name": "python3"
  },
  "language_info": {
   "codemirror_mode": {
    "name": "ipython",
    "version": 3
   },
   "file_extension": ".py",
   "mimetype": "text/x-python",
   "name": "python",
   "nbconvert_exporter": "python",
   "pygments_lexer": "ipython3",
   "version": "3.8.8"
  },
  "toc": {
   "base_numbering": 1,
   "nav_menu": {},
   "number_sections": true,
   "sideBar": true,
   "skip_h1_title": false,
   "title_cell": "Table of Contents",
   "title_sidebar": "Contents",
   "toc_cell": false,
   "toc_position": {},
   "toc_section_display": true,
   "toc_window_display": false
  },
  "varInspector": {
   "cols": {
    "lenName": 16,
    "lenType": 16,
    "lenVar": 40
   },
   "kernels_config": {
    "python": {
     "delete_cmd_postfix": "",
     "delete_cmd_prefix": "del ",
     "library": "var_list.py",
     "varRefreshCmd": "print(var_dic_list())"
    },
    "r": {
     "delete_cmd_postfix": ") ",
     "delete_cmd_prefix": "rm(",
     "library": "var_list.r",
     "varRefreshCmd": "cat(var_dic_list()) "
    }
   },
   "position": {
    "height": "243.4px",
    "left": "923.2px",
    "right": "20px",
    "top": "59px",
    "width": "589px"
   },
   "types_to_exclude": [
    "module",
    "function",
    "builtin_function_or_method",
    "instance",
    "_Feature"
   ],
   "window_display": false
  }
 },
 "nbformat": 4,
 "nbformat_minor": 5
}
