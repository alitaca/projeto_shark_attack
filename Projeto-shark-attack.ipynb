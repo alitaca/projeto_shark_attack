{
 "cells": [
  {
   "cell_type": "markdown",
   "id": "disturbed-number",
   "metadata": {},
   "source": []
  },
  {
   "cell_type": "markdown",
   "id": "focused-warehouse",
   "metadata": {},
   "source": [
    "## Importação de bibliotecas e dados externos"
   ]
  },
  {
   "cell_type": "code",
   "execution_count": null,
   "id": "generic-congress",
   "metadata": {
    "ExecuteTime": {
     "end_time": "2021-04-05T20:47:18.824798Z",
     "start_time": "2021-04-05T20:47:16.526715Z"
    }
   },
   "outputs": [],
   "source": [
    "import pandas as pd\n",
    "import numpy as np\n",
    "import re"
   ]
  },
  {
   "cell_type": "code",
   "execution_count": null,
   "id": "frank-sunday",
   "metadata": {
    "ExecuteTime": {
     "end_time": "2021-04-05T20:47:36.259084Z",
     "start_time": "2021-04-05T20:47:36.048439Z"
    }
   },
   "outputs": [],
   "source": [
    "shark_attack = pd.read_csv('archive.zip', compression='zip', encoding='ansi')\n",
    "shark_attack.tail()"
   ]
  },
  {
   "cell_type": "markdown",
   "id": "private-briefing",
   "metadata": {},
   "source": [
    "### Verificando DataFrame"
   ]
  },
  {
   "cell_type": "code",
   "execution_count": null,
   "id": "distant-heart",
   "metadata": {
    "ExecuteTime": {
     "end_time": "2021-04-05T20:54:37.830137Z",
     "start_time": "2021-04-05T20:54:37.784256Z"
    }
   },
   "outputs": [],
   "source": [
    "shark_attack.info()"
   ]
  },
  {
   "cell_type": "code",
   "execution_count": null,
   "id": "nominated-footage",
   "metadata": {
    "ExecuteTime": {
     "end_time": "2021-04-05T14:56:38.075127Z",
     "start_time": "2021-04-05T14:56:38.072127Z"
    }
   },
   "outputs": [],
   "source": [
    "# aumentando a quantidade de colunas do dataframe a serem visualizadas\n",
    "\n",
    "pd.options.display.max_columns = 25"
   ]
  },
  {
   "cell_type": "code",
   "execution_count": null,
   "id": "unlikely-prophet",
   "metadata": {
    "ExecuteTime": {
     "end_time": "2021-04-05T20:54:48.639897Z",
     "start_time": "2021-04-05T20:54:48.630893Z"
    }
   },
   "outputs": [],
   "source": [
    "# descobrindo erros nos nomes das colunas\n",
    "\n",
    "shark_attack.columns"
   ]
  },
  {
   "cell_type": "markdown",
   "id": "affiliated-mortgage",
   "metadata": {},
   "source": [
    "##  Tratamento de linhas nulas"
   ]
  },
  {
   "cell_type": "code",
   "execution_count": null,
   "id": "musical-listening",
   "metadata": {
    "ExecuteTime": {
     "end_time": "2021-04-05T20:47:47.450303Z",
     "start_time": "2021-04-05T20:47:46.552504Z"
    }
   },
   "outputs": [],
   "source": [
    "# criando uma coluna com a contagem de nulos em cada linha\n",
    "\n",
    "shark_attack['Vazio'] = shark_attack.T.isnull().sum()"
   ]
  },
  {
   "cell_type": "code",
   "execution_count": null,
   "id": "imperial-microphone",
   "metadata": {
    "ExecuteTime": {
     "end_time": "2021-04-05T14:56:38.738089Z",
     "start_time": "2021-04-05T14:56:38.705185Z"
    }
   },
   "outputs": [],
   "source": [
    "shark_attack.head()"
   ]
  },
  {
   "cell_type": "code",
   "execution_count": null,
   "id": "separated-python",
   "metadata": {
    "ExecuteTime": {
     "end_time": "2021-04-05T14:56:41.162094Z",
     "start_time": "2021-04-05T14:56:41.151123Z"
    }
   },
   "outputs": [],
   "source": [
    "shark_attack['Vazio'].value_counts()"
   ]
  },
  {
   "cell_type": "code",
   "execution_count": null,
   "id": "serial-display",
   "metadata": {
    "ExecuteTime": {
     "end_time": "2021-04-05T21:03:19.184015Z",
     "start_time": "2021-04-05T21:03:19.162098Z"
    }
   },
   "outputs": [],
   "source": [
    "# criando um dataframe com todas as linhas que possuem menos de 20 colunas vazias\n",
    "\n",
    "f_shark = shark_attack.drop(shark_attack[shark_attack['Vazio'] > 20].index)"
   ]
  },
  {
   "cell_type": "code",
   "execution_count": null,
   "id": "compound-postage",
   "metadata": {
    "ExecuteTime": {
     "end_time": "2021-04-05T21:03:21.474534Z",
     "start_time": "2021-04-05T21:03:21.454552Z"
    }
   },
   "outputs": [],
   "source": [
    "# verificando a quantidade de linhas x colunas vazias\n",
    "\n",
    "f_shark['Vazio'].value_counts()"
   ]
  },
  {
   "cell_type": "markdown",
   "id": "apparent-institute",
   "metadata": {},
   "source": [
    "##  Escolha de colunas relevantes"
   ]
  },
  {
   "cell_type": "code",
   "execution_count": null,
   "id": "fifteen-farming",
   "metadata": {
    "ExecuteTime": {
     "end_time": "2021-04-05T19:28:38.574860Z",
     "start_time": "2021-04-05T19:28:38.564870Z"
    }
   },
   "outputs": [],
   "source": [
    "f_shark['Unnamed: 23'].value_counts()"
   ]
  },
  {
   "cell_type": "code",
   "execution_count": null,
   "id": "transsexual-rally",
   "metadata": {
    "ExecuteTime": {
     "end_time": "2021-04-05T19:28:40.666390Z",
     "start_time": "2021-04-05T19:28:40.643416Z"
    }
   },
   "outputs": [],
   "source": [
    "f_shark.loc[~f_shark['Unnamed: 23'].isnull(), :]"
   ]
  },
  {
   "cell_type": "code",
   "execution_count": null,
   "id": "recorded-lottery",
   "metadata": {
    "ExecuteTime": {
     "end_time": "2021-04-05T21:05:03.124666Z",
     "start_time": "2021-04-05T21:05:03.100733Z"
    }
   },
   "outputs": [],
   "source": [
    "# escolhendo as colunas relevantes\n",
    "\n",
    "f_shark = f_shark[['Date', 'Year', 'Type', 'Country', 'Area', 'Location', 'Activity', 'Name', 'Sex ', 'Age', 'Injury',\n",
    "             'Fatal (Y/N)', 'Time', 'Species ']]"
   ]
  },
  {
   "cell_type": "code",
   "execution_count": null,
   "id": "acting-honduras",
   "metadata": {
    "ExecuteTime": {
     "end_time": "2021-04-05T21:05:06.116674Z",
     "start_time": "2021-04-05T21:05:06.097727Z"
    }
   },
   "outputs": [],
   "source": [
    "# renomeando as colunas\n",
    "\n",
    "f_shark.columns = ['date', 'year', 'type', 'country', 'area', 'location', 'activity', 'name', 'sex', 'age', 'injury',\n",
    "                 'fatal', 'time', 'species']"
   ]
  },
  {
   "cell_type": "code",
   "execution_count": null,
   "id": "hired-burns",
   "metadata": {
    "ExecuteTime": {
     "end_time": "2021-04-05T19:28:50.628070Z",
     "start_time": "2021-04-05T19:28:50.609107Z"
    }
   },
   "outputs": [],
   "source": [
    "f_shark.tail()"
   ]
  },
  {
   "cell_type": "markdown",
   "id": "velvet-uniform",
   "metadata": {},
   "source": [
    "## Tratamento de ano"
   ]
  },
  {
   "cell_type": "code",
   "execution_count": null,
   "id": "varied-impression",
   "metadata": {
    "ExecuteTime": {
     "end_time": "2021-04-05T21:12:22.772950Z",
     "start_time": "2021-04-05T21:12:22.760980Z"
    }
   },
   "outputs": [],
   "source": [
    "# verificando linhas cujo ano pode ser completado com informação da coluna de data\n",
    "\n",
    "f_shark.loc[~(f_shark['date']).isnull() & (f_shark['year'].isnull()), 'date']"
   ]
  },
  {
   "cell_type": "code",
   "execution_count": null,
   "id": "authorized-hundred",
   "metadata": {
    "ExecuteTime": {
     "end_time": "2021-04-05T21:13:13.704338Z",
     "start_time": "2021-04-05T21:13:13.683388Z"
    }
   },
   "outputs": [],
   "source": [
    "# preenchendo valor de ano com informação de data\n",
    "\n",
    "f_shark.loc[~(f_shark['date']).isnull() & (f_shark['year'].isnull()), 'year'] = f_shark.loc[~(f_shark['date']).isnull() & (f_shark['year'].isnull()), 'date'].str.slice(start=-4)"
   ]
  },
  {
   "cell_type": "code",
   "execution_count": null,
   "id": "satisfied-remark",
   "metadata": {
    "ExecuteTime": {
     "end_time": "2021-04-05T21:13:15.086148Z",
     "start_time": "2021-04-05T21:13:15.066758Z"
    }
   },
   "outputs": [],
   "source": [
    "f_shark.loc[~(f_shark['date']).isnull() & (f_shark['year'].isnull()), 'date']"
   ]
  },
  {
   "cell_type": "code",
   "execution_count": null,
   "id": "promising-diabetes",
   "metadata": {
    "ExecuteTime": {
     "end_time": "2021-04-05T21:13:48.771019Z",
     "start_time": "2021-04-05T21:13:48.756059Z"
    }
   },
   "outputs": [],
   "source": [
    "# transformando coluna ano em inteiros\n",
    "\n",
    "f_shark['year'] = f_shark['year'].astype(int)"
   ]
  },
  {
   "cell_type": "code",
   "execution_count": null,
   "id": "correct-maker",
   "metadata": {
    "ExecuteTime": {
     "end_time": "2021-04-05T21:13:50.711748Z",
     "start_time": "2021-04-05T21:13:50.691793Z"
    }
   },
   "outputs": [],
   "source": [
    "f_shark.info()"
   ]
  },
  {
   "cell_type": "markdown",
   "id": "certified-experiment",
   "metadata": {},
   "source": [
    "## Tratamento de país"
   ]
  },
  {
   "cell_type": "code",
   "execution_count": null,
   "id": "appointed-drama",
   "metadata": {
    "ExecuteTime": {
     "end_time": "2021-04-05T21:06:25.519542Z",
     "start_time": "2021-04-05T21:06:25.498563Z"
    }
   },
   "outputs": [],
   "source": [
    "f_shark['country']"
   ]
  },
  {
   "cell_type": "code",
   "execution_count": null,
   "id": "decimal-transaction",
   "metadata": {
    "ExecuteTime": {
     "end_time": "2021-04-05T21:06:57.761818Z",
     "start_time": "2021-04-05T21:06:57.737383Z"
    }
   },
   "outputs": [],
   "source": [
    "# verificando linhas sem informação de país\n",
    "\n",
    "f_shark.loc[(f_shark['country'].isnull()) & (~(f_shark['area'].isnull()) | ~(f_shark['location'].isnull())), ['country', 'area', 'location']]"
   ]
  },
  {
   "cell_type": "code",
   "execution_count": null,
   "id": "fossil-monitor",
   "metadata": {
    "ExecuteTime": {
     "end_time": "2021-04-05T21:07:55.069392Z",
     "start_time": "2021-04-05T21:07:55.051932Z"
    }
   },
   "outputs": [],
   "source": [
    "# substituindo campos 'country' nulos por informações das colunas 'area' ou 'location'\n",
    "\n",
    "f_shark.loc[(f_shark['country'].isnull()) & ((f_shark['area']=='St Helena') | ~(f_shark['area'].isnull())), 'country'] = f_shark.loc[(f_shark['country'].isnull()) & ((f_shark['area']=='St Helena') | ~(f_shark['area'].isnull())), 'area']\n",
    "f_shark.loc[(f_shark['country'].isnull()) & ~(f_shark['location'].isnull()), 'country'] = f_shark.loc[(f_shark['country'].isnull()) & ~(f_shark['location'].isnull()), 'location']"
   ]
  },
  {
   "cell_type": "code",
   "execution_count": null,
   "id": "biological-cancellation",
   "metadata": {
    "ExecuteTime": {
     "end_time": "2021-04-05T21:08:24.672684Z",
     "start_time": "2021-04-05T21:08:24.649741Z"
    }
   },
   "outputs": [],
   "source": [
    "# ajustando nomes de paises\n",
    "\n",
    "f_shark['country'] = f_shark['country'].apply(lambda place: re.sub(' ?[\\/\\(].*', '', str(place)))\n",
    "f_shark['country'] = f_shark['country'].str.lstrip(' ')\n",
    "f_shark['country'] = f_shark['country'].str.rstrip('[ ?]')"
   ]
  },
  {
   "cell_type": "code",
   "execution_count": null,
   "id": "level-string",
   "metadata": {
    "ExecuteTime": {
     "end_time": "2021-04-05T21:15:25.852561Z",
     "start_time": "2021-04-05T21:15:25.832582Z"
    }
   },
   "outputs": [],
   "source": [
    "# verificando linhas sem nenhuma informação do local\n",
    "\n",
    "len(f_shark.loc[f_shark['country']=='nan', :])"
   ]
  },
  {
   "cell_type": "code",
   "execution_count": null,
   "id": "valuable-georgia",
   "metadata": {},
   "outputs": [],
   "source": [
    "def class_mar(pais):\n",
    "    '''\n",
    "    '''\n",
    "    atlantico = ['']\n",
    "    pacifico = ['hong kong', ]\n",
    "    indico = ['']\n",
    "    mediterraneo = ['']"
   ]
  },
  {
   "cell_type": "code",
   "execution_count": null,
   "id": "sustainable-system",
   "metadata": {},
   "outputs": [],
   "source": [
    "f_shark['sea'] = "
   ]
  },
  {
   "cell_type": "markdown",
   "id": "radio-nirvana",
   "metadata": {},
   "source": [
    "## Tratamento de mês"
   ]
  },
  {
   "cell_type": "code",
   "execution_count": null,
   "id": "accepted-retreat",
   "metadata": {},
   "outputs": [],
   "source": [
    "def class_per(data):\n",
    "    '''\n",
    "    '''\n",
    "    pad_mes = 'jan|feb|mar|apr|may|jun|jul|aug|sep|oct|nov|dec'\n",
    "    pad_est = 'fall|summer|winter|spring'\n",
    "    \n",
    "    if re.search(pad_mes, data.lower):\n",
    "        per = \n",
    "        return re.findall(pad_)"
   ]
  },
  {
   "cell_type": "code",
   "execution_count": null,
   "id": "constitutional-proxy",
   "metadata": {
    "ExecuteTime": {
     "end_time": "2021-04-05T18:49:16.530500Z",
     "start_time": "2021-04-05T18:49:16.508338Z"
    }
   },
   "outputs": [],
   "source": [
    "pat_month = 'jan|feb|mar|ap[r]?|may|jun|jul|aug|sep|oct|nov|dec|fall|summer|winter|spring'\n",
    "\n",
    "f_shark['month'] = f_shark['date'].apply(lambda date: re.findall(pat_month, date.lower())[0] if re.search(pat_month, date.lower()) else 0)"
   ]
  },
  {
   "cell_type": "code",
   "execution_count": null,
   "id": "color-arrest",
   "metadata": {
    "ExecuteTime": {
     "end_time": "2021-04-05T18:49:29.677729Z",
     "start_time": "2021-04-05T18:49:29.669751Z"
    }
   },
   "outputs": [],
   "source": [
    "f_shark['month'].value_counts()"
   ]
  },
  {
   "cell_type": "code",
   "execution_count": null,
   "id": "exact-fellow",
   "metadata": {
    "ExecuteTime": {
     "end_time": "2021-04-05T18:59:41.298886Z",
     "start_time": "2021-04-05T18:59:41.281928Z"
    }
   },
   "outputs": [],
   "source": [
    "f_shark['month'] = f_shark['date'].apply(lambda date: re.sub('\\d{4}', '', date))"
   ]
  },
  {
   "cell_type": "code",
   "execution_count": null,
   "id": "ancient-underground",
   "metadata": {
    "ExecuteTime": {
     "end_time": "2021-04-05T19:00:07.078643Z",
     "start_time": "2021-04-05T19:00:07.068644Z"
    }
   },
   "outputs": [],
   "source": [
    "f_shark['month']"
   ]
  },
  {
   "cell_type": "code",
   "execution_count": null,
   "id": "sufficient-tracker",
   "metadata": {
    "ExecuteTime": {
     "end_time": "2021-04-05T18:57:29.922933Z",
     "start_time": "2021-04-05T18:57:29.912959Z"
    }
   },
   "outputs": [],
   "source": [
    "f_shark.loc[f_shark['month']== 0, 'date'].apply(lambda date: re.findall('\\.(\\d{2})\\.', date))"
   ]
  },
  {
   "cell_type": "code",
   "execution_count": null,
   "id": "adult-grounds",
   "metadata": {
    "ExecuteTime": {
     "end_time": "2021-04-05T18:45:37.008227Z",
     "start_time": "2021-04-05T18:45:36.994263Z"
    }
   },
   "outputs": [],
   "source": [
    "f_shark.loc[f_shark['month']==0, 'date'].apply(lambda date: re.sub('\\d{4}', '', date)).value_counts()"
   ]
  },
  {
   "cell_type": "markdown",
   "id": "atlantic-transmission",
   "metadata": {},
   "source": [
    "## Tratamento de gênero"
   ]
  },
  {
   "cell_type": "code",
   "execution_count": null,
   "id": "formal-fifteen",
   "metadata": {
    "ExecuteTime": {
     "end_time": "2021-04-05T18:21:48.935348Z",
     "start_time": "2021-04-05T18:21:48.928368Z"
    }
   },
   "outputs": [],
   "source": [
    "f_shark.loc[(f_shark['sex'] != 'M') & (f_shark['sex'] != 'F') & ~(f_shark['sex'].isnull()), 'sex'] = 'M'"
   ]
  },
  {
   "cell_type": "code",
   "execution_count": null,
   "id": "cooked-acceptance",
   "metadata": {
    "ExecuteTime": {
     "end_time": "2021-04-05T18:23:04.093878Z",
     "start_time": "2021-04-05T18:23:04.077922Z"
    }
   },
   "outputs": [],
   "source": [
    "f_shark.loc[f_shark['sex'].isnull(), ['name', 'injury']]"
   ]
  },
  {
   "cell_type": "code",
   "execution_count": null,
   "id": "sudden-stadium",
   "metadata": {
    "ExecuteTime": {
     "end_time": "2021-04-05T18:21:50.605409Z",
     "start_time": "2021-04-05T18:21:50.600471Z"
    }
   },
   "outputs": [],
   "source": [
    "print(f_shark['sex'].value_counts().index)"
   ]
  },
  {
   "cell_type": "code",
   "execution_count": null,
   "id": "applied-carry",
   "metadata": {
    "ExecuteTime": {
     "end_time": "2021-04-05T00:26:45.882958Z",
     "start_time": "2021-04-05T00:26:45.684758Z"
    }
   },
   "outputs": [],
   "source": [
    "shark_attack[['Date', 'Year', 'Type', 'Country', 'Area', 'Location','Activity', 'Name', 'Sex ', 'Age', 'Injury',\n",
    "             'Fatal (Y/N)', 'Time', 'Species ']].loc[~(shark_attack['Name'].isnull())|~(shark_attack['Sex '].isnull()), :]"
   ]
  }
 ],
 "metadata": {
  "kernelspec": {
   "display_name": "Python 3",
   "language": "python",
   "name": "python3"
  },
  "language_info": {
   "codemirror_mode": {
    "name": "ipython",
    "version": 3
   },
   "file_extension": ".py",
   "mimetype": "text/x-python",
   "name": "python",
   "nbconvert_exporter": "python",
   "pygments_lexer": "ipython3",
   "version": "3.8.8"
  },
  "toc": {
   "base_numbering": 1,
   "nav_menu": {},
   "number_sections": true,
   "sideBar": true,
   "skip_h1_title": false,
   "title_cell": "Table of Contents",
   "title_sidebar": "Contents",
   "toc_cell": false,
   "toc_position": {},
   "toc_section_display": true,
   "toc_window_display": false
  },
  "varInspector": {
   "cols": {
    "lenName": 16,
    "lenType": 16,
    "lenVar": 40
   },
   "kernels_config": {
    "python": {
     "delete_cmd_postfix": "",
     "delete_cmd_prefix": "del ",
     "library": "var_list.py",
     "varRefreshCmd": "print(var_dic_list())"
    },
    "r": {
     "delete_cmd_postfix": ") ",
     "delete_cmd_prefix": "rm(",
     "library": "var_list.r",
     "varRefreshCmd": "cat(var_dic_list()) "
    }
   },
   "position": {
    "height": "243.4px",
    "left": "923.2px",
    "right": "20px",
    "top": "59px",
    "width": "589px"
   },
   "types_to_exclude": [
    "module",
    "function",
    "builtin_function_or_method",
    "instance",
    "_Feature"
   ],
   "window_display": false
  }
 },
 "nbformat": 4,
 "nbformat_minor": 5
}
