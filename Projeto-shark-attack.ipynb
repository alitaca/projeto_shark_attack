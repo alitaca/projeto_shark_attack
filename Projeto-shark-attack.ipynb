{
 "cells": [
  {
   "cell_type": "markdown",
   "id": "disturbed-number",
   "metadata": {},
   "source": [
    "# Projeto: Shark Attack\n",
    "\n",
    "Objetivos:\n",
    "- Descobrir se há alguma indícios de perigosidade de algum dos oceanos\n",
    "- Identificar quais informações são relevantes para este estudo\n",
    "- Identificar se há correlação entre os ataques de tubarões e/ou fatalidades e a região do ataque"
   ]
  },
  {
   "cell_type": "markdown",
   "id": "focused-warehouse",
   "metadata": {},
   "source": [
    "## Importação de bibliotecas e dados externos"
   ]
  },
  {
   "cell_type": "code",
   "execution_count": null,
   "id": "generic-congress",
   "metadata": {
    "ExecuteTime": {
     "end_time": "2021-04-06T18:32:39.944659Z",
     "start_time": "2021-04-06T18:32:39.252036Z"
    }
   },
   "outputs": [],
   "source": [
    "import pandas as pd\n",
    "import re\n",
    "from matplotlib import pyplot as plt"
   ]
  },
  {
   "cell_type": "code",
   "execution_count": null,
   "id": "frank-sunday",
   "metadata": {
    "ExecuteTime": {
     "end_time": "2021-04-06T18:32:40.104185Z",
     "start_time": "2021-04-06T18:32:39.946654Z"
    }
   },
   "outputs": [],
   "source": [
    "shark_attack = pd.read_csv('archive.zip', compression='zip', encoding='ansi')\n",
    "shark_attack.tail()"
   ]
  },
  {
   "cell_type": "markdown",
   "id": "private-briefing",
   "metadata": {},
   "source": [
    "### Verificando DataFrame"
   ]
  },
  {
   "cell_type": "code",
   "execution_count": null,
   "id": "distant-heart",
   "metadata": {
    "ExecuteTime": {
     "end_time": "2021-04-06T18:32:40.136095Z",
     "start_time": "2021-04-06T18:32:40.106175Z"
    }
   },
   "outputs": [],
   "source": [
    "shark_attack.info()"
   ]
  },
  {
   "cell_type": "code",
   "execution_count": null,
   "id": "nominated-footage",
   "metadata": {
    "ExecuteTime": {
     "end_time": "2021-04-06T18:32:40.214918Z",
     "start_time": "2021-04-06T18:32:40.138092Z"
    }
   },
   "outputs": [],
   "source": [
    "# aumentando a quantidade de colunas do dataframe a serem visualizadas\n",
    "\n",
    "pd.options.display.max_columns = 25"
   ]
  },
  {
   "cell_type": "code",
   "execution_count": null,
   "id": "unlikely-prophet",
   "metadata": {
    "ExecuteTime": {
     "end_time": "2021-04-06T18:32:40.293732Z",
     "start_time": "2021-04-06T18:32:40.216884Z"
    }
   },
   "outputs": [],
   "source": [
    "# descobrindo erros nos nomes das colunas\n",
    "\n",
    "shark_attack.columns"
   ]
  },
  {
   "cell_type": "markdown",
   "id": "affiliated-mortgage",
   "metadata": {},
   "source": [
    "##  Tratamento de linhas nulas"
   ]
  },
  {
   "cell_type": "code",
   "execution_count": null,
   "id": "musical-listening",
   "metadata": {
    "ExecuteTime": {
     "end_time": "2021-04-06T18:32:41.150604Z",
     "start_time": "2021-04-06T18:32:40.295724Z"
    }
   },
   "outputs": [],
   "source": [
    "# criando uma coluna com a contagem de nulos em cada linha\n",
    "\n",
    "shark_attack['Vazio'] = shark_attack.T.isnull().sum()"
   ]
  },
  {
   "cell_type": "code",
   "execution_count": null,
   "id": "imperial-microphone",
   "metadata": {
    "ExecuteTime": {
     "end_time": "2021-04-06T18:32:41.182403Z",
     "start_time": "2021-04-06T18:32:41.152452Z"
    }
   },
   "outputs": [],
   "source": [
    "shark_attack.head()"
   ]
  },
  {
   "cell_type": "code",
   "execution_count": null,
   "id": "separated-python",
   "metadata": {
    "ExecuteTime": {
     "end_time": "2021-04-06T18:32:41.259352Z",
     "start_time": "2021-04-06T18:32:41.184365Z"
    }
   },
   "outputs": [],
   "source": [
    "shark_attack['Vazio'].value_counts()"
   ]
  },
  {
   "cell_type": "code",
   "execution_count": null,
   "id": "serial-display",
   "metadata": {
    "ExecuteTime": {
     "end_time": "2021-04-06T18:32:41.355089Z",
     "start_time": "2021-04-06T18:32:41.263298Z"
    }
   },
   "outputs": [],
   "source": [
    "# criando um dataframe com todas as linhas que possuem menos de 20 colunas vazias\n",
    "\n",
    "f_shark = shark_attack.drop(shark_attack[shark_attack['Vazio'] > 20].index)"
   ]
  },
  {
   "cell_type": "code",
   "execution_count": null,
   "id": "compound-postage",
   "metadata": {
    "ExecuteTime": {
     "end_time": "2021-04-06T18:32:41.447572Z",
     "start_time": "2021-04-06T18:32:41.357047Z"
    }
   },
   "outputs": [],
   "source": [
    "# verificando a quantidade de linhas x colunas vazias\n",
    "\n",
    "f_shark['Vazio'].value_counts()"
   ]
  },
  {
   "cell_type": "markdown",
   "id": "apparent-institute",
   "metadata": {},
   "source": [
    "##  Escolha de colunas relevantes"
   ]
  },
  {
   "cell_type": "code",
   "execution_count": null,
   "id": "fifteen-farming",
   "metadata": {
    "ExecuteTime": {
     "end_time": "2021-04-06T18:32:41.543308Z",
     "start_time": "2021-04-06T18:32:41.449533Z"
    }
   },
   "outputs": [],
   "source": [
    "f_shark['Unnamed: 23'].value_counts()"
   ]
  },
  {
   "cell_type": "code",
   "execution_count": null,
   "id": "transsexual-rally",
   "metadata": {
    "ExecuteTime": {
     "end_time": "2021-04-06T18:32:41.639026Z",
     "start_time": "2021-04-06T18:32:41.545278Z"
    }
   },
   "outputs": [],
   "source": [
    "f_shark.loc[~f_shark['Unnamed: 23'].isnull(), :]"
   ]
  },
  {
   "cell_type": "code",
   "execution_count": null,
   "id": "recorded-lottery",
   "metadata": {
    "ExecuteTime": {
     "end_time": "2021-04-06T18:32:41.718814Z",
     "start_time": "2021-04-06T18:32:41.641021Z"
    }
   },
   "outputs": [],
   "source": [
    "# escolhendo as colunas relevantes\n",
    "\n",
    "f_shark = f_shark[['Date', 'Year', 'Type', 'Country', 'Area', 'Location', 'Activity', 'Name', 'Sex ', 'Injury',\n",
    "                   'Fatal (Y/N)', 'Species ']]"
   ]
  },
  {
   "cell_type": "code",
   "execution_count": null,
   "id": "acting-honduras",
   "metadata": {
    "ExecuteTime": {
     "end_time": "2021-04-06T18:32:41.798598Z",
     "start_time": "2021-04-06T18:32:41.720810Z"
    }
   },
   "outputs": [],
   "source": [
    "# renomeando as colunas\n",
    "\n",
    "f_shark.columns = ['date', 'year', 'type', 'country', 'area', 'location', 'activity', 'name', 'sex', 'injury',\n",
    "                 'fatal', 'species']"
   ]
  },
  {
   "cell_type": "code",
   "execution_count": null,
   "id": "hired-burns",
   "metadata": {
    "ExecuteTime": {
     "end_time": "2021-04-06T18:32:41.894348Z",
     "start_time": "2021-04-06T18:32:41.800595Z"
    }
   },
   "outputs": [],
   "source": [
    "f_shark.tail()"
   ]
  },
  {
   "cell_type": "markdown",
   "id": "velvet-uniform",
   "metadata": {},
   "source": [
    "## Tratamento de ano"
   ]
  },
  {
   "cell_type": "code",
   "execution_count": null,
   "id": "varied-impression",
   "metadata": {
    "ExecuteTime": {
     "end_time": "2021-04-06T18:32:41.989888Z",
     "start_time": "2021-04-06T18:32:41.895341Z"
    }
   },
   "outputs": [],
   "source": [
    "# verificando linhas cujo ano pode ser completado com informação da coluna de data\n",
    "\n",
    "f_shark.loc[~(f_shark['date']).isnull() & (f_shark['year'].isnull()), 'date']"
   ]
  },
  {
   "cell_type": "code",
   "execution_count": null,
   "id": "authorized-hundred",
   "metadata": {
    "ExecuteTime": {
     "end_time": "2021-04-06T18:32:42.069681Z",
     "start_time": "2021-04-06T18:32:41.991852Z"
    }
   },
   "outputs": [],
   "source": [
    "# preenchendo valor de ano com informação de data\n",
    "\n",
    "f_shark.loc[~(f_shark['date']).isnull() & (f_shark['year'].isnull()), 'year'] = f_shark.loc[~(f_shark['date']).isnull() & (f_shark['year'].isnull()), 'date'].str.slice(start=-4)"
   ]
  },
  {
   "cell_type": "code",
   "execution_count": null,
   "id": "associate-bulgaria",
   "metadata": {
    "ExecuteTime": {
     "end_time": "2021-04-06T18:32:42.165498Z",
     "start_time": "2021-04-06T18:32:42.071636Z"
    }
   },
   "outputs": [],
   "source": [
    "# verificando linhas cujo ano pode ser completado com informação da coluna de data\n",
    "\n",
    "f_shark.loc[~(f_shark['date']).isnull() & ((f_shark['year']==0) | (f_shark['year'].isnull())), 'date']"
   ]
  },
  {
   "cell_type": "code",
   "execution_count": null,
   "id": "sticky-electron",
   "metadata": {
    "ExecuteTime": {
     "end_time": "2021-04-06T18:32:42.260726Z",
     "start_time": "2021-04-06T18:32:42.167462Z"
    }
   },
   "outputs": [],
   "source": [
    "# substituindo zeros da coluna de anos com valores disponíveis na coluna data\n",
    "\n",
    "filtro_ano = f_shark.loc[(f_shark['year']==0), 'date'].apply(lambda data: True if re.search('\\d{3,}', str(data)) else False)\n",
    "f_shark.loc[(f_shark['year']==0) & filtro_ano, 'year'] = f_shark.loc[(f_shark['year']==0) & filtro_ano, 'date'].apply(lambda data: re.findall('\\d{3,}', str(data))[0])"
   ]
  },
  {
   "cell_type": "code",
   "execution_count": null,
   "id": "entitled-norwegian",
   "metadata": {
    "ExecuteTime": {
     "end_time": "2021-04-06T18:32:42.340056Z",
     "start_time": "2021-04-06T18:32:42.262721Z"
    }
   },
   "outputs": [],
   "source": [
    "# verificando dados após o tratamento\n",
    "\n",
    "f_shark['year'].isnull().sum()"
   ]
  },
  {
   "cell_type": "code",
   "execution_count": null,
   "id": "verified-bradford",
   "metadata": {
    "ExecuteTime": {
     "end_time": "2021-04-06T18:32:42.419837Z",
     "start_time": "2021-04-06T18:32:42.342014Z"
    }
   },
   "outputs": [],
   "source": [
    "# transformando coluna ano em inteiros\n",
    "\n",
    "f_shark['year'] = f_shark['year'].astype(int)"
   ]
  },
  {
   "cell_type": "markdown",
   "id": "sunrise-coverage",
   "metadata": {},
   "source": [
    "##  Tratamento de tipo de incidente"
   ]
  },
  {
   "cell_type": "code",
   "execution_count": null,
   "id": "spread-backup",
   "metadata": {
    "ExecuteTime": {
     "end_time": "2021-04-06T18:32:42.531569Z",
     "start_time": "2021-04-06T18:32:42.422827Z"
    }
   },
   "outputs": [],
   "source": [
    "f_shark['type'].value_counts()"
   ]
  },
  {
   "cell_type": "code",
   "execution_count": null,
   "id": "absent-maryland",
   "metadata": {
    "ExecuteTime": {
     "end_time": "2021-04-06T18:32:42.625532Z",
     "start_time": "2021-04-06T18:32:42.533533Z"
    }
   },
   "outputs": [],
   "source": [
    "# ajustando os valores de barcos\n",
    "\n",
    "boat = f_shark['type'].apply(lambda tipo: True if re.search('^boat', str(tipo).lower()) else False)\n",
    "f_shark.loc[boat, 'type'] = 'Boat'"
   ]
  },
  {
   "cell_type": "code",
   "execution_count": null,
   "id": "precious-universe",
   "metadata": {
    "ExecuteTime": {
     "end_time": "2021-04-06T18:32:42.720523Z",
     "start_time": "2021-04-06T18:32:42.627495Z"
    }
   },
   "outputs": [],
   "source": [
    "# agrupando valores\n",
    "\n",
    "f_shark.loc[f_shark['type']=='Sea Disaster', 'type'] = 'Unprovoked'\n",
    "f_shark.loc[f_shark['type']=='Questionable', 'type'] = 'Invalid'"
   ]
  },
  {
   "cell_type": "code",
   "execution_count": null,
   "id": "german-correction",
   "metadata": {
    "ExecuteTime": {
     "end_time": "2021-04-06T18:32:42.847716Z",
     "start_time": "2021-04-06T18:32:42.722518Z"
    }
   },
   "outputs": [],
   "source": [
    "# verificando dados tratados\n",
    "\n",
    "f_shark['type'].value_counts()"
   ]
  },
  {
   "cell_type": "markdown",
   "id": "certified-experiment",
   "metadata": {},
   "source": [
    "## Tratamento de país"
   ]
  },
  {
   "cell_type": "code",
   "execution_count": null,
   "id": "appointed-drama",
   "metadata": {
    "ExecuteTime": {
     "end_time": "2021-04-06T18:32:42.942439Z",
     "start_time": "2021-04-06T18:32:42.849685Z"
    }
   },
   "outputs": [],
   "source": [
    "f_shark['country']"
   ]
  },
  {
   "cell_type": "code",
   "execution_count": null,
   "id": "executed-oriental",
   "metadata": {
    "ExecuteTime": {
     "end_time": "2021-04-06T18:32:43.052182Z",
     "start_time": "2021-04-06T18:32:42.950417Z"
    }
   },
   "outputs": [],
   "source": [
    "f_shark.loc[(f_shark['country'].isnull()) & (f_shark['area'].isnull()) & (f_shark['location'].isnull()), :].shape"
   ]
  },
  {
   "cell_type": "code",
   "execution_count": null,
   "id": "decimal-transaction",
   "metadata": {
    "ExecuteTime": {
     "end_time": "2021-04-06T18:32:43.147886Z",
     "start_time": "2021-04-06T18:32:43.056147Z"
    }
   },
   "outputs": [],
   "source": [
    "# verificando linhas sem informação de país\n",
    "\n",
    "f_shark.loc[(f_shark['country'].isnull()) & (~(f_shark['area'].isnull()) | ~(f_shark['location'].isnull())), ['country', 'area', 'location']]"
   ]
  },
  {
   "cell_type": "code",
   "execution_count": null,
   "id": "fossil-monitor",
   "metadata": {
    "ExecuteTime": {
     "end_time": "2021-04-06T18:32:43.227700Z",
     "start_time": "2021-04-06T18:32:43.149882Z"
    }
   },
   "outputs": [],
   "source": [
    "# substituindo campos 'country' nulos por informações das colunas 'area' ou 'location'\n",
    "\n",
    "f_shark.loc[(f_shark['country'].isnull()) & ((f_shark['area']=='St Helena') | ~(f_shark['area'].isnull())), 'country'] = f_shark.loc[(f_shark['country'].isnull()) & ((f_shark['area']=='St Helena') | ~(f_shark['area'].isnull())), 'area']\n",
    "f_shark.loc[(f_shark['country'].isnull()) & ~(f_shark['location'].isnull()), 'country'] = f_shark.loc[(f_shark['country'].isnull()) & ~(f_shark['location'].isnull()), 'location']"
   ]
  },
  {
   "cell_type": "code",
   "execution_count": null,
   "id": "biological-cancellation",
   "metadata": {
    "ExecuteTime": {
     "end_time": "2021-04-06T18:32:43.338380Z",
     "start_time": "2021-04-06T18:32:43.229668Z"
    }
   },
   "outputs": [],
   "source": [
    "# ajustando nomes de paises\n",
    "\n",
    "f_shark.loc[~(f_shark['country'].isnull()), 'country'] = f_shark.loc[~(f_shark['country'].isnull()), 'country'].apply(lambda place: re.sub(' ?[\\/\\(,].*', '', str(place).upper()) if len(str(place))>0 else None)\n",
    "f_shark.loc[~(f_shark['country'].isnull()), 'country'] = f_shark.loc[~(f_shark['country'].isnull()), 'country'].str.lstrip(' ')\n",
    "f_shark.loc[~(f_shark['country'].isnull()), 'country'] = f_shark.loc[~(f_shark['country'].isnull()), 'country'].str.rstrip('[ ?]')"
   ]
  },
  {
   "cell_type": "code",
   "execution_count": null,
   "id": "mexican-mineral",
   "metadata": {
    "ExecuteTime": {
     "end_time": "2021-04-06T18:32:43.402206Z",
     "start_time": "2021-04-06T18:32:43.340372Z"
    }
   },
   "outputs": [],
   "source": [
    "# Verificando os nomes dos países\n",
    "\n",
    "paises = sorted(list(f_shark['country'].value_counts().index))\n",
    "print(paises)"
   ]
  },
  {
   "cell_type": "code",
   "execution_count": null,
   "id": "continent-module",
   "metadata": {
    "ExecuteTime": {
     "end_time": "2021-04-06T18:32:43.513914Z",
     "start_time": "2021-04-06T18:32:43.404202Z"
    }
   },
   "outputs": [],
   "source": [
    "# agrupando alguns países\n",
    "\n",
    "f_shark.loc[f_shark['country'] == '225 MILES EAST OF HONG KONG', 'country'] = 'HONG KONG'\n",
    "f_shark.loc[f_shark['country'] == '300 MILES EAST OF ST. THOMAS', 'country'] = 'ST. THOMAS'\n",
    "f_shark.loc[f_shark['country'] == 'TOBAGO', 'country'] = 'TRINIDAD & TOBAGO'\n",
    "f_shark.loc[f_shark['country'] == 'REUNION ISLAND', 'country'] = 'REUNION'\n",
    "f_shark.loc[f_shark['country'] == 'NEW GUINEA', 'country'] = 'PAPUA NEW GUINEA'\n",
    "f_shark.loc[f_shark['country'] == 'BRITISH NEW GUINEA', 'country'] = 'PAPUA NEW GUINEA'\n",
    "f_shark.loc[f_shark['country'] == 'OKINAWA', 'country'] = 'JAPAN'\n",
    "f_shark.loc[f_shark['country'] == 'ST. MAARTIN', 'country'] = 'ST. MARTIN'\n",
    "f_shark.loc[f_shark['country'] == 'SOUTH CHINA SEA', 'country'] = 'CHINA'\n",
    "f_shark.loc[f_shark['country'] == 'BETWEEN COMORES & MADAGASCAR', 'country'] = 'MADAGASCAR'\n",
    "f_shark.loc[f_shark['country'] == 'BETWEEN PORTUGAL & INDIA', 'country'] = 'PORTUGAL'\n",
    "f_shark.loc[f_shark['country'] == 'BETWEEN TIMOR & DARWIN, AUSTRALIA', 'country'] = 'AUSTRALIA'\n",
    "f_shark.loc[f_shark['country'] == 'MALDIVE ISLANDS', 'country'] = 'MALDIVES'\n",
    "f_shark.loc[f_shark['country'] == 'GULF OF CALIFORNIA', 'country'] = 'USA'\n",
    "f_shark.loc[f_shark['country'] == 'FLORIDA STRAIT', 'country'] = 'USA'\n",
    "f_shark.loc[f_shark['country'] == 'GEORGIA', 'country'] = 'USA'\n",
    "f_shark.loc[f_shark['country'] == 'FEDERATED STATES OF MICRONESIA', 'country'] = 'MICRONESIA'\n",
    "f_shark.loc[f_shark['country'] == 'GRAND CAYMAN', 'country'] = 'CAYMAN ISLANDS'\n",
    "f_shark.loc[f_shark['country'] == 'NEAR THE ANDAMAN & NICOBAR ISLANDS', 'country'] = 'ANDAMAN'\n",
    "f_shark.loc[f_shark['country'] == 'ANDAMAN ISLANDS', 'country'] = 'ANDAMAN'\n",
    "f_shark.loc[f_shark['country'] == 'TASMAN SEA', 'country'] = 'AUSTRALIA'\n",
    "f_shark.loc[f_shark['country'] == 'CEYLON', 'country'] = 'SRI LANKA'\n",
    "f_shark.loc[f_shark['country'] == 'ENGLISH CHANNEL', 'country'] = 'UNITED KINGDOM'\n",
    "f_shark.loc[f_shark['country'] == 'BRITISH ISLES', 'country'] = 'UNITED KINGDOM'\n",
    "f_shark.loc[f_shark['country'] == 'ENGLAND', 'country'] = 'UNITED KINGDOM'\n",
    "f_shark.loc[f_shark['country'] == 'SCOTLAND', 'country'] = 'UNITED KINGDOM'\n",
    "f_shark.loc[f_shark['country'] == 'IN A RIVER FEEDING INTO THE BAY OF BENGAL', 'country'] = 'BAY OF BENGAL'"
   ]
  },
  {
   "cell_type": "code",
   "execution_count": null,
   "id": "delayed-chapter",
   "metadata": {
    "ExecuteTime": {
     "end_time": "2021-04-06T18:32:43.576740Z",
     "start_time": "2021-04-06T18:32:43.516900Z"
    }
   },
   "outputs": [],
   "source": [
    "f_shark['country'].value_counts()"
   ]
  },
  {
   "cell_type": "code",
   "execution_count": null,
   "id": "robust-client",
   "metadata": {
    "ExecuteTime": {
     "end_time": "2021-04-06T18:32:43.654559Z",
     "start_time": "2021-04-06T18:32:43.578735Z"
    }
   },
   "outputs": [],
   "source": [
    "# Verificando campos nulos\n",
    "\n",
    "f_shark['country'].isnull().sum()"
   ]
  },
  {
   "cell_type": "markdown",
   "id": "decimal-declaration",
   "metadata": {},
   "source": [
    "## Agrupado em dados de oceanos/mar"
   ]
  },
  {
   "cell_type": "code",
   "execution_count": null,
   "id": "negative-bouquet",
   "metadata": {
    "ExecuteTime": {
     "end_time": "2021-04-06T18:32:43.749707Z",
     "start_time": "2021-04-06T18:32:43.656526Z"
    }
   },
   "outputs": [],
   "source": [
    "f_shark['ocean']=f_shark['country']"
   ]
  },
  {
   "cell_type": "code",
   "execution_count": null,
   "id": "developing-leone",
   "metadata": {
    "ExecuteTime": {
     "end_time": "2021-04-06T18:32:43.845449Z",
     "start_time": "2021-04-06T18:32:43.751702Z"
    }
   },
   "outputs": [],
   "source": [
    "oceano = 'OCEAN|SEA|BAY|GULF'\n",
    "\n",
    "lista = sorted(list(f_shark.loc[~(f_shark['ocean'].isnull()), 'ocean'].apply(lambda pais: pais if re.search(oceano, pais.upper()) else None).value_counts().index))\n",
    "lista"
   ]
  },
  {
   "cell_type": "code",
   "execution_count": null,
   "id": "double-interaction",
   "metadata": {
    "ExecuteTime": {
     "end_time": "2021-04-06T18:32:43.925237Z",
     "start_time": "2021-04-06T18:32:43.847445Z"
    }
   },
   "outputs": [],
   "source": [
    "## ATENÇÃO ###\n",
    "# célula destinada a verificar dados de uma linha específica\n",
    "\n",
    "f_shark.loc[f_shark['ocean']=='PALESTINIAN TERRITORIES', :]"
   ]
  },
  {
   "cell_type": "markdown",
   "id": "applied-contributor",
   "metadata": {},
   "source": [
    "###  Filtrando oceanos pelas colunas oceano e área"
   ]
  },
  {
   "cell_type": "code",
   "execution_count": null,
   "id": "unique-composer",
   "metadata": {
    "ExecuteTime": {
     "end_time": "2021-04-06T18:32:44.019982Z",
     "start_time": "2021-04-06T18:32:43.927232Z"
    }
   },
   "outputs": [],
   "source": [
    "# substituindo locais do Oceano Atlântico\n",
    "\n",
    "atl_keys = 'atlant|caribb|mediterr|north s'\n",
    "filtro_atl = (f_shark['ocean'].apply(lambda pais: True if re.search(atl_keys, str(pais).lower()) else False)) | (f_shark['area'].apply(lambda pais: True if re.search(atl_keys, str(pais).lower()) else False))\n",
    "f_shark.loc[filtro_atl, 'ocean'] = 'ATLANTIC OCEAN'"
   ]
  },
  {
   "cell_type": "code",
   "execution_count": null,
   "id": "classical-retail",
   "metadata": {
    "ExecuteTime": {
     "end_time": "2021-04-06T18:32:44.114768Z",
     "start_time": "2021-04-06T18:32:44.021976Z"
    }
   },
   "outputs": [],
   "source": [
    "# substituindo locais do Oceano Pacífico\n",
    "\n",
    "pcf_keys = 'pacif'\n",
    "filtro_pcf = (f_shark['ocean'].apply(lambda pais: True if re.search(pcf_keys, str(pais).lower()) else False)) | (f_shark['area'].apply(lambda pais: True if re.search(pcf_keys, str(pais).lower()) else False))\n",
    "f_shark.loc[filtro_pcf, 'ocean'] = 'PACIFIC OCEAN'"
   ]
  },
  {
   "cell_type": "code",
   "execution_count": null,
   "id": "personal-signature",
   "metadata": {
    "ExecuteTime": {
     "end_time": "2021-04-06T18:32:44.210498Z",
     "start_time": "2021-04-06T18:32:44.116724Z"
    }
   },
   "outputs": [],
   "source": [
    "# substituindo locais do Oceano Índico\n",
    "\n",
    "ind_keys = 'india|persian|red sea'\n",
    "filtro_ind = (f_shark['ocean'].apply(lambda pais: True if re.search(ind_keys, str(pais).lower()) else False)) | (f_shark['area'].apply(lambda pais: True if re.search(ind_keys, str(pais).lower()) else False))\n",
    "f_shark.loc[filtro_ind, 'ocean'] = 'INDIAN OCEAN'"
   ]
  },
  {
   "cell_type": "markdown",
   "id": "flying-poland",
   "metadata": {},
   "source": [
    "###  Filtrando oceanos por países"
   ]
  },
  {
   "cell_type": "code",
   "execution_count": null,
   "id": "infinite-stopping",
   "metadata": {
    "ExecuteTime": {
     "end_time": "2021-04-06T18:32:44.336169Z",
     "start_time": "2021-04-06T18:32:44.212467Z"
    }
   },
   "outputs": [],
   "source": [
    "#filtrando por paises no Oceano Atlântico\n",
    "\n",
    "pais_atl = 'carlisle|st helena|brazil|haiti|honduras|argentina|peru|ecuador|venezu|columbia|spain|sloven|norw|guinea|georgia|aruba|gabon|angol|belize|crete|cayman|grenada|dominic|liberia|nigeria|france|united ki|scotl|turkey|el salv|england|ireland|azor|icel|falkl|guyana|cape v|florida|namib|curacao|bahamas|roatan|antigu|bermud|portugal|ghana|sierra|thomas|barbados|cuba|jamaica|puerto|artin|tobago|caico|urug|ionian|greece|croatia|italy|israel|lebanon|malta|monaco|montenegro|balkan|tunisia|libya|syria|alger|cypr'\n",
    "\n",
    "filtro_atl = f_shark['ocean'].apply(lambda pais: True if re.search(pais_atl, str(pais).lower()) else False)\n",
    "f_shark.loc[filtro_atl, 'ocean'] = 'ATLANTIC OCEAN'"
   ]
  },
  {
   "cell_type": "code",
   "execution_count": null,
   "id": "knowing-booth",
   "metadata": {
    "ExecuteTime": {
     "end_time": "2021-04-06T18:32:44.447870Z",
     "start_time": "2021-04-06T18:32:44.338133Z"
    }
   },
   "outputs": [],
   "source": [
    "#filtrando por paises no Oceano Pacífico\n",
    "\n",
    "pais_pcf = 'china sea|tasman|^ocean|california|korea|japan|marshal|canada|kiribati|philippines|admir|tonga|asia|costa r|nicar|seneg|malay|singap|russia|mariana|hong kong|cook|johnston|solomon|guam|chile|fiji|microne|thail|palau|new brit|polyne|maldiv|zealand|samoa|okinawa|papua|new guinea|taiwan|tuvalu|vanuatu|caled|china|timor|vietn'\n",
    "\n",
    "filtro_pcf = f_shark['ocean'].apply(lambda pais: True if re.search(pais_pcf, str(pais).lower()) else False)\n",
    "f_shark.loc[filtro_pcf, 'ocean'] = 'PACIFIC OCEAN'"
   ]
  },
  {
   "cell_type": "code",
   "execution_count": null,
   "id": "descending-crossing",
   "metadata": {
    "ExecuteTime": {
     "end_time": "2021-04-06T18:32:44.572536Z",
     "start_time": "2021-04-06T18:32:44.449832Z"
    }
   },
   "outputs": [],
   "source": [
    "#filtrando por paises no Oceano Índico\n",
    "\n",
    "pais_ind = 'bengal|arabian sea|aden|madagascar|reunion|mozamb|andam|egypt|bahrein|diego g|saudi a|arab em|mayote|burma|comoros|yeme|indonesia|java|banglad|maurit|keny|djib|seyc|sri|ceyl|tanza|somal|kuwai|iran|iraq'\n",
    "\n",
    "filtro_ind = f_shark['ocean'].apply(lambda pais: True if re.search(pais_ind, str(pais).lower()) else False)\n",
    "f_shark.loc[filtro_ind, 'ocean'] = 'INDIAN OCEAN'"
   ]
  },
  {
   "cell_type": "markdown",
   "id": "distinct-watts",
   "metadata": {
    "heading_collapsed": true
   },
   "source": [
    "### Tratamento dados dos EUA "
   ]
  },
  {
   "cell_type": "code",
   "execution_count": null,
   "id": "august-planner",
   "metadata": {
    "ExecuteTime": {
     "end_time": "2021-04-06T18:32:44.683210Z",
     "start_time": "2021-04-06T18:32:44.574499Z"
    },
    "hidden": true
   },
   "outputs": [],
   "source": [
    "# filtrando dados dos EUA\n",
    "\n",
    "f_shark.loc[(f_shark['ocean']=='USA'), 'area'].value_counts()"
   ]
  },
  {
   "cell_type": "code",
   "execution_count": null,
   "id": "different-sender",
   "metadata": {
    "ExecuteTime": {
     "end_time": "2021-04-06T18:32:44.778951Z",
     "start_time": "2021-04-06T18:32:44.685204Z"
    },
    "hidden": true
   },
   "outputs": [],
   "source": [
    "f_shark.loc[(f_shark['ocean']=='USA') & (f_shark['area']=='New Mexico'), :]"
   ]
  },
  {
   "cell_type": "code",
   "execution_count": null,
   "id": "chicken-austin",
   "metadata": {
    "ExecuteTime": {
     "end_time": "2021-04-06T18:32:44.889467Z",
     "start_time": "2021-04-06T18:32:44.779949Z"
    },
    "hidden": true
   },
   "outputs": [],
   "source": [
    "# Filtrando os incidentes no lado Pacífico dos EUA\n",
    "\n",
    "usa_pcf = 'hawai|califo|alas|atoll|guam|washin|oreg'\n",
    "\n",
    "filtro_usa_pcf = (f_shark['area'].apply(lambda pais: True if re.search(usa_pcf, str(pais).lower()) else False)) & (f_shark['country']=='USA')\n",
    "f_shark.loc[filtro_usa_pcf, 'ocean'] = 'PACIFIC OCEAN'"
   ]
  },
  {
   "cell_type": "code",
   "execution_count": null,
   "id": "gentle-nelson",
   "metadata": {
    "ExecuteTime": {
     "end_time": "2021-04-06T18:32:44.969223Z",
     "start_time": "2021-04-06T18:32:44.891429Z"
    },
    "hidden": true
   },
   "outputs": [],
   "source": [
    "# Preenchendo os outros incidentes dos EUA com Atlântico\n",
    "\n",
    "f_shark.loc[(f_shark['country']=='USA') & (f_shark['ocean'] != 'PACIFIC OCEAN'), 'ocean'] = 'ATLANTIC OCEAN'"
   ]
  },
  {
   "cell_type": "markdown",
   "id": "sexual-fifty",
   "metadata": {
    "heading_collapsed": true
   },
   "source": [
    "###  Tratamento dados da Austrália"
   ]
  },
  {
   "cell_type": "code",
   "execution_count": null,
   "id": "unavailable-focus",
   "metadata": {
    "ExecuteTime": {
     "end_time": "2021-04-06T18:32:45.063361Z",
     "start_time": "2021-04-06T18:32:44.971217Z"
    },
    "hidden": true
   },
   "outputs": [],
   "source": [
    "# Verificando dados da Austrália\n",
    "\n",
    "f_shark.loc[(f_shark['ocean']=='AUSTRALIA'), 'area'].value_counts()"
   ]
  },
  {
   "cell_type": "code",
   "execution_count": null,
   "id": "intended-attention",
   "metadata": {
    "ExecuteTime": {
     "end_time": "2021-04-06T18:32:45.158570Z",
     "start_time": "2021-04-06T18:32:45.064326Z"
    },
    "hidden": true
   },
   "outputs": [],
   "source": [
    "# Filtrando os incidentes no lado Índico da Austrália\n",
    "\n",
    "aus_ind = 'western|south aus|keeling'\n",
    "\n",
    "filtro_aus_ind = (f_shark['area'].apply(lambda pais: True if re.search(aus_ind, str(pais).lower()) else False)) & (f_shark['country']=='AUSTRALIA')\n",
    "f_shark.loc[filtro_aus_ind, 'ocean'] = 'INDIAN OCEAN'"
   ]
  },
  {
   "cell_type": "code",
   "execution_count": null,
   "id": "adjusted-cholesterol",
   "metadata": {
    "ExecuteTime": {
     "end_time": "2021-04-06T18:32:45.237709Z",
     "start_time": "2021-04-06T18:32:45.160953Z"
    },
    "hidden": true
   },
   "outputs": [],
   "source": [
    "# Preenchendo os outros incidentes da Austrália com Pacífico\n",
    "\n",
    "f_shark.loc[(f_shark['country']=='AUSTRALIA') & (f_shark['ocean'] != 'INDIAN OCEAN'), 'ocean'] = 'PACIFIC OCEAN'"
   ]
  },
  {
   "cell_type": "markdown",
   "id": "encouraging-maximum",
   "metadata": {
    "heading_collapsed": true
   },
   "source": [
    "###  Tratamento dados da África do Sul"
   ]
  },
  {
   "cell_type": "code",
   "execution_count": null,
   "id": "promising-oliver",
   "metadata": {
    "ExecuteTime": {
     "end_time": "2021-04-06T18:32:45.317463Z",
     "start_time": "2021-04-06T18:32:45.239673Z"
    },
    "hidden": true
   },
   "outputs": [],
   "source": [
    "# filtrando dados da África do Sul\n",
    "\n",
    "f_shark.loc[(f_shark['ocean']=='SOUTH AFRICA'), 'area'].value_counts()"
   ]
  },
  {
   "cell_type": "code",
   "execution_count": null,
   "id": "exterior-vertical",
   "metadata": {
    "ExecuteTime": {
     "end_time": "2021-04-06T18:32:45.412940Z",
     "start_time": "2021-04-06T18:32:45.319459Z"
    },
    "hidden": true
   },
   "outputs": [],
   "source": [
    "# Filtrando os incidentes no lado Atlântico da África do Sul\n",
    "\n",
    "afs_atl = 'western|atlant'\n",
    "\n",
    "filtro_afs_atl = (f_shark['area'].apply(lambda pais: True if re.search(afs_atl, str(pais).lower()) else False)) & (f_shark['country']=='SOUTH AFRICA')\n",
    "f_shark.loc[filtro_afs_atl, 'ocean'] = 'ATLANTIC OCEAN'"
   ]
  },
  {
   "cell_type": "code",
   "execution_count": null,
   "id": "democratic-atlantic",
   "metadata": {
    "ExecuteTime": {
     "end_time": "2021-04-06T18:32:45.556025Z",
     "start_time": "2021-04-06T18:32:45.414797Z"
    },
    "hidden": true
   },
   "outputs": [],
   "source": [
    "# Preenchendo os outros incidentes da África do Sul com Índico\n",
    "\n",
    "f_shark.loc[(f_shark['country']=='SOUTH AFRICA') & (f_shark['ocean'] != 'ATLANTIC OCEAN'), 'ocean'] = 'INDIAN OCEAN'"
   ]
  },
  {
   "cell_type": "markdown",
   "id": "selected-suite",
   "metadata": {
    "heading_collapsed": true
   },
   "source": [
    "###  Tratamento dados do México"
   ]
  },
  {
   "cell_type": "code",
   "execution_count": null,
   "id": "mathematical-identity",
   "metadata": {
    "ExecuteTime": {
     "end_time": "2021-04-06T18:32:45.680698Z",
     "start_time": "2021-04-06T18:32:45.557492Z"
    },
    "hidden": true,
    "scrolled": true
   },
   "outputs": [],
   "source": [
    "# filtrando dados do México\n",
    "\n",
    "f_shark.loc[(f_shark['ocean']=='MEXICO'), 'area'].value_counts()"
   ]
  },
  {
   "cell_type": "code",
   "execution_count": null,
   "id": "physical-dublin",
   "metadata": {
    "ExecuteTime": {
     "end_time": "2021-04-06T18:32:45.804625Z",
     "start_time": "2021-04-06T18:32:45.681665Z"
    },
    "hidden": true
   },
   "outputs": [],
   "source": [
    "# Filtrando os incidentes no lado Atlântico do México\n",
    "\n",
    "mex_atl = 'vera|quint|tamau|carib|taba|campe'\n",
    "\n",
    "filtro_mex_atl = (f_shark['area'].apply(lambda pais: True if re.search(mex_atl, str(pais).lower()) else False)) & (f_shark['country']=='MEXICO')\n",
    "f_shark.loc[filtro_mex_atl, 'ocean'] = 'ATLANTIC OCEAN'"
   ]
  },
  {
   "cell_type": "code",
   "execution_count": null,
   "id": "inside-delicious",
   "metadata": {
    "ExecuteTime": {
     "end_time": "2021-04-06T18:32:45.881114Z",
     "start_time": "2021-04-06T18:32:45.806923Z"
    },
    "hidden": true
   },
   "outputs": [],
   "source": [
    "# Preenchendo os outros incidentes do México com Pacífico\n",
    "\n",
    "f_shark.loc[(f_shark['country']=='MEXICO') & (f_shark['ocean'] != 'ATLANTIC OCEAN'), 'ocean'] = 'PACIFIC OCEAN'"
   ]
  },
  {
   "cell_type": "markdown",
   "id": "aware-covering",
   "metadata": {},
   "source": [
    "###  Tratamento dados da Espanha"
   ]
  },
  {
   "cell_type": "markdown",
   "id": "declared-durham",
   "metadata": {
    "heading_collapsed": true
   },
   "source": [
    "###  Tratamento dados do Panamá"
   ]
  },
  {
   "cell_type": "code",
   "execution_count": null,
   "id": "alive-scottish",
   "metadata": {
    "ExecuteTime": {
     "end_time": "2021-04-06T18:32:45.974747Z",
     "start_time": "2021-04-06T18:32:45.882274Z"
    },
    "hidden": true
   },
   "outputs": [],
   "source": [
    "# Filtrando os incidentes no lado Pacífico do Panamá\n",
    "\n",
    "pnm_pcf = 'gulf'\n",
    "\n",
    "filtro_pnm_pcf = (f_shark['area'].apply(lambda pais: True if re.search(pnm_pcf, str(pais).lower()) else False)) & (f_shark['country']=='PANAMA')\n",
    "f_shark.loc[filtro_pnm_pcf, 'area'] = 'PACIFIC OCEAN'"
   ]
  },
  {
   "cell_type": "code",
   "execution_count": null,
   "id": "tracked-temple",
   "metadata": {
    "ExecuteTime": {
     "end_time": "2021-04-06T18:32:46.054528Z",
     "start_time": "2021-04-06T18:32:45.976747Z"
    },
    "hidden": true
   },
   "outputs": [],
   "source": [
    "# Preenchendo os outros incidentes do Panamá com Atlântico\n",
    "\n",
    "f_shark.loc[(f_shark['country']=='PANAMA') & (f_shark['ocean'] != 'PACIFIC OCEAN'), 'ocean'] = 'ATLANTIC OCEAN'"
   ]
  },
  {
   "cell_type": "markdown",
   "id": "integral-crisis",
   "metadata": {},
   "source": [
    "###  Verificação"
   ]
  },
  {
   "cell_type": "code",
   "execution_count": null,
   "id": "rapid-verification",
   "metadata": {
    "ExecuteTime": {
     "end_time": "2021-04-06T18:32:46.148693Z",
     "start_time": "2021-04-06T18:32:46.056563Z"
    }
   },
   "outputs": [],
   "source": [
    "# verificando \n",
    "\n",
    "paises = sorted(list(f_shark['ocean'].value_counts().index))\n",
    "print(paises)"
   ]
  },
  {
   "cell_type": "code",
   "execution_count": null,
   "id": "level-string",
   "metadata": {
    "ExecuteTime": {
     "end_time": "2021-04-06T18:32:46.242735Z",
     "start_time": "2021-04-06T18:32:46.150688Z"
    }
   },
   "outputs": [],
   "source": [
    "# verificando linhas sem nenhuma informação do local\n",
    "\n",
    "f_shark.loc[f_shark['ocean'].isnull(), :].shape"
   ]
  },
  {
   "cell_type": "code",
   "execution_count": null,
   "id": "funky-indonesian",
   "metadata": {
    "ExecuteTime": {
     "end_time": "2021-04-06T18:32:46.337046Z",
     "start_time": "2021-04-06T18:32:46.245727Z"
    }
   },
   "outputs": [],
   "source": [
    "f_shark['ocean'].value_counts()"
   ]
  },
  {
   "cell_type": "markdown",
   "id": "radio-nirvana",
   "metadata": {
    "heading_collapsed": true
   },
   "source": [
    "## Tratamento de mês\n",
    "\n",
    "<b> Esta frente foi abandonada !!!</b>"
   ]
  },
  {
   "cell_type": "markdown",
   "id": "later-winning",
   "metadata": {
    "hidden": true
   },
   "source": [
    "def class_per(data):\n",
    "    '''\n",
    "    '''\n",
    "    pad_mes = 'jan|feb|mar|apr|may|jun|jul|aug|sep|oct|nov|dec'\n",
    "    pad_est = 'fall|summer|winter|spring'\n",
    "    \n",
    "    if re.search(pad_mes, data.lower):\n",
    "        per = \n",
    "        return re.findall(pad_)"
   ]
  },
  {
   "cell_type": "markdown",
   "id": "positive-joshua",
   "metadata": {
    "ExecuteTime": {
     "end_time": "2021-04-06T13:41:41.044832Z",
     "start_time": "2021-04-06T13:41:40.950441Z"
    },
    "hidden": true
   },
   "source": [
    "pat_month = 'jan|feb|mar|ap[r]?|may|jun|jul|aug|sep|oct|nov|dec|fall|summer|winter|spring'\n",
    "\n",
    "f_shark['month'] = f_shark['date'].apply(lambda date: re.findall(pat_month, date.lower())[0] if re.search(pat_month, date.lower()) else 0)"
   ]
  },
  {
   "cell_type": "markdown",
   "id": "static-curve",
   "metadata": {
    "ExecuteTime": {
     "end_time": "2021-04-06T13:41:41.130684Z",
     "start_time": "2021-04-06T13:41:41.046706Z"
    },
    "hidden": true
   },
   "source": [
    "f_shark['month'].value_counts()"
   ]
  },
  {
   "cell_type": "markdown",
   "id": "daily-joint",
   "metadata": {
    "ExecuteTime": {
     "end_time": "2021-04-06T13:41:41.220156Z",
     "start_time": "2021-04-06T13:41:41.133400Z"
    },
    "hidden": true
   },
   "source": [
    "f_shark['month'] = f_shark['date'].apply(lambda date: re.sub('\\d{4}', '', date))"
   ]
  },
  {
   "cell_type": "markdown",
   "id": "developmental-indianapolis",
   "metadata": {
    "ExecuteTime": {
     "end_time": "2021-04-06T13:41:41.312560Z",
     "start_time": "2021-04-06T13:41:41.221911Z"
    },
    "hidden": true
   },
   "source": [
    "f_shark['month']"
   ]
  },
  {
   "cell_type": "markdown",
   "id": "ruled-label",
   "metadata": {
    "ExecuteTime": {
     "end_time": "2021-04-06T13:41:41.396717Z",
     "start_time": "2021-04-06T13:41:41.314460Z"
    },
    "hidden": true
   },
   "source": [
    "f_shark.loc[f_shark['month']== 0, 'date'].apply(lambda date: re.findall('\\.(\\d{2})\\.', date))"
   ]
  },
  {
   "cell_type": "markdown",
   "id": "separate-philippines",
   "metadata": {
    "ExecuteTime": {
     "end_time": "2021-04-06T13:41:41.480507Z",
     "start_time": "2021-04-06T13:41:41.399449Z"
    },
    "hidden": true
   },
   "source": [
    "f_shark.loc[f_shark['month']==0, 'date'].apply(lambda date: re.sub('\\d{4}', '', date)).value_counts()"
   ]
  },
  {
   "cell_type": "markdown",
   "id": "atlantic-transmission",
   "metadata": {
    "heading_collapsed": true
   },
   "source": [
    "## Tratamento de gênero"
   ]
  },
  {
   "cell_type": "code",
   "execution_count": null,
   "id": "proper-convert",
   "metadata": {
    "ExecuteTime": {
     "end_time": "2021-04-06T18:32:46.416837Z",
     "start_time": "2021-04-06T18:32:46.338016Z"
    },
    "hidden": true
   },
   "outputs": [],
   "source": [
    "# verificando coluna de gênero\n",
    "\n",
    "f_shark['sex'].value_counts()"
   ]
  },
  {
   "cell_type": "code",
   "execution_count": null,
   "id": "reliable-disclaimer",
   "metadata": {
    "ExecuteTime": {
     "end_time": "2021-04-06T18:32:46.512163Z",
     "start_time": "2021-04-06T18:32:46.418800Z"
    },
    "hidden": true
   },
   "outputs": [],
   "source": [
    "# verificando linhas que não possuem nem informação de gênero e nem de nome\n",
    "\n",
    "f_shark.loc[(f_shark['sex'].isnull()) & (f_shark['name'].isnull()), :]"
   ]
  },
  {
   "cell_type": "code",
   "execution_count": null,
   "id": "cooked-acceptance",
   "metadata": {
    "ExecuteTime": {
     "end_time": "2021-04-06T18:32:46.607382Z",
     "start_time": "2021-04-06T18:32:46.514151Z"
    },
    "hidden": true
   },
   "outputs": [],
   "source": [
    "# verificando se há informações de incidentes com mulheres nos registros com coluna de gênero nula e substituindo\n",
    "\n",
    "filtro_fem = f_shark.loc[(f_shark['sex'].isnull()) & ~(f_shark['name'].isnull()), 'name'].apply(lambda name: True if re.search('wom[ae]n', str(name)) else False)\n",
    "\n",
    "f_shark.loc[(f_shark['sex'].isnull()) & ~(f_shark['name'].isnull()) & filtro_fem, 'sex'] = 'F'"
   ]
  },
  {
   "cell_type": "code",
   "execution_count": null,
   "id": "formal-fifteen",
   "metadata": {
    "ExecuteTime": {
     "end_time": "2021-04-06T18:32:46.702241Z",
     "start_time": "2021-04-06T18:32:46.612274Z"
    },
    "hidden": true
   },
   "outputs": [],
   "source": [
    "# ajustando valores da coluna de gênero\n",
    "\n",
    "f_shark.loc[(f_shark['sex'] != 'M') & (f_shark['sex'] != 'F') & ~(f_shark['sex'].isnull()), 'sex'] = 'M'"
   ]
  },
  {
   "cell_type": "code",
   "execution_count": null,
   "id": "sudden-stadium",
   "metadata": {
    "ExecuteTime": {
     "end_time": "2021-04-06T18:32:46.797323Z",
     "start_time": "2021-04-06T18:32:46.703120Z"
    },
    "hidden": true
   },
   "outputs": [],
   "source": [
    "f_shark['sex'].value_counts()"
   ]
  },
  {
   "cell_type": "markdown",
   "id": "religious-there",
   "metadata": {},
   "source": [
    "## Tratamento de fatalidade"
   ]
  },
  {
   "cell_type": "code",
   "execution_count": null,
   "id": "desirable-command",
   "metadata": {
    "ExecuteTime": {
     "end_time": "2021-04-06T18:32:46.875975Z",
     "start_time": "2021-04-06T18:32:46.799281Z"
    }
   },
   "outputs": [],
   "source": [
    "f_shark['fatal'].value_counts()"
   ]
  },
  {
   "cell_type": "code",
   "execution_count": null,
   "id": "compatible-haven",
   "metadata": {
    "ExecuteTime": {
     "end_time": "2021-04-06T18:32:46.970930Z",
     "start_time": "2021-04-06T18:32:46.876948Z"
    }
   },
   "outputs": [],
   "source": [
    "# verificando dados que não tem informação de fatalidade e nem de ferimentos\n",
    "\n",
    "f_shark.loc[(f_shark['injury'].isnull()) & (f_shark['fatal'].isnull()), :]"
   ]
  },
  {
   "cell_type": "code",
   "execution_count": null,
   "id": "naval-canal",
   "metadata": {
    "ExecuteTime": {
     "end_time": "2021-04-06T18:32:47.065659Z",
     "start_time": "2021-04-06T18:32:46.975886Z"
    }
   },
   "outputs": [],
   "source": [
    "# verificando dados de fatalidade que podem ser preenchidos com informações de 'injury'\n",
    "\n",
    "f_shark.loc[~(f_shark['injury'].isnull()) & (f_shark['fatal'].isnull()), :]"
   ]
  },
  {
   "cell_type": "code",
   "execution_count": null,
   "id": "genuine-produce",
   "metadata": {
    "ExecuteTime": {
     "end_time": "2021-04-06T18:32:47.161586Z",
     "start_time": "2021-04-06T18:32:47.066637Z"
    }
   },
   "outputs": [],
   "source": [
    "# substituindo dados de fatalidade nulos por indicativos de fatalidade indentificados em 'injury'\n",
    "\n",
    "fatal_cond = 'fatal|death|mortem|dead|drown'\n",
    "\n",
    "f_shark.loc[f_shark['fatal'].isnull(), 'fatal'] = f_shark.loc[f_shark['fatal'].isnull(), 'injury'].apply(lambda desc: 'Y' if re.search(fatal_cond, str(desc).lower()) else None)\n",
    "f_shark.loc[f_shark['fatal'].isnull(), 'fatal'] = f_shark.loc[f_shark['fatal'].isnull(), 'species'].apply(lambda desc: 'Y' if re.search('death', str(desc).lower()) else None)"
   ]
  },
  {
   "cell_type": "code",
   "execution_count": null,
   "id": "comfortable-breach",
   "metadata": {
    "ExecuteTime": {
     "end_time": "2021-04-06T18:32:47.271695Z",
     "start_time": "2021-04-06T18:32:47.164526Z"
    }
   },
   "outputs": [],
   "source": [
    "# substituindo dados de fatalidade nulos por indicativos de não-fatalidade identificados em 'injury'\n",
    "\n",
    "non_fatal_cond = 'no injury'\n",
    "\n",
    "f_shark.loc[f_shark['fatal'].isnull(), 'fatal'] = f_shark.loc[f_shark['fatal'].isnull(), 'injury'].apply(lambda desc: 'N' if re.search(non_fatal_cond, str(desc).lower()) else None)"
   ]
  },
  {
   "cell_type": "code",
   "execution_count": null,
   "id": "beautiful-pricing",
   "metadata": {
    "ExecuteTime": {
     "end_time": "2021-04-06T18:32:47.365644Z",
     "start_time": "2021-04-06T18:32:47.273666Z"
    }
   },
   "outputs": [],
   "source": [
    "# verificando dados após tratamento inicial\n",
    "\n",
    "f_shark['fatal'].value_counts()"
   ]
  },
  {
   "cell_type": "code",
   "execution_count": null,
   "id": "front-sphere",
   "metadata": {
    "ExecuteTime": {
     "end_time": "2021-04-06T18:32:47.444508Z",
     "start_time": "2021-04-06T18:32:47.367640Z"
    }
   },
   "outputs": [],
   "source": [
    "# ajustando preenchimento de fatalidades e completando valores nulos com a moda\n",
    "\n",
    "f_shark.loc[(f_shark['fatal']=='y'), 'fatal'] = 'Y'\n",
    "f_shark.loc[(f_shark['fatal'] != 'Y') & (f_shark['fatal'] != 'N') & ~(f_shark['fatal'].isnull()), 'fatal'] = 'N'"
   ]
  },
  {
   "cell_type": "code",
   "execution_count": null,
   "id": "constant-dragon",
   "metadata": {
    "ExecuteTime": {
     "end_time": "2021-04-06T18:32:47.522370Z",
     "start_time": "2021-04-06T18:32:47.447500Z"
    }
   },
   "outputs": [],
   "source": [
    "# verificando dados pós-tratamento\n",
    "\n",
    "f_shark['fatal'].value_counts()"
   ]
  },
  {
   "cell_type": "markdown",
   "id": "fewer-nancy",
   "metadata": {},
   "source": [
    "##  Tratamento de células que permaneceram vazias"
   ]
  },
  {
   "cell_type": "code",
   "execution_count": null,
   "id": "rocky-wilderness",
   "metadata": {
    "ExecuteTime": {
     "end_time": "2021-04-06T18:32:47.616818Z",
     "start_time": "2021-04-06T18:32:47.523318Z"
    }
   },
   "outputs": [],
   "source": [
    "# preenchendo valores de tipos vazios com a moda\n",
    "\n",
    "f_shark.loc[(f_shark['type'].isnull()), 'type'] = f_shark['type'].mode()[0]"
   ]
  },
  {
   "cell_type": "code",
   "execution_count": null,
   "id": "literary-ireland",
   "metadata": {
    "ExecuteTime": {
     "end_time": "2021-04-06T18:32:47.696092Z",
     "start_time": "2021-04-06T18:32:47.617819Z"
    }
   },
   "outputs": [],
   "source": [
    "# preenchendo campos nulos com o valor que mais aparece\n",
    "\n",
    "f_shark.loc[f_shark['country'].isnull(), 'country'] = f_shark['country'].mode()[0]\n"
   ]
  },
  {
   "cell_type": "code",
   "execution_count": null,
   "id": "sunset-collection",
   "metadata": {
    "ExecuteTime": {
     "end_time": "2021-04-06T18:32:47.789157Z",
     "start_time": "2021-04-06T18:32:47.697939Z"
    }
   },
   "outputs": [],
   "source": [
    "# completando dados remanescentes de oceano com valor da moda\n",
    "\n",
    "resto = 'ATLANTIC OCEAN|PACIFIC OCEAN|INDIAN OCEAN'\n",
    "\n",
    "filtro_resto = f_shark['ocean'].apply(lambda oceano: False if re.search(resto, str(oceano).upper()) else True)\n",
    "f_shark.loc[filtro_resto, 'ocean'] = f_shark['ocean'].mode()[0]"
   ]
  },
  {
   "cell_type": "code",
   "execution_count": null,
   "id": "advised-begin",
   "metadata": {
    "ExecuteTime": {
     "end_time": "2021-04-06T18:32:47.883801Z",
     "start_time": "2021-04-06T18:32:47.791187Z"
    }
   },
   "outputs": [],
   "source": [
    "# preenchendo valores de gênero vazios com a moda\n",
    "\n",
    "f_shark.loc[(f_shark['sex'].isnull()), 'sex'] = f_shark['sex'].mode()[0]"
   ]
  },
  {
   "cell_type": "code",
   "execution_count": null,
   "id": "satisfied-chorus",
   "metadata": {
    "ExecuteTime": {
     "end_time": "2021-04-06T18:32:47.962994Z",
     "start_time": "2021-04-06T18:32:47.885798Z"
    }
   },
   "outputs": [],
   "source": [
    "# preenchendo valores de fatalidade vazios com a moda\n",
    "\n",
    "f_shark.loc[(f_shark['fatal'].isnull()), 'fatal'] = f_shark['fatal'].mode()[0]"
   ]
  },
  {
   "cell_type": "markdown",
   "id": "changing-craps",
   "metadata": {},
   "source": [
    "##  Buscando correlações"
   ]
  },
  {
   "cell_type": "code",
   "execution_count": null,
   "id": "excess-rebel",
   "metadata": {
    "ExecuteTime": {
     "end_time": "2021-04-06T18:32:48.056170Z",
     "start_time": "2021-04-06T18:32:47.964859Z"
    }
   },
   "outputs": [],
   "source": [
    "f_shark.shape"
   ]
  },
  {
   "cell_type": "markdown",
   "id": "fuzzy-decline",
   "metadata": {},
   "source": [
    "###  Descrição dos dados"
   ]
  },
  {
   "cell_type": "code",
   "execution_count": null,
   "id": "configured-weekly",
   "metadata": {
    "ExecuteTime": {
     "end_time": "2021-04-06T18:32:48.133857Z",
     "start_time": "2021-04-06T18:32:48.066147Z"
    }
   },
   "outputs": [],
   "source": [
    "# distribuição por tipo de incidente\n",
    "\n",
    "f_shark['type'].value_counts(normalize=True)*100"
   ]
  },
  {
   "cell_type": "code",
   "execution_count": null,
   "id": "announced-palestine",
   "metadata": {
    "ExecuteTime": {
     "end_time": "2021-04-06T18:32:48.228878Z",
     "start_time": "2021-04-06T18:32:48.138888Z"
    }
   },
   "outputs": [],
   "source": [
    "# distribuição por fatalidade\n",
    "\n",
    "f_shark['fatal'].value_counts(normalize=True)*100"
   ]
  },
  {
   "cell_type": "code",
   "execution_count": null,
   "id": "fatty-channel",
   "metadata": {
    "ExecuteTime": {
     "end_time": "2021-04-06T18:32:48.306975Z",
     "start_time": "2021-04-06T18:32:48.230875Z"
    }
   },
   "outputs": [],
   "source": [
    "# distribuição por gênero\n",
    "\n",
    "f_shark['sex'].value_counts(normalize=True)*100"
   ]
  },
  {
   "cell_type": "code",
   "execution_count": null,
   "id": "correct-treatment",
   "metadata": {
    "ExecuteTime": {
     "end_time": "2021-04-06T18:32:48.384300Z",
     "start_time": "2021-04-06T18:32:48.308972Z"
    }
   },
   "outputs": [],
   "source": [
    "# distribuição por oceano\n",
    "\n",
    "f_shark['ocean'].value_counts(normalize=True)*100"
   ]
  },
  {
   "cell_type": "markdown",
   "id": "healthy-saturn",
   "metadata": {},
   "source": [
    "###  Agrupando os dados"
   ]
  },
  {
   "cell_type": "code",
   "execution_count": null,
   "id": "uniform-german",
   "metadata": {
    "ExecuteTime": {
     "end_time": "2021-04-06T18:32:48.509612Z",
     "start_time": "2021-04-06T18:32:48.386260Z"
    }
   },
   "outputs": [],
   "source": [
    "# porcentagem de incidentes fatais (Y) e não-fatais (N) por oceano em relação ao total de registros\n",
    "\n",
    "f_shark[['fatal', 'ocean','date']].groupby(by=['ocean', 'fatal']).count()/6302*100"
   ]
  },
  {
   "cell_type": "code",
   "execution_count": null,
   "id": "helpful-musician",
   "metadata": {
    "ExecuteTime": {
     "end_time": "2021-04-06T18:32:48.588244Z",
     "start_time": "2021-04-06T18:32:48.511576Z"
    }
   },
   "outputs": [],
   "source": [
    "# porcentagem de incidentes fatais (Y) e não-fatais (N) por oceano\n",
    "\n",
    "contagem = f_shark[['fatal', 'ocean','date']].groupby(by=['ocean', 'fatal']).count().values[:,0]\n",
    "rotulo = list(f_shark[['fatal', 'ocean','date']].groupby(by=['ocean', 'fatal']).count().index)\n",
    "\n",
    "oceano = []\n",
    "fatal = []\n",
    "\n",
    "for oce, fat in rotulo:\n",
    "    oceano.append(oce)\n",
    "    fatal.append(fat)\n",
    "\n",
    "novo = np.array([oceano, fatal, contagem], dtype=object).T\n",
    "\n",
    "for i in range(len(novo)):\n",
    "    novo[i, 2] = int(novo[i, 2]/(sum(contagem*(novo[:, 0] == novo[i, 0])))*10000)/100\n",
    "    \n",
    "print(novo)"
   ]
  },
  {
   "cell_type": "code",
   "execution_count": null,
   "id": "defensive-madrid",
   "metadata": {
    "ExecuteTime": {
     "end_time": "2021-04-06T18:40:24.336702Z",
     "start_time": "2021-04-06T18:40:24.306771Z"
    }
   },
   "outputs": [],
   "source": [
    "# porcentagem de incidentes fatais (Y) e não-fatais (N) por oceano\n",
    "\n",
    "contagem = f_shark[['fatal', 'ocean','date']].groupby(by=['fatal', 'ocean']).count().values[:,0]\n",
    "rotulo = list(f_shark[['fatal', 'ocean','date']].groupby(by=['fatal', 'ocean']).count().index)\n",
    "\n",
    "oceano = []\n",
    "fatal = []\n",
    "\n",
    "for fat, oce in rotulo:\n",
    "    oceano.append(oce)\n",
    "    fatal.append(fat)\n",
    "\n",
    "novo = np.array([fatal, oceano, contagem], dtype=object).T\n",
    "\n",
    "for i in range(len(novo)):\n",
    "    novo[i, 2] = int(novo[i, 2]/(sum(contagem*(novo[:, 0] == novo[i, 0])))*10000)/100\n",
    "    \n",
    "print(novo)"
   ]
  },
  {
   "cell_type": "code",
   "execution_count": null,
   "id": "incorporate-happening",
   "metadata": {
    "ExecuteTime": {
     "end_time": "2021-04-06T18:36:01.195453Z",
     "start_time": "2021-04-06T18:36:01.020512Z"
    }
   },
   "outputs": [],
   "source": [
    "# gráfico com a quantidade de acidentes fatais (Y) e não-fatais (N) por oceano (ATL - Atlântico, IND - Índico e \n",
    "#                                                                               PAC - Pacífico)\n",
    "\n",
    "contagem = f_shark[['fatal', 'ocean','date']].groupby(by=['ocean', 'fatal']).count().values[:,0]\n",
    "rotulo = list(map(lambda label: label[0][0:3]+'-'+label[1], f_shark[['fatal', 'ocean','date']].groupby(by=['ocean', 'fatal']).count().index))\n",
    "\n",
    "plt.bar(rotulo, contagem)\n",
    "plt.xlabel('acidentes fatais (Y) e não-fatais (N) por oceano (ATL - Atlântico, IND - Índico e PAC - Pacífico)')\n",
    "plt.ylabel('nr. de registros')\n",
    "\n",
    "plt.show()"
   ]
  },
  {
   "cell_type": "markdown",
   "id": "blond-alert",
   "metadata": {
    "heading_collapsed": true
   },
   "source": [
    "###  Avaliando a influência do gênero"
   ]
  },
  {
   "cell_type": "code",
   "execution_count": null,
   "id": "curious-people",
   "metadata": {
    "ExecuteTime": {
     "end_time": "2021-04-06T18:32:48.809330Z",
     "start_time": "2021-04-06T18:32:48.780406Z"
    },
    "hidden": true,
    "scrolled": true
   },
   "outputs": [],
   "source": [
    "f_shark[['fatal', 'ocean', 'sex', 'date']].groupby(by=['sex', 'ocean', 'fatal']).count()/6302*100"
   ]
  },
  {
   "cell_type": "code",
   "execution_count": null,
   "id": "remarkable-stereo",
   "metadata": {
    "ExecuteTime": {
     "end_time": "2021-04-06T18:32:48.887501Z",
     "start_time": "2021-04-06T18:32:48.812327Z"
    },
    "hidden": true,
    "scrolled": true
   },
   "outputs": [],
   "source": [
    "f_shark.loc[(f_shark['fatal']=='N'), ['sex', 'ocean']].value_counts()"
   ]
  },
  {
   "cell_type": "code",
   "execution_count": null,
   "id": "corrected-renaissance",
   "metadata": {
    "ExecuteTime": {
     "end_time": "2021-04-06T18:32:48.981850Z",
     "start_time": "2021-04-06T18:32:48.892497Z"
    },
    "hidden": true,
    "scrolled": false
   },
   "outputs": [],
   "source": [
    "f_shark.loc[(f_shark['fatal']=='Y'), ['sex', 'ocean']].value_counts()"
   ]
  },
  {
   "cell_type": "code",
   "execution_count": null,
   "id": "loving-trading",
   "metadata": {
    "ExecuteTime": {
     "end_time": "2021-04-06T18:32:49.060373Z",
     "start_time": "2021-04-06T18:32:48.983846Z"
    },
    "hidden": true
   },
   "outputs": [],
   "source": [
    "# porcentagem de incidentes fatais (Y) e não-fatais (N) por oceano e gênero\n",
    "\n",
    "contagem = f_shark[['fatal', 'ocean','sex', 'date']].groupby(by=['fatal', 'ocean', 'sex']).count().values[:,0]\n",
    "rotulo = list(f_shark[['fatal', 'ocean', 'sex', 'date']].groupby(by=['fatal', 'ocean', 'sex']).count().index)\n",
    "\n",
    "oceano = []\n",
    "fatal = []\n",
    "genero = []\n",
    "\n",
    "for fat, oce, gen in rotulo:\n",
    "    genero.append(gen)\n",
    "    oceano.append(oce)\n",
    "    fatal.append(fat)\n",
    "\n",
    "novo = np.array([fatal, oceano, genero, contagem], dtype=object).T\n",
    "\n",
    "for i in range(len(novo)):\n",
    "    novo[i, 3] = int(novo[i, 3]/(sum(contagem*(novo[:, 0] == novo[i, 0])))*10000)/100\n",
    "    \n",
    "print(novo)"
   ]
  }
 ],
 "metadata": {
  "kernelspec": {
   "display_name": "Python 3",
   "language": "python",
   "name": "python3"
  },
  "language_info": {
   "codemirror_mode": {
    "name": "ipython",
    "version": 3
   },
   "file_extension": ".py",
   "mimetype": "text/x-python",
   "name": "python",
   "nbconvert_exporter": "python",
   "pygments_lexer": "ipython3",
   "version": "3.8.8"
  },
  "toc": {
   "base_numbering": 1,
   "nav_menu": {},
   "number_sections": true,
   "sideBar": true,
   "skip_h1_title": false,
   "title_cell": "Table of Contents",
   "title_sidebar": "Contents",
   "toc_cell": false,
   "toc_position": {},
   "toc_section_display": true,
   "toc_window_display": false
  },
  "varInspector": {
   "cols": {
    "lenName": 16,
    "lenType": 16,
    "lenVar": 40
   },
   "kernels_config": {
    "python": {
     "delete_cmd_postfix": "",
     "delete_cmd_prefix": "del ",
     "library": "var_list.py",
     "varRefreshCmd": "print(var_dic_list())"
    },
    "r": {
     "delete_cmd_postfix": ") ",
     "delete_cmd_prefix": "rm(",
     "library": "var_list.r",
     "varRefreshCmd": "cat(var_dic_list()) "
    }
   },
   "position": {
    "height": "243.4px",
    "left": "923.2px",
    "right": "20px",
    "top": "59px",
    "width": "589px"
   },
   "types_to_exclude": [
    "module",
    "function",
    "builtin_function_or_method",
    "instance",
    "_Feature"
   ],
   "window_display": false
  }
 },
 "nbformat": 4,
 "nbformat_minor": 5
}
